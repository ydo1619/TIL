{
 "cells": [
  {
   "cell_type": "markdown",
   "id": "a25e71a8",
   "metadata": {},
   "source": [
    "## 01-1 알고리즘이란?\n",
    "### 조건문과 분기 - (1)\n",
    "- 조건문이란?: 컴퓨터 과학에서 조건문(條件文, conditional)이란 프로그래머가 명시한 불린 자료형 조건이 **참**인지 **거짓**인지에 따라 달라지는 계산이나 상황을 **수행**하는 프로그래밍 언어의 특징이다.\n",
    "- **실습 1-3**\n",
    "    - 입력 받은 정숫값의 부호(양수, 음수, 0)를 판단하여 출력하는 프로그램\n",
    "    - n이 양수면 **1**이, 음수면 **2**가, 0이면 **3**이 실행됨\n",
    "    - 흐름이 3개로 분기됨"
   ]
  },
  {
   "cell_type": "code",
   "execution_count": 1,
   "id": "e8afb160",
   "metadata": {},
   "outputs": [],
   "source": [
    "# 입력받은 정수의 부호(양수, 음수, 0) 출력하기\n",
    "\n",
    "# input() 함수를 이용하여 정수를 입력받는다.\n",
    "# input() 함수의 반환값은 string 타입이다.\n",
    "# int() 함수를 이용하여 정수로 변환한다."
   ]
  },
  {
   "cell_type": "code",
   "execution_count": 2,
   "id": "61c08388",
   "metadata": {},
   "outputs": [
    {
     "name": "stdout",
     "output_type": "stream",
     "text": [
      "정수를 입력하세요3\n"
     ]
    }
   ],
   "source": [
    "num = int(input(\"정수를 입력하세요\"))"
   ]
  },
  {
   "cell_type": "code",
   "execution_count": 4,
   "id": "f66ce8ad",
   "metadata": {},
   "outputs": [],
   "source": [
    "# if elif else문을 사용하여 나머지 코드를 작성한다."
   ]
  },
  {
   "cell_type": "code",
   "execution_count": 3,
   "id": "b6cff50f",
   "metadata": {},
   "outputs": [
    {
     "name": "stdout",
     "output_type": "stream",
     "text": [
      "이 수는 양수입니다.\n"
     ]
    }
   ],
   "source": [
    "if num > 0:\n",
    "    print(\"이 수는 양수입니다.\")\n",
    "elif num < 0:\n",
    "    print(\"이 수는 양수입니다.\")\n",
    "else:\n",
    "    print(\"이 수는 0입니다.\")"
   ]
  },
  {
   "cell_type": "markdown",
   "id": "d09f8b33",
   "metadata": {},
   "source": [
    "### 조건문과 분기 - (2)\n",
    "- 실습 1-4: 분기 3개\n",
    "- 1일 때 A, 0보다 작을 때 B, 이외 C"
   ]
  },
  {
   "cell_type": "code",
   "execution_count": 8,
   "id": "80c777f7",
   "metadata": {},
   "outputs": [],
   "source": [
    "# input() 함수를 이용하여 정수를 입력받는다.\n",
    "# input() 함수의 반환값은 string 타입이다.\n",
    "# int() 함수를 이용하여 정수로 변환한다."
   ]
  },
  {
   "cell_type": "code",
   "execution_count": 6,
   "id": "4d52a963",
   "metadata": {},
   "outputs": [
    {
     "name": "stdout",
     "output_type": "stream",
     "text": [
      "정수를 입력하세요1\n"
     ]
    }
   ],
   "source": [
    "num = int(input(\"정수를 입력하세요\"))"
   ]
  },
  {
   "cell_type": "code",
   "execution_count": 7,
   "id": "e389b5e5",
   "metadata": {},
   "outputs": [],
   "source": [
    "# if elif else문을 사용하여 나머지 코드를 작성한다."
   ]
  },
  {
   "cell_type": "code",
   "execution_count": 10,
   "id": "1db0edeb",
   "metadata": {},
   "outputs": [
    {
     "name": "stdout",
     "output_type": "stream",
     "text": [
      "A\n"
     ]
    }
   ],
   "source": [
    "if num == 1:\n",
    "    print(\"A\")\n",
    "elif num < 0:\n",
    "    print(\"B\")\n",
    "else:\n",
    "    print(\"C\")"
   ]
  },
  {
   "cell_type": "markdown",
   "id": "ff31860e",
   "metadata": {},
   "source": [
    "- 실습 1-5: 분기 4개"
   ]
  },
  {
   "cell_type": "code",
   "execution_count": 3,
   "id": "3c3164b3",
   "metadata": {},
   "outputs": [
    {
     "name": "stdout",
     "output_type": "stream",
     "text": [
      "정수를 입력하세요5\n"
     ]
    }
   ],
   "source": [
    "num = int(input(\"정수를 입력하세요\"))\n",
    "\n",
    "if num == 1:\n",
    "    print(\"A\")\n",
    "elif num == 2:\n",
    "    print(\"B\")\n",
    "elif num == 3:\n",
    "    print(\"C\")"
   ]
  }
 ],
 "metadata": {
  "kernelspec": {
   "display_name": "Python 3 (ipykernel)",
   "language": "python",
   "name": "python3"
  },
  "language_info": {
   "codemirror_mode": {
    "name": "ipython",
    "version": 3
   },
   "file_extension": ".py",
   "mimetype": "text/x-python",
   "name": "python",
   "nbconvert_exporter": "python",
   "pygments_lexer": "ipython3",
   "version": "3.8.12"
  }
 },
 "nbformat": 4,
 "nbformat_minor": 5
}
