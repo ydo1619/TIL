{
 "cells": [
  {
   "cell_type": "markdown",
   "id": "89fa2f33",
   "metadata": {},
   "source": [
    "# 외부 파일 읽어오기"
   ]
  },
  {
   "cell_type": "markdown",
   "id": "26158b46",
   "metadata": {},
   "source": [
    "## CSV 파일"
   ]
  },
  {
   "cell_type": "code",
   "execution_count": 1,
   "id": "2301556a",
   "metadata": {},
   "outputs": [
    {
     "name": "stdout",
     "output_type": "stream",
     "text": [
      "   c0  c1  c2  c3\n",
      "0   0   1   4   7\n",
      "1   1   2   5   8\n",
      "2   2   3   6   9\n",
      "\n",
      "\n",
      "    0   1   2   3\n",
      "0  c0  c1  c2  c3\n",
      "1   0   1   4   7\n",
      "2   1   2   5   8\n",
      "3   2   3   6   9\n",
      "\n",
      "\n",
      "   c0  c1  c2  c3\n",
      "0   0   1   4   7\n",
      "1   1   2   5   8\n",
      "2   2   3   6   9\n",
      "\n",
      "\n",
      "    c1  c2  c3\n",
      "c0            \n",
      "0    1   4   7\n",
      "1    2   5   8\n",
      "2    3   6   9\n"
     ]
    }
   ],
   "source": [
    "import pandas as pd\n",
    "\n",
    "file_path = './data/read_csv_sample.csv'\n",
    "\n",
    "# read_csv() 함수로 데이터프레임 변환, 변수 df1에 저장\n",
    "df1 = pd.read_csv(file_path)\n",
    "print(df1)\n",
    "print('\\n')\n",
    "\n",
    "# read_csv() 함수로 데이터프레임 변환, 변수 df2에 저장. header=None 옵션\n",
    "df2 = pd.read_csv(file_path, header=None)\n",
    "print(df2)\n",
    "print('\\n')\n",
    "\n",
    "# read_csv() 함수로 데이터프레임 변환, 변수 df3에 저장. index_col=None 옵션\n",
    "df3 = pd.read_csv(file_path, index_col=None)\n",
    "print(df3)\n",
    "print('\\n')\n",
    "\n",
    "# read_csv() 함수로 데이터프레임 변환, 변수 df3에 저장. index_col='c0' 옵션\n",
    "df4 = pd.read_csv(file_path, index_col='c0')\n",
    "print(df4)"
   ]
  },
  {
   "cell_type": "markdown",
   "id": "7c2e0d10",
   "metadata": {},
   "source": [
    "## Excel 파일"
   ]
  },
  {
   "cell_type": "code",
   "execution_count": 2,
   "id": "c0fb0da4",
   "metadata": {},
   "outputs": [
    {
     "name": "stdout",
     "output_type": "stream",
     "text": [
      "  전력량 (억㎾h) 발전 전력별  1990  1991  1992  1993  1994  1995  1996  1997  ...  2007  \\\n",
      "0        남한     합계  1077  1186  1310  1444  1650  1847  2055  2244  ...  4031   \n",
      "1       NaN     수력    64    51    49    60    41    55    52    54  ...    50   \n",
      "2       NaN     화력   484   573   696   803  1022  1122  1264  1420  ...  2551   \n",
      "3       NaN    원자력   529   563   565   581   587   670   739   771  ...  1429   \n",
      "4       NaN    신재생     -     -     -     -     -     -     -     -  ...     -   \n",
      "5        북한     합계   277   263   247   221   231   230   213   193  ...   236   \n",
      "6       NaN     수력   156   150   142   133   138   142   125   107  ...   133   \n",
      "7       NaN     화력   121   113   105    88    93    88    88    86  ...   103   \n",
      "8       NaN    원자력     -     -     -     -     -     -     -     -  ...     -   \n",
      "\n",
      "   2008  2009  2010  2011  2012  2013  2014  2015  2016  \n",
      "0  4224  4336  4747  4969  5096  5171  5220  5281  5404  \n",
      "1    56    56    65    78    77    84    78    58    66  \n",
      "2  2658  2802  3196  3343  3430  3581  3427  3402  3523  \n",
      "3  1510  1478  1486  1547  1503  1388  1564  1648  1620  \n",
      "4     -     -     -     -    86   118   151   173   195  \n",
      "5   255   235   237   211   215   221   216   190   239  \n",
      "6   141   125   134   132   135   139   130   100   128  \n",
      "7   114   110   103    79    80    82    86    90   111  \n",
      "8     -     -     -     -     -     -     -     -     -  \n",
      "\n",
      "[9 rows x 29 columns]\n",
      "\n",
      "\n",
      "          0       1     2     3     4     5     6     7     8     9   ...  \\\n",
      "0  전력량 (억㎾h)  발전 전력별  1990  1991  1992  1993  1994  1995  1996  1997  ...   \n",
      "1         남한      합계  1077  1186  1310  1444  1650  1847  2055  2244  ...   \n",
      "2        NaN      수력    64    51    49    60    41    55    52    54  ...   \n",
      "3        NaN      화력   484   573   696   803  1022  1122  1264  1420  ...   \n",
      "4        NaN     원자력   529   563   565   581   587   670   739   771  ...   \n",
      "5        NaN     신재생     -     -     -     -     -     -     -     -  ...   \n",
      "6         북한      합계   277   263   247   221   231   230   213   193  ...   \n",
      "7        NaN      수력   156   150   142   133   138   142   125   107  ...   \n",
      "8        NaN      화력   121   113   105    88    93    88    88    86  ...   \n",
      "9        NaN     원자력     -     -     -     -     -     -     -     -  ...   \n",
      "\n",
      "     19    20    21    22    23    24    25    26    27    28  \n",
      "0  2007  2008  2009  2010  2011  2012  2013  2014  2015  2016  \n",
      "1  4031  4224  4336  4747  4969  5096  5171  5220  5281  5404  \n",
      "2    50    56    56    65    78    77    84    78    58    66  \n",
      "3  2551  2658  2802  3196  3343  3430  3581  3427  3402  3523  \n",
      "4  1429  1510  1478  1486  1547  1503  1388  1564  1648  1620  \n",
      "5     -     -     -     -     -    86   118   151   173   195  \n",
      "6   236   255   235   237   211   215   221   216   190   239  \n",
      "7   133   141   125   134   132   135   139   130   100   128  \n",
      "8   103   114   110   103    79    80    82    86    90   111  \n",
      "9     -     -     -     -     -     -     -     -     -     -  \n",
      "\n",
      "[10 rows x 29 columns]\n"
     ]
    }
   ],
   "source": [
    "import pandas as pd\n",
    "\n",
    "# read_excel() 함수로 데이터프레임 변환\n",
    "df1 = pd.read_excel('./data/남북한발전전력량.xlsx', engine='openpyxl')   # header=0(default 옵션)\n",
    "df2 = pd.read_excel('./data/남북한발전전력량.xlsx', engine='openpyxl', header=None)   # header 옵션 미적용\n",
    "\n",
    "# 데이터프레임 출력\n",
    "print(df1)\n",
    "print('\\n')\n",
    "print(df2)"
   ]
  },
  {
   "cell_type": "markdown",
   "id": "b00be902",
   "metadata": {},
   "source": [
    "## JSON 파일"
   ]
  },
  {
   "cell_type": "code",
   "execution_count": 3,
   "id": "5786f1c3",
   "metadata": {},
   "outputs": [
    {
     "name": "stdout",
     "output_type": "stream",
     "text": [
      "           name  year        developer opensource\n",
      "pandas           2008    Wes Mckinneye       True\n",
      "NumPy            2006  Travis Oliphant       True\n",
      "matplotlib       2003   John D. Hunter       True\n",
      "\n",
      "\n",
      "Index(['pandas', 'NumPy', 'matplotlib'], dtype='object')\n"
     ]
    }
   ],
   "source": [
    "import pandas as pd\n",
    "\n",
    "# read_json() 함수로 데이터프레임 변환\n",
    "df = pd.read_json('./read_json_sample.json')\n",
    "print(df)\n",
    "print('\\n')\n",
    "print(df.index)"
   ]
  },
  {
   "cell_type": "markdown",
   "id": "415023c7",
   "metadata": {},
   "source": [
    "# 웹(web)에서 가져오기"
   ]
  },
  {
   "cell_type": "markdown",
   "id": "c295f03f",
   "metadata": {},
   "source": [
    "## HTML 웹 페이지에서 표 속성 가져오기"
   ]
  },
  {
   "cell_type": "code",
   "execution_count": 19,
   "id": "1b5b5b68",
   "metadata": {},
   "outputs": [
    {
     "name": "stdout",
     "output_type": "stream",
     "text": [
      "2\n",
      "\n",
      "\n",
      "tables[0]\n",
      "   Unnamed: 0  c0  c1  c2  c3\n",
      "0           0   0   1   4   7\n",
      "1           1   1   2   5   8\n",
      "2           2   2   3   6   9\n",
      "\n",
      "\n",
      "tables[1]\n",
      "         name  year        developer  opensource\n",
      "0       NumPy  2006  Travis Oliphant        True\n",
      "1  matplotlib  2003   John D. Hunter        True\n",
      "2      pandas  2008    Wes Mckinneye        True\n",
      "\n",
      "\n",
      "            year        developer  opensource\n",
      "name                                         \n",
      "NumPy       2006  Travis Oliphant        True\n",
      "matplotlib  2003   John D. Hunter        True\n",
      "pandas      2008    Wes Mckinneye        True\n"
     ]
    }
   ],
   "source": [
    "import pandas as pd\n",
    "\n",
    "# HTML 파일 경로 or 웹 페이지 주소를 url 변수에 저장\n",
    "url = './sample.html'\n",
    "\n",
    "# HTML 웹페이지의 표(table)를 가져와서 데이터프레임으로 변환\n",
    "tables = pd.read_html(url)\n",
    "\n",
    "# 표(table)의 개수 확인\n",
    "print(len(tables))\n",
    "print('\\n')\n",
    "\n",
    "# tables 리스트의 원소를 interation하면서 각각 화면 출력\n",
    "for i in range(len(tables)):\n",
    "    print(\"tables[%s]\" % i)\n",
    "    print(tables[i])\n",
    "    print('\\n')\n",
    "    \n",
    "# 파이썬 패키지 정보가 들어 있는 두 번째 데이터프레임을 선택하여 df 변수에 저장\n",
    "df = tables[i]\n",
    "\n",
    "# 'name' 열을 인덱스로 지정\n",
    "df.set_index(['name'], inplace=True)\n",
    "print(df)"
   ]
  },
  {
   "cell_type": "markdown",
   "id": "3ee8166f",
   "metadata": {},
   "source": [
    "## 웹 스크래핑"
   ]
  },
  {
   "cell_type": "code",
   "execution_count": 14,
   "id": "e53f26a9",
   "metadata": {},
   "outputs": [
    {
     "name": "stdout",
     "output_type": "stream",
     "text": [
      "{}\n",
      "\n",
      "\n",
      "Empty DataFrame\n",
      "Columns: []\n",
      "Index: []\n"
     ]
    }
   ],
   "source": [
    "from bs4 import BeautifulSoup\n",
    "import requests\n",
    "import re\n",
    "import pandas as pd\n",
    "\n",
    "# 위키피디아 미국 ETF 웹 페이지에서 필요한 정보를 스크래핑하여 딕셔너리 형태로 변수 etfs에 저장\n",
    "url = \"https://en.wikipedia.org/wiki/List_of_American_exchange-traded_funds\"\n",
    "resp = requests.get(url)\n",
    "soup = BeautifulSoup(resp.text, 'lxml')   \n",
    "rows = soup.select('div > ul > li')\n",
    "    \n",
    "etfs = {}\n",
    "for row in rows:\n",
    "    \n",
    "    try:\n",
    "        etf_name = re.findall('^(.*) \\(NYSE', row.text)\n",
    "        etf_market = re.findall('\\((.*)\\|', row.text)\n",
    "        etf_ticker = re.findall('NYSE Arca\\|(.*)\\)', row.text)\n",
    "        \n",
    "        if (len(etf_ticker) > 0) & (len(etf_market) > 0) & (len(etf_name) > 0):\n",
    "            etfs[etf_ticker[0]] = [etf_market[0], etf_name[0]]\n",
    "\n",
    "    except AttributeError as err:\n",
    "        pass    \n",
    "\n",
    "# etfs 딕셔너리 출력\n",
    "print(etfs)\n",
    "print('\\n')\n",
    "\n",
    "# etfs 딕셔너리를 데이터프레임으로 변환\n",
    "df = pd.DataFrame(etfs)\n",
    "print(df)"
   ]
  },
  {
   "cell_type": "markdown",
   "id": "752ae571",
   "metadata": {},
   "source": [
    "# 데이터 저장하기"
   ]
  },
  {
   "cell_type": "markdown",
   "id": "f1da3a8b",
   "metadata": {},
   "source": [
    "## CSV 파일로 저장"
   ]
  },
  {
   "cell_type": "code",
   "execution_count": 18,
   "id": "a958c4ea",
   "metadata": {},
   "outputs": [
    {
     "name": "stdout",
     "output_type": "stream",
     "text": [
      "      algol basic c++\n",
      "name                 \n",
      "Jerry     A     C  B+\n",
      "Riah     A+     B   C\n",
      "Paul      B    B+  C+\n"
     ]
    }
   ],
   "source": [
    "import pandas as pd\n",
    "\n",
    "# 판다스 DataFrame() 함수로 데이터프레임 변환. 변수 df에 저장\n",
    "data = {'name' : ['Jerry', 'Riah', 'Paul'],\n",
    "       'algol' : [\"A\", \"A+\", \"B\"],\n",
    "       'basic' : [\"C\", \"B\", \"B+\"],\n",
    "       'c++' : [\"B+\", \"C\", \"C+\"],\n",
    "       }\n",
    "\n",
    "df = pd.DataFrame(data)\n",
    "df.set_index('name', inplace=True)   # name 열을 인덱스로 지정\n",
    "print(df)\n",
    "\n",
    "# to_csv() 메소드를 사용하여 CSV 파일로 내보내기. 파일명은 df_sample.csv 저장\n",
    "df.to_csv(\"./df_sample.csv\")"
   ]
  },
  {
   "cell_type": "markdown",
   "id": "cb77df04",
   "metadata": {},
   "source": [
    "## JSON 파일로 저장"
   ]
  },
  {
   "cell_type": "code",
   "execution_count": 20,
   "id": "236509ba",
   "metadata": {},
   "outputs": [
    {
     "name": "stdout",
     "output_type": "stream",
     "text": [
      "      algol basic c++\n",
      "name                 \n",
      "Jerry     A     C  B+\n",
      "Riah     A+     B   C\n",
      "Paul      B    B+  C+\n"
     ]
    }
   ],
   "source": [
    "import pandas as pd\n",
    "\n",
    "# 판다스 DataFrame() 함수로 데이터프레임 변환. 변수 df에 저장\n",
    "data = {'name' : ['Jerry', 'Riah', 'Paul'],\n",
    "       'algol' : [\"A\", \"A+\", \"B\"],\n",
    "       'basic' : [\"C\", \"B\", \"B+\"],\n",
    "       'c++' : [\"B+\", \"C\", \"C+\"],\n",
    "       }\n",
    "\n",
    "df = pd.DataFrame(data)\n",
    "df.set_index('name', inplace=True)   # name 열을 인덱스로 지정\n",
    "print(df)\n",
    "\n",
    "# to_csv() 메소드를 사용하여 CSV 파일로 내보내기. 파일명은 df_sample.csv 저장\n",
    "df.to_csv(\"./df_sample.json\")"
   ]
  },
  {
   "cell_type": "markdown",
   "id": "2acd5a7c",
   "metadata": {},
   "source": [
    "## Excel 파일로 저장"
   ]
  },
  {
   "cell_type": "code",
   "execution_count": 21,
   "id": "a2778a93",
   "metadata": {},
   "outputs": [
    {
     "name": "stdout",
     "output_type": "stream",
     "text": [
      "      algol basic c++\n",
      "name                 \n",
      "Jerry     A     C  B+\n",
      "Riah     A+     B   C\n",
      "Paul      B    B+  C+\n"
     ]
    }
   ],
   "source": [
    "import pandas as pd\n",
    "\n",
    "# 판다스 DataFrame() 함수로 데이터프레임 변환. 변수 df에 저장\n",
    "data = {'name' : ['Jerry', 'Riah', 'Paul'],\n",
    "       'algol' : [\"A\", \"A+\", \"B\"],\n",
    "       'basic' : [\"C\", \"B\", \"B+\"],\n",
    "       'c++' : [\"B+\", \"C\", \"C+\"],\n",
    "       }\n",
    "\n",
    "df = pd.DataFrame(data)\n",
    "df.set_index('name', inplace=True)   # name 열을 인덱스로 지정\n",
    "print(df)\n",
    "\n",
    "# to_csv() 메소드를 사용하여 CSV 파일로 내보내기. 파일명은 df_sample.csv 저장\n",
    "df.to_csv(\"./df_sample.xlsx\")"
   ]
  },
  {
   "cell_type": "markdown",
   "id": "5975b519",
   "metadata": {},
   "source": [
    "## 여러 개의 데이터프레임을 하나의 Excel 파일로 저장"
   ]
  },
  {
   "cell_type": "code",
   "execution_count": 22,
   "id": "0770ba80",
   "metadata": {},
   "outputs": [
    {
     "name": "stdout",
     "output_type": "stream",
     "text": [
      "      algol basic c++\n",
      "name                 \n",
      "Jerry     A     C  B+\n",
      "Riah     A+     B   C\n",
      "Paul      B    B+  C+\n",
      "\n",
      "\n",
      "    c1  c2  c3  c4\n",
      "c0                \n",
      "1    4   7  10  13\n",
      "2    5   8  11  14\n",
      "3    6   9  12  15\n"
     ]
    }
   ],
   "source": [
    "import pandas as pd\n",
    "\n",
    "# 판다스 DataFrame() 함수로 데이터프레임 변환. 변수 df에 저장\n",
    "data1 = {'name' : ['Jerry', 'Riah', 'Paul'],\n",
    "       'algol' : [\"A\", \"A+\", \"B\"],\n",
    "       'basic' : [\"C\", \"B\", \"B+\"],\n",
    "       'c++' : [\"B+\", \"C\", \"C+\"],\n",
    "       }\n",
    "\n",
    "data2 = {'c0' : [1,2,3],\n",
    "         'c1' : [4,5,6],\n",
    "         'c2' : [7,8,9],\n",
    "         'c3' : [10,11,12],\n",
    "         'c4' : [13,14,15]}\n",
    "\n",
    "df1 = pd.DataFrame(data1)\n",
    "df1.set_index('name', inplace=True)  # name 열을 인덱스로 지정\n",
    "print(df1)\n",
    "print('\\n')\n",
    "\n",
    "df2 = pd.DataFrame(data2)\n",
    "df2.set_index('c0', inplace=True)    # c0 열을 인덱스로 지정\n",
    "print(df2)\n",
    "\n",
    "# df1을 'sheet1'으로, df2를 'sheet2'로 지정(Excel 파일명은 \"df_excelwriter.xlsx\")\n",
    "writer = pd.ExcelWriter(\"./data/df_excelwriter.xlsx\")\n",
    "df1.to_excel(writer, sheet_name=\"sheet1\")\n",
    "df2.to_excel(writer, sheet_name=\"sheet2\")\n",
    "writer.save()"
   ]
  },
  {
   "cell_type": "code",
   "execution_count": null,
   "id": "2c28cd38",
   "metadata": {},
   "outputs": [],
   "source": []
  },
  {
   "cell_type": "code",
   "execution_count": null,
   "id": "1a052fc9",
   "metadata": {},
   "outputs": [],
   "source": []
  }
 ],
 "metadata": {
  "kernelspec": {
   "display_name": "Python 3 (ipykernel)",
   "language": "python",
   "name": "python3"
  },
  "language_info": {
   "codemirror_mode": {
    "name": "ipython",
    "version": 3
   },
   "file_extension": ".py",
   "mimetype": "text/x-python",
   "name": "python",
   "nbconvert_exporter": "python",
   "pygments_lexer": "ipython3",
   "version": "3.9.7"
  }
 },
 "nbformat": 4,
 "nbformat_minor": 5
}
