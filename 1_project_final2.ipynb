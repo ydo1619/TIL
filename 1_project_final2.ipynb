{
 "cells": [
  {
   "cell_type": "markdown",
   "id": "fd2a2c07",
   "metadata": {
    "colab": {
     "base_uri": "https://localhost:8080/"
    },
    "executionInfo": {
     "elapsed": 2207,
     "status": "ok",
     "timestamp": 1645953121164,
     "user": {
      "displayName": "박상우",
      "photoUrl": "https://lh3.googleusercontent.com/a/default-user=s64",
      "userId": "01069816878135445976"
     },
     "user_tz": -540
    },
    "id": "rE-1RRSiG4Tt",
    "outputId": "51bc32d7-6301-40d1-f473-b03691b70466"
   },
   "source": [
    "---\n",
    "# Predict Future Sales\n",
    "---\n",
    "# 0.Context\n",
    "---\n",
    "1. 데이터 불러오기\n",
    "2. Pre-EDA\n",
    "   - 1.데이터 헤더값 보기\n",
    "   - 2.shape, null확인\n",
    "   . 중복값 확인\n",
    "3. Main-EDA 분석\n",
    "   - 1.시기별 분석\n",
    "   - 2.판매량 변화 그래프\n",
    "   - 3.매장별 분석\n",
    "4. Feature engineering\n",
    "   - 1.items & cats에 대해 feature engineering\n",
    "   - 2.shops에 대해 feature engineering\n",
    "   - 3.test_train에 대해 feature engineering: outlier 처리(제거)\n",
    "   - 4.cleaning test data\n",
    "   - 5.데이터 합치기\n",
    "   - 6.df_merge에 year&month 열 추가\n",
    "   - 7.item_cnt_month 열 추가\n",
    "   - 8.Rolling (이동평균 구하기)으로 열 추가\n",
    "   - 9.avg_item_cnt_month 열 추가\n",
    "   - 10.평균관련 열 추가\n",
    "   - 11.df_merge를 picklize\n",
    "5. Modeling\n",
    "   - 1.XGboost\n",
    "   - 2.catboost\n",
    "   - 3.Random Forest\n",
    "   - 4.Linear Regression\n",
    "   - 5.AdaBoost Regressor\n",
    "   - 6.LightGBM\n",
    "   - 7.Ensemble\n",
    "# 1. 데이터 불러오기"
   ]
  },
  {
   "cell_type": "code",
   "execution_count": 63,
   "id": "59640707",
   "metadata": {
    "executionInfo": {
     "elapsed": 1622,
     "status": "ok",
     "timestamp": 1645953122781,
     "user": {
      "displayName": "박상우",
      "photoUrl": "https://lh3.googleusercontent.com/a/default-user=s64",
      "userId": "01069816878135445976"
     },
     "user_tz": -540
    },
    "id": "59640707"
   },
   "outputs": [],
   "source": [
    "import numpy as np\n",
    "import pandas as pd\n",
    "import warnings\n",
    "import seaborn as sns\n",
    "import matplotlib as mpl\n",
    "from datetime import datetime\n",
    "import matplotlib.pyplot as plt\n",
    "import matplotlib.pylab as pylab\n",
    "%matplotlib inline\n",
    "plt.rc('font',family=\"Malgun Gothic\")\n",
    "import time\n",
    "import sys\n",
    "import gc\n",
    "import pickle\n",
    "from lightgbm import LGBMRegressor\n",
    "from sklearn import tree, ensemble\n",
    "from sklearn.metrics import accuracy_score, confusion_matrix, r2_score\n",
    "from sklearn.metrics import precision_score, recall_score, f1_score, mean_squared_error\n",
    "from catboost import Pool\n",
    "from catboost import CatBoostRegressor\n",
    "from sklearn.metrics import mean_squared_error\n",
    "from sklearn.linear_model import LinearRegression, RidgeCV, LassoCV, ElasticNetCV\n",
    "from sklearn.neighbors import KNeighborsRegressor\n",
    "from sklearn.ensemble import RandomForestRegressor\n",
    "from sklearn.preprocessing import StandardScaler, MinMaxScaler, RobustScaler\n",
    "from sklearn.model_selection import cross_val_score, train_test_split, KFold\n",
    "from xgboost import XGBRegressor\n",
    "from xgboost import plot_importance\n",
    "from sklearn.ensemble import AdaBoostRegressor\n",
    "from sklearn.datasets import make_regression"
   ]
  },
  {
   "cell_type": "code",
   "execution_count": 64,
   "id": "7d657222",
   "metadata": {},
   "outputs": [],
   "source": [
    "#load data\n",
    "items=pd.read_csv(\"./data/items.csv\")\n",
    "shops=pd.read_csv(\"./data/shops.csv\")\n",
    "cats=pd.read_csv(\"./data/item_categories.csv\")\n",
    "sales_train=pd.read_csv(\"./data/sales_train.csv\")\n",
    "test=pd.read_csv(\"./data/test.csv\")"
   ]
  },
  {
   "cell_type": "markdown",
   "id": "0124ffde",
   "metadata": {},
   "source": [
    "# 2. Pre-EDA\n",
    "## 2.1. 데이터 헤드값 보기"
   ]
  },
  {
   "cell_type": "code",
   "execution_count": 65,
   "id": "cc78d8fc",
   "metadata": {},
   "outputs": [
    {
     "data": {
      "text/html": [
       "<div>\n",
       "<style scoped>\n",
       "    .dataframe tbody tr th:only-of-type {\n",
       "        vertical-align: middle;\n",
       "    }\n",
       "\n",
       "    .dataframe tbody tr th {\n",
       "        vertical-align: top;\n",
       "    }\n",
       "\n",
       "    .dataframe thead th {\n",
       "        text-align: right;\n",
       "    }\n",
       "</style>\n",
       "<table border=\"1\" class=\"dataframe\">\n",
       "  <thead>\n",
       "    <tr style=\"text-align: right;\">\n",
       "      <th></th>\n",
       "      <th>item_name</th>\n",
       "      <th>item_id</th>\n",
       "      <th>item_category_id</th>\n",
       "    </tr>\n",
       "  </thead>\n",
       "  <tbody>\n",
       "    <tr>\n",
       "      <th>0</th>\n",
       "      <td>! ВО ВЛАСТИ НАВАЖДЕНИЯ (ПЛАСТ.)         D</td>\n",
       "      <td>0</td>\n",
       "      <td>40</td>\n",
       "    </tr>\n",
       "    <tr>\n",
       "      <th>1</th>\n",
       "      <td>!ABBYY FineReader 12 Professional Edition Full...</td>\n",
       "      <td>1</td>\n",
       "      <td>76</td>\n",
       "    </tr>\n",
       "    <tr>\n",
       "      <th>2</th>\n",
       "      <td>***В ЛУЧАХ СЛАВЫ   (UNV)                    D</td>\n",
       "      <td>2</td>\n",
       "      <td>40</td>\n",
       "    </tr>\n",
       "    <tr>\n",
       "      <th>3</th>\n",
       "      <td>***ГОЛУБАЯ ВОЛНА  (Univ)                      D</td>\n",
       "      <td>3</td>\n",
       "      <td>40</td>\n",
       "    </tr>\n",
       "    <tr>\n",
       "      <th>4</th>\n",
       "      <td>***КОРОБКА (СТЕКЛО)                       D</td>\n",
       "      <td>4</td>\n",
       "      <td>40</td>\n",
       "    </tr>\n",
       "  </tbody>\n",
       "</table>\n",
       "</div>"
      ],
      "text/plain": [
       "                                           item_name  item_id  \\\n",
       "0          ! ВО ВЛАСТИ НАВАЖДЕНИЯ (ПЛАСТ.)         D        0   \n",
       "1  !ABBYY FineReader 12 Professional Edition Full...        1   \n",
       "2      ***В ЛУЧАХ СЛАВЫ   (UNV)                    D        2   \n",
       "3    ***ГОЛУБАЯ ВОЛНА  (Univ)                      D        3   \n",
       "4        ***КОРОБКА (СТЕКЛО)                       D        4   \n",
       "\n",
       "   item_category_id  \n",
       "0                40  \n",
       "1                76  \n",
       "2                40  \n",
       "3                40  \n",
       "4                40  "
      ]
     },
     "execution_count": 65,
     "metadata": {},
     "output_type": "execute_result"
    }
   ],
   "source": [
    " items.head()"
   ]
  },
  {
   "cell_type": "code",
   "execution_count": 66,
   "id": "6d1c17db",
   "metadata": {},
   "outputs": [
    {
     "data": {
      "text/html": [
       "<div>\n",
       "<style scoped>\n",
       "    .dataframe tbody tr th:only-of-type {\n",
       "        vertical-align: middle;\n",
       "    }\n",
       "\n",
       "    .dataframe tbody tr th {\n",
       "        vertical-align: top;\n",
       "    }\n",
       "\n",
       "    .dataframe thead th {\n",
       "        text-align: right;\n",
       "    }\n",
       "</style>\n",
       "<table border=\"1\" class=\"dataframe\">\n",
       "  <thead>\n",
       "    <tr style=\"text-align: right;\">\n",
       "      <th></th>\n",
       "      <th>shop_name</th>\n",
       "      <th>shop_id</th>\n",
       "    </tr>\n",
       "  </thead>\n",
       "  <tbody>\n",
       "    <tr>\n",
       "      <th>0</th>\n",
       "      <td>!Якутск Орджоникидзе, 56 фран</td>\n",
       "      <td>0</td>\n",
       "    </tr>\n",
       "    <tr>\n",
       "      <th>1</th>\n",
       "      <td>!Якутск ТЦ \"Центральный\" фран</td>\n",
       "      <td>1</td>\n",
       "    </tr>\n",
       "    <tr>\n",
       "      <th>2</th>\n",
       "      <td>Адыгея ТЦ \"Мега\"</td>\n",
       "      <td>2</td>\n",
       "    </tr>\n",
       "    <tr>\n",
       "      <th>3</th>\n",
       "      <td>Балашиха ТРК \"Октябрь-Киномир\"</td>\n",
       "      <td>3</td>\n",
       "    </tr>\n",
       "    <tr>\n",
       "      <th>4</th>\n",
       "      <td>Волжский ТЦ \"Волга Молл\"</td>\n",
       "      <td>4</td>\n",
       "    </tr>\n",
       "  </tbody>\n",
       "</table>\n",
       "</div>"
      ],
      "text/plain": [
       "                        shop_name  shop_id\n",
       "0   !Якутск Орджоникидзе, 56 фран        0\n",
       "1   !Якутск ТЦ \"Центральный\" фран        1\n",
       "2                Адыгея ТЦ \"Мега\"        2\n",
       "3  Балашиха ТРК \"Октябрь-Киномир\"        3\n",
       "4        Волжский ТЦ \"Волга Молл\"        4"
      ]
     },
     "execution_count": 66,
     "metadata": {},
     "output_type": "execute_result"
    }
   ],
   "source": [
    "shops.head()"
   ]
  },
  {
   "cell_type": "code",
   "execution_count": 67,
   "id": "37fd2dd4",
   "metadata": {},
   "outputs": [
    {
     "data": {
      "text/html": [
       "<div>\n",
       "<style scoped>\n",
       "    .dataframe tbody tr th:only-of-type {\n",
       "        vertical-align: middle;\n",
       "    }\n",
       "\n",
       "    .dataframe tbody tr th {\n",
       "        vertical-align: top;\n",
       "    }\n",
       "\n",
       "    .dataframe thead th {\n",
       "        text-align: right;\n",
       "    }\n",
       "</style>\n",
       "<table border=\"1\" class=\"dataframe\">\n",
       "  <thead>\n",
       "    <tr style=\"text-align: right;\">\n",
       "      <th></th>\n",
       "      <th>item_category_name</th>\n",
       "      <th>item_category_id</th>\n",
       "    </tr>\n",
       "  </thead>\n",
       "  <tbody>\n",
       "    <tr>\n",
       "      <th>0</th>\n",
       "      <td>PC - Гарнитуры/Наушники</td>\n",
       "      <td>0</td>\n",
       "    </tr>\n",
       "    <tr>\n",
       "      <th>1</th>\n",
       "      <td>Аксессуары - PS2</td>\n",
       "      <td>1</td>\n",
       "    </tr>\n",
       "    <tr>\n",
       "      <th>2</th>\n",
       "      <td>Аксессуары - PS3</td>\n",
       "      <td>2</td>\n",
       "    </tr>\n",
       "    <tr>\n",
       "      <th>3</th>\n",
       "      <td>Аксессуары - PS4</td>\n",
       "      <td>3</td>\n",
       "    </tr>\n",
       "    <tr>\n",
       "      <th>4</th>\n",
       "      <td>Аксессуары - PSP</td>\n",
       "      <td>4</td>\n",
       "    </tr>\n",
       "  </tbody>\n",
       "</table>\n",
       "</div>"
      ],
      "text/plain": [
       "        item_category_name  item_category_id\n",
       "0  PC - Гарнитуры/Наушники                 0\n",
       "1         Аксессуары - PS2                 1\n",
       "2         Аксессуары - PS3                 2\n",
       "3         Аксессуары - PS4                 3\n",
       "4         Аксессуары - PSP                 4"
      ]
     },
     "execution_count": 67,
     "metadata": {},
     "output_type": "execute_result"
    }
   ],
   "source": [
    "cats.head()"
   ]
  },
  {
   "cell_type": "code",
   "execution_count": 68,
   "id": "b2a20bac",
   "metadata": {},
   "outputs": [
    {
     "data": {
      "text/html": [
       "<div>\n",
       "<style scoped>\n",
       "    .dataframe tbody tr th:only-of-type {\n",
       "        vertical-align: middle;\n",
       "    }\n",
       "\n",
       "    .dataframe tbody tr th {\n",
       "        vertical-align: top;\n",
       "    }\n",
       "\n",
       "    .dataframe thead th {\n",
       "        text-align: right;\n",
       "    }\n",
       "</style>\n",
       "<table border=\"1\" class=\"dataframe\">\n",
       "  <thead>\n",
       "    <tr style=\"text-align: right;\">\n",
       "      <th></th>\n",
       "      <th>date</th>\n",
       "      <th>date_block_num</th>\n",
       "      <th>shop_id</th>\n",
       "      <th>item_id</th>\n",
       "      <th>item_price</th>\n",
       "      <th>item_cnt_day</th>\n",
       "    </tr>\n",
       "  </thead>\n",
       "  <tbody>\n",
       "    <tr>\n",
       "      <th>0</th>\n",
       "      <td>02.01.2013</td>\n",
       "      <td>0</td>\n",
       "      <td>59</td>\n",
       "      <td>22154</td>\n",
       "      <td>999.00</td>\n",
       "      <td>1.0</td>\n",
       "    </tr>\n",
       "    <tr>\n",
       "      <th>1</th>\n",
       "      <td>03.01.2013</td>\n",
       "      <td>0</td>\n",
       "      <td>25</td>\n",
       "      <td>2552</td>\n",
       "      <td>899.00</td>\n",
       "      <td>1.0</td>\n",
       "    </tr>\n",
       "    <tr>\n",
       "      <th>2</th>\n",
       "      <td>05.01.2013</td>\n",
       "      <td>0</td>\n",
       "      <td>25</td>\n",
       "      <td>2552</td>\n",
       "      <td>899.00</td>\n",
       "      <td>-1.0</td>\n",
       "    </tr>\n",
       "    <tr>\n",
       "      <th>3</th>\n",
       "      <td>06.01.2013</td>\n",
       "      <td>0</td>\n",
       "      <td>25</td>\n",
       "      <td>2554</td>\n",
       "      <td>1709.05</td>\n",
       "      <td>1.0</td>\n",
       "    </tr>\n",
       "    <tr>\n",
       "      <th>4</th>\n",
       "      <td>15.01.2013</td>\n",
       "      <td>0</td>\n",
       "      <td>25</td>\n",
       "      <td>2555</td>\n",
       "      <td>1099.00</td>\n",
       "      <td>1.0</td>\n",
       "    </tr>\n",
       "  </tbody>\n",
       "</table>\n",
       "</div>"
      ],
      "text/plain": [
       "         date  date_block_num  shop_id  item_id  item_price  item_cnt_day\n",
       "0  02.01.2013               0       59    22154      999.00           1.0\n",
       "1  03.01.2013               0       25     2552      899.00           1.0\n",
       "2  05.01.2013               0       25     2552      899.00          -1.0\n",
       "3  06.01.2013               0       25     2554     1709.05           1.0\n",
       "4  15.01.2013               0       25     2555     1099.00           1.0"
      ]
     },
     "execution_count": 68,
     "metadata": {},
     "output_type": "execute_result"
    }
   ],
   "source": [
    "sales_train.head()"
   ]
  },
  {
   "cell_type": "code",
   "execution_count": 69,
   "id": "ed5c5ac4",
   "metadata": {},
   "outputs": [
    {
     "data": {
      "text/html": [
       "<div>\n",
       "<style scoped>\n",
       "    .dataframe tbody tr th:only-of-type {\n",
       "        vertical-align: middle;\n",
       "    }\n",
       "\n",
       "    .dataframe tbody tr th {\n",
       "        vertical-align: top;\n",
       "    }\n",
       "\n",
       "    .dataframe thead th {\n",
       "        text-align: right;\n",
       "    }\n",
       "</style>\n",
       "<table border=\"1\" class=\"dataframe\">\n",
       "  <thead>\n",
       "    <tr style=\"text-align: right;\">\n",
       "      <th></th>\n",
       "      <th>ID</th>\n",
       "      <th>shop_id</th>\n",
       "      <th>item_id</th>\n",
       "    </tr>\n",
       "  </thead>\n",
       "  <tbody>\n",
       "    <tr>\n",
       "      <th>0</th>\n",
       "      <td>0</td>\n",
       "      <td>5</td>\n",
       "      <td>5037</td>\n",
       "    </tr>\n",
       "    <tr>\n",
       "      <th>1</th>\n",
       "      <td>1</td>\n",
       "      <td>5</td>\n",
       "      <td>5320</td>\n",
       "    </tr>\n",
       "    <tr>\n",
       "      <th>2</th>\n",
       "      <td>2</td>\n",
       "      <td>5</td>\n",
       "      <td>5233</td>\n",
       "    </tr>\n",
       "    <tr>\n",
       "      <th>3</th>\n",
       "      <td>3</td>\n",
       "      <td>5</td>\n",
       "      <td>5232</td>\n",
       "    </tr>\n",
       "    <tr>\n",
       "      <th>4</th>\n",
       "      <td>4</td>\n",
       "      <td>5</td>\n",
       "      <td>5268</td>\n",
       "    </tr>\n",
       "  </tbody>\n",
       "</table>\n",
       "</div>"
      ],
      "text/plain": [
       "   ID  shop_id  item_id\n",
       "0   0        5     5037\n",
       "1   1        5     5320\n",
       "2   2        5     5233\n",
       "3   3        5     5232\n",
       "4   4        5     5268"
      ]
     },
     "execution_count": 69,
     "metadata": {},
     "output_type": "execute_result"
    }
   ],
   "source": [
    "test.head()"
   ]
  },
  {
   "cell_type": "markdown",
   "id": "2eeb09f6",
   "metadata": {},
   "source": [
    "### 각 데이터 head 확인 결과\n",
    "- items.head()\n",
    " - item_name / item_id / item_category_id  \n",
    "- cats.head()  \n",
    " - item_category_name / item_category_id  \n",
    "- shops.head()  \n",
    " - shop_name / shop_id  \n",
    "- test.head()  \n",
    " - shop_id / item_id  "
   ]
  },
  {
   "cell_type": "markdown",
   "id": "8d749681",
   "metadata": {},
   "source": [
    "## 2.2. shape, null확인"
   ]
  },
  {
   "cell_type": "code",
   "execution_count": 70,
   "id": "yKCB4WEuW5rN",
   "metadata": {
    "colab": {
     "base_uri": "https://localhost:8080/"
    },
    "executionInfo": {
     "elapsed": 15,
     "status": "ok",
     "timestamp": 1645953122783,
     "user": {
      "displayName": "박상우",
      "photoUrl": "https://lh3.googleusercontent.com/a/default-user=s64",
      "userId": "01069816878135445976"
     },
     "user_tz": -540
    },
    "id": "yKCB4WEuW5rN",
    "outputId": "9cce3289-b01f-44e4-f83a-a6c8a81ef699"
   },
   "outputs": [
    {
     "name": "stdout",
     "output_type": "stream",
     "text": [
      "---shape---\n",
      "(22170, 3)\n",
      "\n",
      "---null---\n",
      "item_name           0\n",
      "item_id             0\n",
      "item_category_id    0\n",
      "dtype: int64\n",
      "----------------------\n",
      "---shape---\n",
      "(60, 2)\n",
      "\n",
      "---null---\n",
      "shop_name    0\n",
      "shop_id      0\n",
      "dtype: int64\n",
      "----------------------\n",
      "---shape---\n",
      "(84, 2)\n",
      "\n",
      "---null---\n",
      "item_category_name    0\n",
      "item_category_id      0\n",
      "dtype: int64\n",
      "----------------------\n",
      "---shape---\n",
      "(2935849, 6)\n",
      "\n",
      "---null---\n",
      "date              0\n",
      "date_block_num    0\n",
      "shop_id           0\n",
      "item_id           0\n",
      "item_price        0\n",
      "item_cnt_day      0\n",
      "dtype: int64\n",
      "----------------------\n",
      "---shape---\n",
      "(214200, 3)\n",
      "\n",
      "---null---\n",
      "ID         0\n",
      "shop_id    0\n",
      "item_id    0\n",
      "dtype: int64\n",
      "----------------------\n"
     ]
    }
   ],
   "source": [
    "df_list=[items, shops, cats, sales_train, test]\n",
    "for i in df_list:\n",
    "    print('---shape---')\n",
    "    print(i.shape)\n",
    "    print()\n",
    "    print('---null---')\n",
    "    print(i.isnull().sum())\n",
    "    print('-' * 22)"
   ]
  },
  {
   "cell_type": "markdown",
   "id": "171e8d54",
   "metadata": {
    "colab": {
     "base_uri": "https://localhost:8080/"
    },
    "executionInfo": {
     "elapsed": 5,
     "status": "ok",
     "timestamp": 1645953122783,
     "user": {
      "displayName": "박상우",
      "photoUrl": "https://lh3.googleusercontent.com/a/default-user=s64",
      "userId": "01069816878135445976"
     },
     "user_tz": -540
    },
    "id": "12c72f17",
    "outputId": "7965e7f5-7e60-4b4b-a917-3cb47373a03d"
   },
   "source": [
    "-items, shops, cats, sales_train, test는 각각 (22170, 3),(60, 2),(84, 2),(2935849, 6),(214200, 3)이고 결측치는 모두 없다."
   ]
  },
  {
   "cell_type": "markdown",
   "id": "618d3d8c",
   "metadata": {},
   "source": [
    "## 2.3. 중복값 확인 "
   ]
  },
  {
   "cell_type": "code",
   "execution_count": 71,
   "id": "014f32ee",
   "metadata": {},
   "outputs": [
    {
     "name": "stdout",
     "output_type": "stream",
     "text": [
      "----------------------\n",
      "0\n",
      "\n",
      "----------------------\n",
      "0\n",
      "\n",
      "----------------------\n",
      "0\n",
      "\n",
      "----------------------\n",
      "6\n",
      "\n",
      "----------------------\n",
      "0\n",
      "\n"
     ]
    }
   ],
   "source": [
    "#df_list=[items, shops, cats, sales_train, test]\n",
    "\n",
    "for i in df_list:\n",
    "    print('-' * 22)\n",
    "    print(sum(i.duplicated()))\n",
    "    print()"
   ]
  },
  {
   "cell_type": "markdown",
   "id": "2af74637",
   "metadata": {},
   "source": [
    "- sales_train에만 중복값이 6개 존재한다."
   ]
  },
  {
   "cell_type": "markdown",
   "id": "248de89e",
   "metadata": {},
   "source": [
    "# 3.Main-EDA 분석\n",
    "- 각 data를 시각화하여 EDA 분석을 실시한다."
   ]
  },
  {
   "cell_type": "markdown",
   "id": "273cfe68",
   "metadata": {},
   "source": [
    "## 3.1. 시기별 분석\n",
    "### 3.1.1.date 세분화\n",
    "- 각각의 연,월,일,요일로 이루어진 column을 생성해준다.\n",
    "- 생성한 column을 이용하여 시기별 판매량을 시각화한다"
   ]
  },
  {
   "cell_type": "code",
   "execution_count": 72,
   "id": "a3a37457",
   "metadata": {},
   "outputs": [
    {
     "data": {
      "text/html": [
       "<div>\n",
       "<style scoped>\n",
       "    .dataframe tbody tr th:only-of-type {\n",
       "        vertical-align: middle;\n",
       "    }\n",
       "\n",
       "    .dataframe tbody tr th {\n",
       "        vertical-align: top;\n",
       "    }\n",
       "\n",
       "    .dataframe thead th {\n",
       "        text-align: right;\n",
       "    }\n",
       "</style>\n",
       "<table border=\"1\" class=\"dataframe\">\n",
       "  <thead>\n",
       "    <tr style=\"text-align: right;\">\n",
       "      <th></th>\n",
       "      <th>date</th>\n",
       "      <th>date_block_num</th>\n",
       "      <th>shop_id</th>\n",
       "      <th>item_id</th>\n",
       "      <th>item_price</th>\n",
       "      <th>item_cnt_day</th>\n",
       "      <th>year</th>\n",
       "      <th>month</th>\n",
       "      <th>day</th>\n",
       "      <th>days</th>\n",
       "    </tr>\n",
       "  </thead>\n",
       "  <tbody>\n",
       "    <tr>\n",
       "      <th>0</th>\n",
       "      <td>2013-01-02</td>\n",
       "      <td>0</td>\n",
       "      <td>59</td>\n",
       "      <td>22154</td>\n",
       "      <td>999.00</td>\n",
       "      <td>1.0</td>\n",
       "      <td>2013</td>\n",
       "      <td>1</td>\n",
       "      <td>2</td>\n",
       "      <td>Wednesday</td>\n",
       "    </tr>\n",
       "    <tr>\n",
       "      <th>1</th>\n",
       "      <td>2013-01-03</td>\n",
       "      <td>0</td>\n",
       "      <td>25</td>\n",
       "      <td>2552</td>\n",
       "      <td>899.00</td>\n",
       "      <td>1.0</td>\n",
       "      <td>2013</td>\n",
       "      <td>1</td>\n",
       "      <td>3</td>\n",
       "      <td>Thursday</td>\n",
       "    </tr>\n",
       "    <tr>\n",
       "      <th>2</th>\n",
       "      <td>2013-01-05</td>\n",
       "      <td>0</td>\n",
       "      <td>25</td>\n",
       "      <td>2552</td>\n",
       "      <td>899.00</td>\n",
       "      <td>-1.0</td>\n",
       "      <td>2013</td>\n",
       "      <td>1</td>\n",
       "      <td>5</td>\n",
       "      <td>Saturday</td>\n",
       "    </tr>\n",
       "    <tr>\n",
       "      <th>3</th>\n",
       "      <td>2013-01-06</td>\n",
       "      <td>0</td>\n",
       "      <td>25</td>\n",
       "      <td>2554</td>\n",
       "      <td>1709.05</td>\n",
       "      <td>1.0</td>\n",
       "      <td>2013</td>\n",
       "      <td>1</td>\n",
       "      <td>6</td>\n",
       "      <td>Sunday</td>\n",
       "    </tr>\n",
       "    <tr>\n",
       "      <th>4</th>\n",
       "      <td>2013-01-15</td>\n",
       "      <td>0</td>\n",
       "      <td>25</td>\n",
       "      <td>2555</td>\n",
       "      <td>1099.00</td>\n",
       "      <td>1.0</td>\n",
       "      <td>2013</td>\n",
       "      <td>1</td>\n",
       "      <td>15</td>\n",
       "      <td>Tuesday</td>\n",
       "    </tr>\n",
       "  </tbody>\n",
       "</table>\n",
       "</div>"
      ],
      "text/plain": [
       "        date  date_block_num  shop_id  item_id  item_price  item_cnt_day  \\\n",
       "0 2013-01-02               0       59    22154      999.00           1.0   \n",
       "1 2013-01-03               0       25     2552      899.00           1.0   \n",
       "2 2013-01-05               0       25     2552      899.00          -1.0   \n",
       "3 2013-01-06               0       25     2554     1709.05           1.0   \n",
       "4 2013-01-15               0       25     2555     1099.00           1.0   \n",
       "\n",
       "   year  month  day       days  \n",
       "0  2013      1    2  Wednesday  \n",
       "1  2013      1    3   Thursday  \n",
       "2  2013      1    5   Saturday  \n",
       "3  2013      1    6     Sunday  \n",
       "4  2013      1   15    Tuesday  "
      ]
     },
     "execution_count": 72,
     "metadata": {},
     "output_type": "execute_result"
    }
   ],
   "source": [
    "sales_train['date'] = sales_train['date'].map(lambda x: datetime.strptime(x, '%d.%m.%Y'))\n",
    "sales_train['year'] = pd.to_datetime(sales_train['date']).dt.year\n",
    "sales_train['month'] = pd.to_datetime(sales_train['date']).dt.month\n",
    "sales_train['day'] = pd.to_datetime(sales_train['date']).dt.day\n",
    "sales_train['days'] = pd.to_datetime(sales_train.date).dt.day_name()\n",
    "sales_train.head()"
   ]
  },
  {
   "cell_type": "markdown",
   "id": "6063eaea",
   "metadata": {},
   "source": [
    "### 3.1.2.월간 판매량 "
   ]
  },
  {
   "cell_type": "code",
   "execution_count": 73,
   "id": "94a9ef5a",
   "metadata": {},
   "outputs": [],
   "source": [
    "eda_sales = sales_train.copy()\n",
    "feat_idx = ['date','date_block_num','shop_id', 'item_id','month','day','year','days']\n",
    "df1 = sales_train.groupby(feat_idx, as_index=False).agg({'item_cnt_day':'sum'})\n",
    "df1 = df1.rename(columns={'item_cnt_day':'item_cnt_month'})\n",
    "df1.reset_index(inplace=True)\n",
    "eda_sales = pd.merge(eda_sales, df1, how='left')"
   ]
  },
  {
   "cell_type": "code",
   "execution_count": 74,
   "id": "50025025",
   "metadata": {},
   "outputs": [],
   "source": [
    "monthly_sum = eda_sales.groupby(['year','month']).agg({'item_cnt_month': 'sum'})\n",
    "monthly_sum.reset_index(inplace=True)"
   ]
  },
  {
   "cell_type": "code",
   "execution_count": 75,
   "id": "5a90f11f",
   "metadata": {
    "scrolled": false
   },
   "outputs": [
    {
     "data": {
      "text/plain": [
       "Text(0, 0.5, '총 판매량')"
      ]
     },
     "execution_count": 75,
     "metadata": {},
     "output_type": "execute_result"
    },
    {
     "data": {
      "image/png": "[encoded data removed]",
      "text/plain": [
       "<Figure size 792x360 with 1 Axes>"
      ]
     },
     "metadata": {
      "needs_background": "light"
     },
     "output_type": "display_data"
    }
   ],
   "source": [
    "plt.rc('font', size=13)\n",
    "figure, ax = plt.subplots() \n",
    "figure.set_size_inches(11, 5)\n",
    "plt.title(\"월 판매량\")\n",
    "sns.barplot(x='month', y='item_cnt_month', data = monthly_sum, palette='Paired')\n",
    "plt.xlabel('월')\n",
    "plt.ylabel('총 판매량')"
   ]
  },
  {
   "cell_type": "markdown",
   "id": "a6ad5366",
   "metadata": {},
   "source": [
    "### 3.1.3.요일별 판매량 "
   ]
  },
  {
   "cell_type": "code",
   "execution_count": 76,
   "id": "2b5a24cf",
   "metadata": {},
   "outputs": [
    {
     "data": {
      "text/html": [
       "<div>\n",
       "<style scoped>\n",
       "    .dataframe tbody tr th:only-of-type {\n",
       "        vertical-align: middle;\n",
       "    }\n",
       "\n",
       "    .dataframe tbody tr th {\n",
       "        vertical-align: top;\n",
       "    }\n",
       "\n",
       "    .dataframe thead th {\n",
       "        text-align: right;\n",
       "    }\n",
       "</style>\n",
       "<table border=\"1\" class=\"dataframe\">\n",
       "  <thead>\n",
       "    <tr style=\"text-align: right;\">\n",
       "      <th></th>\n",
       "      <th>year</th>\n",
       "      <th>days</th>\n",
       "      <th>item_cnt_month</th>\n",
       "    </tr>\n",
       "  </thead>\n",
       "  <tbody>\n",
       "    <tr>\n",
       "      <th>0</th>\n",
       "      <td>2013</td>\n",
       "      <td>Friday</td>\n",
       "      <td>239355.0</td>\n",
       "    </tr>\n",
       "    <tr>\n",
       "      <th>1</th>\n",
       "      <td>2013</td>\n",
       "      <td>Monday</td>\n",
       "      <td>169289.0</td>\n",
       "    </tr>\n",
       "    <tr>\n",
       "      <th>2</th>\n",
       "      <td>2013</td>\n",
       "      <td>Saturday</td>\n",
       "      <td>320326.0</td>\n",
       "    </tr>\n",
       "    <tr>\n",
       "      <th>3</th>\n",
       "      <td>2013</td>\n",
       "      <td>Sunday</td>\n",
       "      <td>267588.0</td>\n",
       "    </tr>\n",
       "    <tr>\n",
       "      <th>4</th>\n",
       "      <td>2013</td>\n",
       "      <td>Thursday</td>\n",
       "      <td>192795.0</td>\n",
       "    </tr>\n",
       "  </tbody>\n",
       "</table>\n",
       "</div>"
      ],
      "text/plain": [
       "   year      days  item_cnt_month\n",
       "0  2013    Friday        239355.0\n",
       "1  2013    Monday        169289.0\n",
       "2  2013  Saturday        320326.0\n",
       "3  2013    Sunday        267588.0\n",
       "4  2013  Thursday        192795.0"
      ]
     },
     "execution_count": 76,
     "metadata": {},
     "output_type": "execute_result"
    }
   ],
   "source": [
    "# days별 총 판매량\n",
    "monthly_days_sum = eda_sales.groupby(['year','days'], as_index=False).agg({'item_cnt_month':'sum'}).sort_values(['year'])\n",
    "monthly_days_sum.head()"
   ]
  },
  {
   "cell_type": "code",
   "execution_count": 77,
   "id": "05c1bab3",
   "metadata": {},
   "outputs": [],
   "source": [
    "#요일별로 정렬하기\n",
    "from pandas.api.types import CategoricalDtype\n",
    "weekday_order = CategoricalDtype(['Monday', 'Tuesday', 'Wednesday', 'Thursday', 'Friday', 'Saturday', 'Sunday'], ordered=True)\n",
    "monthly_days_sum['days'] = monthly_days_sum['days'].astype(weekday_order)"
   ]
  },
  {
   "cell_type": "code",
   "execution_count": 78,
   "id": "1ec3bce7",
   "metadata": {},
   "outputs": [
    {
     "data": {
      "text/plain": [
       "Text(0, 0.5, 'item_cnt_days')"
      ]
     },
     "execution_count": 78,
     "metadata": {},
     "output_type": "execute_result"
    },
    {
     "data": {
      "image/png": "[encoded data removed]",
      "text/plain": [
       "<Figure size 1080x576 with 1 Axes>"
      ]
     },
     "metadata": {
      "needs_background": "light"
     },
     "output_type": "display_data"
    }
   ],
   "source": [
    "plt.figure(figsize = (15,8))\n",
    "plt.title(\"Sales of days\")\n",
    "sns.barplot(x='days', y='item_cnt_month', hue='year', data = monthly_days_sum, palette='Paired')\n",
    "plt.xlabel('days')\n",
    "plt.ylabel('item_cnt_days')"
   ]
  },
  {
   "cell_type": "markdown",
   "id": "be3f5630",
   "metadata": {},
   "source": [
    "### EDA 판매량 평가\n",
    "- EDA 결과 판매량 top 3 : 1) 12월 2) 11월 3) 1월\n",
    "- 검색결과 러시아에서는 1월1일, 설날이 최대 명절로 크리스마스를 포함하여 약 7일간의 휴가를 보낸다. 크리스마스는 1월 7일로 원래 12월25일보다 13일 늦은 크리스마스를 지낸다. 따라서 이를 위해 가족, 친구 등 선물등과 파티 용품 등을 많이 구입하는 것으로 소비심리가 12월~1월에 증가한 것으로 보인다. 또한 러시아 거대한 행사인 겨울 축제가 12월 중순에서 1월 중순까지 진행한다. 이로 인해 관광객 등의 유입으로 판매량 증가에 일조한 것으로도 보인다. \n",
    "- 11월에는 러시아의 블랙 프라이데이가 있다. 11월 마지막주 금요일이 있는 주에 끝나며 그 전 주부터 시작한다. 총 2주간 진행된다.\n",
    "- 따라서 이 자료를 통해서 계절성이 있다는 것과 점점 소비자의 소비 심리가 각 년도 대비하여 감소하고 있는 추세를 알 수 있다.\n",
    "\n",
    "- 연도별 요일 판매량 EDA조사 결과\n",
    "    - 주말이 시작되는 금요일부터 토요일, 일요일 순으로 판매량이 제일 많은 것으로 보인다\n",
    "    - 비지니스 측면으로 홍보 및 이벤트를 주말을 위한 것으로 구상하면 좋을 것으로 판단"
   ]
  },
  {
   "cell_type": "markdown",
   "id": "0c29fe5b",
   "metadata": {},
   "source": [
    "## 3.2.판매량 변화 그래프\n",
    "- 시간의 흐름에 따라 변화대는 판매량을 확인한다."
   ]
  },
  {
   "cell_type": "code",
   "execution_count": 79,
   "id": "c087ad29",
   "metadata": {},
   "outputs": [],
   "source": [
    "date_block_sum = eda_sales.groupby([\"date_block_num\"])[\"item_cnt_month\"].sum()\n",
    "date_block_sum = date_block_sum.astype('float')"
   ]
  },
  {
   "cell_type": "code",
   "execution_count": 80,
   "id": "17f6d174",
   "metadata": {},
   "outputs": [
    {
     "data": {
      "image/png": "[encoded data removed]",
      "text/plain": [
       "<Figure size 1152x576 with 1 Axes>"
      ]
     },
     "metadata": {
      "needs_background": "light"
     },
     "output_type": "display_data"
    }
   ],
   "source": [
    "plt.rc('font',family = 'Malgun Gothic')\n",
    "plt.figure(figsize=(16,8))\n",
    "plt.title('sales volume change')\n",
    "plt.xlabel('시간')\n",
    "plt.ylabel('판매량')\n",
    "plt.plot(date_block_sum);"
   ]
  },
  {
   "cell_type": "code",
   "execution_count": 81,
   "id": "7c24954c",
   "metadata": {},
   "outputs": [
    {
     "data": {
      "text/plain": [
       "<matplotlib.legend.Legend at 0x1b6863c8a60>"
      ]
     },
     "execution_count": 81,
     "metadata": {},
     "output_type": "execute_result"
    },
    {
     "data": {
      "image/png": "[encoded data removed]",
      "text/plain": [
       "<Figure size 1080x432 with 1 Axes>"
      ]
     },
     "metadata": {
      "needs_background": "light"
     },
     "output_type": "display_data"
    }
   ],
   "source": [
    "plt.figure(figsize=(15,6))\n",
    "plt.plot(date_block_sum.rolling(12).mean(),label='Rolling Mean');\n",
    "plt.legend()"
   ]
  },
  {
   "cell_type": "markdown",
   "id": "d58cfb99",
   "metadata": {},
   "source": [
    "#### 의문점\n",
    "\n",
    "- 왜 2013년도 2014년도에 비해 2015년도의 판매량이 급격하게 줄었는가?\n",
    "    - 2014~2015년도에 러시아의 경제 위기가 왔었다. 2014년 기간 러시아 루블 가치가 2013년 대비 절반으로 평가절하가 일어나고 경제가 둔화(소비자 물가 상승과 국민들 실질 가처분 소득 감소). 이로인해 러시아 최대 수출 품목인 석유 가격이 2014년 6월에서 12월동안 50% 이상 감소(루블화 평가 절하로 인해 수출로 인한 이익도 감소). 이로인해 2015년도 연간 경제성장률이 -4%로 침체를 겪음."
   ]
  },
  {
   "cell_type": "markdown",
   "id": "ba62d2df",
   "metadata": {},
   "source": [
    "## 3.3.매장별 분석\n",
    "### 3.3.1.매장별 매출과 거래량 비교 "
   ]
  },
  {
   "cell_type": "code",
   "execution_count": 82,
   "id": "d74b5574",
   "metadata": {},
   "outputs": [
    {
     "data": {
      "image/png": "[encoded data removed]",
      "text/plain": [
       "<Figure size 2880x1440 with 3 Axes>"
      ]
     },
     "metadata": {
      "needs_background": "light"
     },
     "output_type": "display_data"
    }
   ],
   "source": [
    "fig = plt.figure(figsize=(40, 20))\n",
    "\n",
    "plt.title(\"매장별 매출과 거래량\",fontsize=30)\n",
    "\n",
    "ax1 = fig.add_subplot(2,1,1)\n",
    "sns.countplot(data = sales_train, x = 'shop_id', ax = ax1)\n",
    "ax1.set_xlabel(\"shop_id\",fontsize=20)\n",
    "ax1.set_ylabel(\"count\",fontsize=20)\n",
    "ax1.grid()\n",
    "\n",
    "ax2 = fig.add_subplot(2,1,2)\n",
    "sns.boxplot(data = sales_train, x='shop_id', y='item_cnt_day' , ax = ax2)\n",
    "ax2.set_xlabel(\"shop_id\",fontsize=20)\n",
    "ax2.set_ylabel(\"item_cnt_day\",fontsize=20)\n",
    "ax2.grid()"
   ]
  },
  {
   "cell_type": "markdown",
   "id": "d598fab3",
   "metadata": {},
   "source": [
    "#### 결과 해석\n",
    "- 각 매장별로 보여주는 차이로 지역과 인구밀도를 짐작할 수 있다.\n",
    "- 매장별 판매량 EDA조사 결과\n",
    " - 매장별(shop_id)\n",
    "    - shop_id 31: 모스크바 쇼핑 센터 \"Semenovsky\" 31\n",
    "    - shop_id 25: 모스크바 SEC \"아트리움\" 25\n",
    "    - shop_id 28: 모스크바 쇼핑 센터 \"MEGA Teply Stan\" II\n",
    "    - shop_id 54: 힘키(모스크바주에 있는 도시) 쇼핑 센터 \"메가\"\n",
    "    - shop_id 57: 야쿠츠크(러시아 사하 공화국의 수도) 오르조니키제, 56\n",
    " - 지역별(city)\n",
    "    - 모스코바(city:13)\n",
    "    - 야쿠츠크(러시아 사하 공화국의 수도)(city:29)\n",
    "    - 상트페테르부르크(러시아의 북서쪽에 있는 연방시)(city:19)\n",
    "    - 힘키(모스크바주에 있는 도시)(city:26)\n",
    " - 위의 결과로 러시아의 수도 중심으로 그 주변 지역의 매장에서 압도적으로 많은 판매량을 보여주고 있다."
   ]
  },
  {
   "cell_type": "markdown",
   "id": "96c6c2f7",
   "metadata": {
    "id": "96c6c2f7"
   },
   "source": [
    "# 4. Feature engineering"
   ]
  },
  {
   "cell_type": "markdown",
   "id": "7c6e3761",
   "metadata": {},
   "source": [
    "## 4.1. items & cats에 대해 feature engineering\n",
    "### 4.1.1. items와 item category 합치기"
   ]
  },
  {
   "cell_type": "code",
   "execution_count": 83,
   "id": "008d08e7",
   "metadata": {
    "colab": {
     "base_uri": "https://localhost:8080/",
     "height": 423
    },
    "executionInfo": {
     "elapsed": 4,
     "status": "ok",
     "timestamp": 1645953122783,
     "user": {
      "displayName": "박상우",
      "photoUrl": "https://lh3.googleusercontent.com/a/default-user=s64",
      "userId": "01069816878135445976"
     },
     "user_tz": -540
    },
    "id": "008d08e7",
    "outputId": "43e2fd3c-f78b-4deb-dc0f-9c562aa1e27f"
   },
   "outputs": [
    {
     "data": {
      "text/html": [
       "<div>\n",
       "<style scoped>\n",
       "    .dataframe tbody tr th:only-of-type {\n",
       "        vertical-align: middle;\n",
       "    }\n",
       "\n",
       "    .dataframe tbody tr th {\n",
       "        vertical-align: top;\n",
       "    }\n",
       "\n",
       "    .dataframe thead th {\n",
       "        text-align: right;\n",
       "    }\n",
       "</style>\n",
       "<table border=\"1\" class=\"dataframe\">\n",
       "  <thead>\n",
       "    <tr style=\"text-align: right;\">\n",
       "      <th></th>\n",
       "      <th>item_name</th>\n",
       "      <th>item_id</th>\n",
       "      <th>item_category_id</th>\n",
       "      <th>item_category_name</th>\n",
       "      <th>item_category_id_</th>\n",
       "    </tr>\n",
       "  </thead>\n",
       "  <tbody>\n",
       "    <tr>\n",
       "      <th>0</th>\n",
       "      <td>! ВО ВЛАСТИ НАВАЖДЕНИЯ (ПЛАСТ.)         D</td>\n",
       "      <td>0</td>\n",
       "      <td>40</td>\n",
       "      <td>Кино - DVD</td>\n",
       "      <td>40</td>\n",
       "    </tr>\n",
       "    <tr>\n",
       "      <th>1</th>\n",
       "      <td>!ABBYY FineReader 12 Professional Edition Full...</td>\n",
       "      <td>1</td>\n",
       "      <td>76</td>\n",
       "      <td>Программы - Для дома и офиса (Цифра)</td>\n",
       "      <td>76</td>\n",
       "    </tr>\n",
       "    <tr>\n",
       "      <th>2</th>\n",
       "      <td>***В ЛУЧАХ СЛАВЫ   (UNV)                    D</td>\n",
       "      <td>2</td>\n",
       "      <td>40</td>\n",
       "      <td>Кино - DVD</td>\n",
       "      <td>40</td>\n",
       "    </tr>\n",
       "  </tbody>\n",
       "</table>\n",
       "</div>"
      ],
      "text/plain": [
       "                                           item_name  item_id  \\\n",
       "0          ! ВО ВЛАСТИ НАВАЖДЕНИЯ (ПЛАСТ.)         D        0   \n",
       "1  !ABBYY FineReader 12 Professional Edition Full...        1   \n",
       "2      ***В ЛУЧАХ СЛАВЫ   (UNV)                    D        2   \n",
       "\n",
       "   item_category_id                    item_category_name  item_category_id_  \n",
       "0                40                            Кино - DVD                 40  \n",
       "1                76  Программы - Для дома и офиса (Цифра)                 76  \n",
       "2                40                            Кино - DVD                 40  "
      ]
     },
     "execution_count": 83,
     "metadata": {},
     "output_type": "execute_result"
    }
   ],
   "source": [
    "items = items.join(cats, on='item_category_id', rsuffix='_')\n",
    "items.head(3)"
   ]
  },
  {
   "cell_type": "markdown",
   "id": "017a6d95",
   "metadata": {},
   "source": [
    "- 아이템과 카테고리를 합한 것에 'item_category_id_'이라는 중복행이 있어 삭제해야 할 필요가 있다."
   ]
  },
  {
   "cell_type": "markdown",
   "id": "5e248654",
   "metadata": {},
   "source": [
    "#### item_category_id_라는 중복행 삭제"
   ]
  },
  {
   "cell_type": "code",
   "execution_count": 84,
   "id": "a753a906",
   "metadata": {
    "executionInfo": {
     "elapsed": 5,
     "status": "ok",
     "timestamp": 1645953122784,
     "user": {
      "displayName": "박상우",
      "photoUrl": "https://lh3.googleusercontent.com/a/default-user=s64",
      "userId": "01069816878135445976"
     },
     "user_tz": -540
    },
    "id": "a753a906"
   },
   "outputs": [
    {
     "data": {
      "text/html": [
       "<div>\n",
       "<style scoped>\n",
       "    .dataframe tbody tr th:only-of-type {\n",
       "        vertical-align: middle;\n",
       "    }\n",
       "\n",
       "    .dataframe tbody tr th {\n",
       "        vertical-align: top;\n",
       "    }\n",
       "\n",
       "    .dataframe thead th {\n",
       "        text-align: right;\n",
       "    }\n",
       "</style>\n",
       "<table border=\"1\" class=\"dataframe\">\n",
       "  <thead>\n",
       "    <tr style=\"text-align: right;\">\n",
       "      <th></th>\n",
       "      <th>item_name</th>\n",
       "      <th>item_id</th>\n",
       "      <th>item_category_id</th>\n",
       "      <th>item_category_name</th>\n",
       "    </tr>\n",
       "  </thead>\n",
       "  <tbody>\n",
       "    <tr>\n",
       "      <th>0</th>\n",
       "      <td>! ВО ВЛАСТИ НАВАЖДЕНИЯ (ПЛАСТ.)         D</td>\n",
       "      <td>0</td>\n",
       "      <td>40</td>\n",
       "      <td>Кино - DVD</td>\n",
       "    </tr>\n",
       "    <tr>\n",
       "      <th>1</th>\n",
       "      <td>!ABBYY FineReader 12 Professional Edition Full...</td>\n",
       "      <td>1</td>\n",
       "      <td>76</td>\n",
       "      <td>Программы - Для дома и офиса (Цифра)</td>\n",
       "    </tr>\n",
       "  </tbody>\n",
       "</table>\n",
       "</div>"
      ],
      "text/plain": [
       "                                           item_name  item_id  \\\n",
       "0          ! ВО ВЛАСТИ НАВАЖДЕНИЯ (ПЛАСТ.)         D        0   \n",
       "1  !ABBYY FineReader 12 Professional Edition Full...        1   \n",
       "\n",
       "   item_category_id                    item_category_name  \n",
       "0                40                            Кино - DVD  \n",
       "1                76  Программы - Для дома и офиса (Цифра)  "
      ]
     },
     "execution_count": 84,
     "metadata": {},
     "output_type": "execute_result"
    }
   ],
   "source": [
    "items.drop(\"item_category_id_\", axis = 1, inplace= True)\n",
    "items.head(2)"
   ]
  },
  {
   "cell_type": "markdown",
   "id": "6313beca",
   "metadata": {
    "executionInfo": {
     "elapsed": 5,
     "status": "ok",
     "timestamp": 1645953122784,
     "user": {
      "displayName": "박상우",
      "photoUrl": "https://lh3.googleusercontent.com/a/default-user=s64",
      "userId": "01069816878135445976"
     },
     "user_tz": -540
    },
    "id": "eed6af0e"
   },
   "source": [
    "### 4.1.2. item_type과 item_subtype 열 만들기\n",
    "#### 러시아 번역(아이템 카테고리)\n",
    "- Аксессуары -> Accessories\n",
    "- Билеты -> Tickets\n",
    "- Игровые консоли -> Game consoles\n",
    "- Кино -> Cinema\n",
    "- Игры PC -> PC games"
   ]
  },
  {
   "cell_type": "markdown",
   "id": "0be374c9",
   "metadata": {},
   "source": [
    "#### 위의 번역에 따라 item_category_name을 ('-') 기준으로 나누기"
   ]
  },
  {
   "cell_type": "code",
   "execution_count": 85,
   "id": "9a16f708",
   "metadata": {},
   "outputs": [
    {
     "data": {
      "text/html": [
       "<div>\n",
       "<style scoped>\n",
       "    .dataframe tbody tr th:only-of-type {\n",
       "        vertical-align: middle;\n",
       "    }\n",
       "\n",
       "    .dataframe tbody tr th {\n",
       "        vertical-align: top;\n",
       "    }\n",
       "\n",
       "    .dataframe thead th {\n",
       "        text-align: right;\n",
       "    }\n",
       "</style>\n",
       "<table border=\"1\" class=\"dataframe\">\n",
       "  <thead>\n",
       "    <tr style=\"text-align: right;\">\n",
       "      <th></th>\n",
       "      <th>item_name</th>\n",
       "      <th>item_id</th>\n",
       "      <th>item_category_id</th>\n",
       "      <th>item_category_name</th>\n",
       "    </tr>\n",
       "  </thead>\n",
       "  <tbody>\n",
       "    <tr>\n",
       "      <th>0</th>\n",
       "      <td>! ВО ВЛАСТИ НАВАЖДЕНИЯ (ПЛАСТ.)         D</td>\n",
       "      <td>0</td>\n",
       "      <td>40</td>\n",
       "      <td>[Кино ,  DVD]</td>\n",
       "    </tr>\n",
       "  </tbody>\n",
       "</table>\n",
       "</div>"
      ],
      "text/plain": [
       "                                   item_name  item_id  item_category_id  \\\n",
       "0  ! ВО ВЛАСТИ НАВАЖДЕНИЯ (ПЛАСТ.)         D        0                40   \n",
       "\n",
       "  item_category_name  \n",
       "0      [Кино ,  DVD]  "
      ]
     },
     "execution_count": 85,
     "metadata": {},
     "output_type": "execute_result"
    }
   ],
   "source": [
    "items['item_category_name'] = items['item_category_name'].str.split('-')\n",
    "items.head(1)"
   ]
  },
  {
   "cell_type": "markdown",
   "id": "d4da9b60",
   "metadata": {},
   "source": [
    "#### item_type열 만들기  "
   ]
  },
  {
   "cell_type": "code",
   "execution_count": 86,
   "id": "1875f5c0",
   "metadata": {
    "executionInfo": {
     "elapsed": 4,
     "status": "ok",
     "timestamp": 1645953122784,
     "user": {
      "displayName": "박상우",
      "photoUrl": "https://lh3.googleusercontent.com/a/default-user=s64",
      "userId": "01069816878135445976"
     },
     "user_tz": -540
    },
    "id": "1875f5c0"
   },
   "outputs": [
    {
     "data": {
      "text/html": [
       "<div>\n",
       "<style scoped>\n",
       "    .dataframe tbody tr th:only-of-type {\n",
       "        vertical-align: middle;\n",
       "    }\n",
       "\n",
       "    .dataframe tbody tr th {\n",
       "        vertical-align: top;\n",
       "    }\n",
       "\n",
       "    .dataframe thead th {\n",
       "        text-align: right;\n",
       "    }\n",
       "</style>\n",
       "<table border=\"1\" class=\"dataframe\">\n",
       "  <thead>\n",
       "    <tr style=\"text-align: right;\">\n",
       "      <th></th>\n",
       "      <th>item_name</th>\n",
       "      <th>item_id</th>\n",
       "      <th>item_category_id</th>\n",
       "      <th>item_category_name</th>\n",
       "      <th>item_type</th>\n",
       "    </tr>\n",
       "  </thead>\n",
       "  <tbody>\n",
       "    <tr>\n",
       "      <th>0</th>\n",
       "      <td>! ВО ВЛАСТИ НАВАЖДЕНИЯ (ПЛАСТ.)         D</td>\n",
       "      <td>0</td>\n",
       "      <td>40</td>\n",
       "      <td>[Кино ,  DVD]</td>\n",
       "      <td>Кино</td>\n",
       "    </tr>\n",
       "  </tbody>\n",
       "</table>\n",
       "</div>"
      ],
      "text/plain": [
       "                                   item_name  item_id  item_category_id  \\\n",
       "0  ! ВО ВЛАСТИ НАВАЖДЕНИЯ (ПЛАСТ.)         D        0                40   \n",
       "\n",
       "  item_category_name item_type  \n",
       "0      [Кино ,  DVD]      Кино  "
      ]
     },
     "execution_count": 86,
     "metadata": {},
     "output_type": "execute_result"
    }
   ],
   "source": [
    "items['item_type'] = items['item_category_name'].map(lambda x: x[0].strip())\n",
    "items.head(1)"
   ]
  },
  {
   "cell_type": "markdown",
   "id": "63aafa94",
   "metadata": {},
   "source": [
    "#### item_subtype열 만들기"
   ]
  },
  {
   "cell_type": "code",
   "execution_count": 87,
   "id": "aa678763",
   "metadata": {
    "executionInfo": {
     "elapsed": 416,
     "status": "ok",
     "timestamp": 1645953123196,
     "user": {
      "displayName": "박상우",
      "photoUrl": "https://lh3.googleusercontent.com/a/default-user=s64",
      "userId": "01069816878135445976"
     },
     "user_tz": -540
    },
    "id": "aa678763"
   },
   "outputs": [
    {
     "data": {
      "text/html": [
       "<div>\n",
       "<style scoped>\n",
       "    .dataframe tbody tr th:only-of-type {\n",
       "        vertical-align: middle;\n",
       "    }\n",
       "\n",
       "    .dataframe tbody tr th {\n",
       "        vertical-align: top;\n",
       "    }\n",
       "\n",
       "    .dataframe thead th {\n",
       "        text-align: right;\n",
       "    }\n",
       "</style>\n",
       "<table border=\"1\" class=\"dataframe\">\n",
       "  <thead>\n",
       "    <tr style=\"text-align: right;\">\n",
       "      <th></th>\n",
       "      <th>item_name</th>\n",
       "      <th>item_id</th>\n",
       "      <th>item_category_id</th>\n",
       "      <th>item_category_name</th>\n",
       "      <th>item_type</th>\n",
       "      <th>item_subtype</th>\n",
       "    </tr>\n",
       "  </thead>\n",
       "  <tbody>\n",
       "    <tr>\n",
       "      <th>0</th>\n",
       "      <td>! ВО ВЛАСТИ НАВАЖДЕНИЯ (ПЛАСТ.)         D</td>\n",
       "      <td>0</td>\n",
       "      <td>40</td>\n",
       "      <td>[Кино ,  DVD]</td>\n",
       "      <td>Кино</td>\n",
       "      <td>DVD</td>\n",
       "    </tr>\n",
       "  </tbody>\n",
       "</table>\n",
       "</div>"
      ],
      "text/plain": [
       "                                   item_name  item_id  item_category_id  \\\n",
       "0  ! ВО ВЛАСТИ НАВАЖДЕНИЯ (ПЛАСТ.)         D        0                40   \n",
       "\n",
       "  item_category_name item_type item_subtype  \n",
       "0      [Кино ,  DVD]      Кино          DVD  "
      ]
     },
     "execution_count": 87,
     "metadata": {},
     "output_type": "execute_result"
    }
   ],
   "source": [
    "# 더욱 세분화 하여 분류 하기\n",
    "items['item_subtype'] = items['item_category_name'].map(lambda x: x[1].strip() if len(x) > 1 else x[0].strip())\n",
    "items.head(1)\n",
    "\n",
    "# [1] Для дома и офиса (Цифра) -> For home and office (Digital)\n",
    "# [22168] Гаджеты, роботы, спорт -> Gadgets, robots, sports"
   ]
  },
  {
   "cell_type": "markdown",
   "id": "e85fb09d",
   "metadata": {},
   "source": [
    "#### 'item_category_name' 컬럼 drop\n",
    "- item_type, item_subtype열 만들고  쓸모없어진 item_category_name을 삭제한다."
   ]
  },
  {
   "cell_type": "code",
   "execution_count": 88,
   "id": "80aedcdc",
   "metadata": {
    "executionInfo": {
     "elapsed": 6,
     "status": "ok",
     "timestamp": 1645953123196,
     "user": {
      "displayName": "박상우",
      "photoUrl": "https://lh3.googleusercontent.com/a/default-user=s64",
      "userId": "01069816878135445976"
     },
     "user_tz": -540
    },
    "id": "80aedcdc"
   },
   "outputs": [
    {
     "data": {
      "text/html": [
       "<div>\n",
       "<style scoped>\n",
       "    .dataframe tbody tr th:only-of-type {\n",
       "        vertical-align: middle;\n",
       "    }\n",
       "\n",
       "    .dataframe tbody tr th {\n",
       "        vertical-align: top;\n",
       "    }\n",
       "\n",
       "    .dataframe thead th {\n",
       "        text-align: right;\n",
       "    }\n",
       "</style>\n",
       "<table border=\"1\" class=\"dataframe\">\n",
       "  <thead>\n",
       "    <tr style=\"text-align: right;\">\n",
       "      <th></th>\n",
       "      <th>item_name</th>\n",
       "      <th>item_id</th>\n",
       "      <th>item_category_id</th>\n",
       "      <th>item_type</th>\n",
       "      <th>item_subtype</th>\n",
       "    </tr>\n",
       "  </thead>\n",
       "  <tbody>\n",
       "    <tr>\n",
       "      <th>0</th>\n",
       "      <td>! ВО ВЛАСТИ НАВАЖДЕНИЯ (ПЛАСТ.)         D</td>\n",
       "      <td>0</td>\n",
       "      <td>40</td>\n",
       "      <td>Кино</td>\n",
       "      <td>DVD</td>\n",
       "    </tr>\n",
       "  </tbody>\n",
       "</table>\n",
       "</div>"
      ],
      "text/plain": [
       "                                   item_name  item_id  item_category_id  \\\n",
       "0  ! ВО ВЛАСТИ НАВАЖДЕНИЯ (ПЛАСТ.)         D        0                40   \n",
       "\n",
       "  item_type item_subtype  \n",
       "0      Кино          DVD  "
      ]
     },
     "execution_count": 88,
     "metadata": {},
     "output_type": "execute_result"
    }
   ],
   "source": [
    "items.drop('item_category_name', axis = 1, inplace = True)\n",
    "items.head(1)"
   ]
  },
  {
   "cell_type": "markdown",
   "id": "afd0c272",
   "metadata": {},
   "source": [
    "### 4.1.3. 비정형 데이터 정형화 하기\n",
    "-  3.a.2.에서 만든 행들의 값을 LabelEncoder로 정형화"
   ]
  },
  {
   "cell_type": "markdown",
   "id": "1895f5f3",
   "metadata": {},
   "source": [
    "#### items['item_type'] 정형화"
   ]
  },
  {
   "cell_type": "code",
   "execution_count": 89,
   "id": "c96647a4",
   "metadata": {
    "executionInfo": {
     "elapsed": 5,
     "status": "ok",
     "timestamp": 1645953123196,
     "user": {
      "displayName": "박상우",
      "photoUrl": "https://lh3.googleusercontent.com/a/default-user=s64",
      "userId": "01069816878135445976"
     },
     "user_tz": -540
    },
    "id": "c96647a4"
   },
   "outputs": [
    {
     "data": {
      "text/html": [
       "<div>\n",
       "<style scoped>\n",
       "    .dataframe tbody tr th:only-of-type {\n",
       "        vertical-align: middle;\n",
       "    }\n",
       "\n",
       "    .dataframe tbody tr th {\n",
       "        vertical-align: top;\n",
       "    }\n",
       "\n",
       "    .dataframe thead th {\n",
       "        text-align: right;\n",
       "    }\n",
       "</style>\n",
       "<table border=\"1\" class=\"dataframe\">\n",
       "  <thead>\n",
       "    <tr style=\"text-align: right;\">\n",
       "      <th></th>\n",
       "      <th>item_name</th>\n",
       "      <th>item_id</th>\n",
       "      <th>item_category_id</th>\n",
       "      <th>item_type</th>\n",
       "      <th>item_subtype</th>\n",
       "      <th>item_type_enc</th>\n",
       "    </tr>\n",
       "  </thead>\n",
       "  <tbody>\n",
       "    <tr>\n",
       "      <th>0</th>\n",
       "      <td>! ВО ВЛАСТИ НАВАЖДЕНИЯ (ПЛАСТ.)         D</td>\n",
       "      <td>0</td>\n",
       "      <td>40</td>\n",
       "      <td>Кино</td>\n",
       "      <td>DVD</td>\n",
       "      <td>11</td>\n",
       "    </tr>\n",
       "  </tbody>\n",
       "</table>\n",
       "</div>"
      ],
      "text/plain": [
       "                                   item_name  item_id  item_category_id  \\\n",
       "0  ! ВО ВЛАСТИ НАВАЖДЕНИЯ (ПЛАСТ.)         D        0                40   \n",
       "\n",
       "  item_type item_subtype  item_type_enc  \n",
       "0      Кино          DVD             11  "
      ]
     },
     "execution_count": 89,
     "metadata": {},
     "output_type": "execute_result"
    }
   ],
   "source": [
    "from sklearn.preprocessing import LabelEncoder\n",
    "\n",
    "le = LabelEncoder()\n",
    "le.fit(items['item_type'])\n",
    "items['item_type_enc'] = le.transform(items['item_type'])\n",
    "items.head(1)"
   ]
  },
  {
   "cell_type": "markdown",
   "id": "dc2bc183",
   "metadata": {},
   "source": [
    "#### items['item_subtype'] 정형화"
   ]
  },
  {
   "cell_type": "code",
   "execution_count": 90,
   "id": "e82bccbd",
   "metadata": {
    "executionInfo": {
     "elapsed": 5,
     "status": "ok",
     "timestamp": 1645953123197,
     "user": {
      "displayName": "박상우",
      "photoUrl": "https://lh3.googleusercontent.com/a/default-user=s64",
      "userId": "01069816878135445976"
     },
     "user_tz": -540
    },
    "id": "e82bccbd"
   },
   "outputs": [
    {
     "data": {
      "text/html": [
       "<div>\n",
       "<style scoped>\n",
       "    .dataframe tbody tr th:only-of-type {\n",
       "        vertical-align: middle;\n",
       "    }\n",
       "\n",
       "    .dataframe tbody tr th {\n",
       "        vertical-align: top;\n",
       "    }\n",
       "\n",
       "    .dataframe thead th {\n",
       "        text-align: right;\n",
       "    }\n",
       "</style>\n",
       "<table border=\"1\" class=\"dataframe\">\n",
       "  <thead>\n",
       "    <tr style=\"text-align: right;\">\n",
       "      <th></th>\n",
       "      <th>item_name</th>\n",
       "      <th>item_id</th>\n",
       "      <th>item_category_id</th>\n",
       "      <th>item_type</th>\n",
       "      <th>item_subtype</th>\n",
       "      <th>item_type_enc</th>\n",
       "      <th>item_subtype_enc</th>\n",
       "    </tr>\n",
       "  </thead>\n",
       "  <tbody>\n",
       "    <tr>\n",
       "      <th>0</th>\n",
       "      <td>! ВО ВЛАСТИ НАВАЖДЕНИЯ (ПЛАСТ.)         D</td>\n",
       "      <td>0</td>\n",
       "      <td>40</td>\n",
       "      <td>Кино</td>\n",
       "      <td>DVD</td>\n",
       "      <td>11</td>\n",
       "      <td>4</td>\n",
       "    </tr>\n",
       "  </tbody>\n",
       "</table>\n",
       "</div>"
      ],
      "text/plain": [
       "                                   item_name  item_id  item_category_id  \\\n",
       "0  ! ВО ВЛАСТИ НАВАЖДЕНИЯ (ПЛАСТ.)         D        0                40   \n",
       "\n",
       "  item_type item_subtype  item_type_enc  item_subtype_enc  \n",
       "0      Кино          DVD             11                 4  "
      ]
     },
     "execution_count": 90,
     "metadata": {},
     "output_type": "execute_result"
    }
   ],
   "source": [
    "le = LabelEncoder()\n",
    "le.fit(items['item_subtype'])\n",
    "items['item_subtype_enc'] = le.transform(items['item_subtype'])\n",
    "items.head(1)"
   ]
  },
  {
   "cell_type": "markdown",
   "id": "73f25d3e",
   "metadata": {},
   "source": [
    "#### 비정형데이터 지우기\n",
    "- items['item_type']과 items['item_subtype']을 정형데이터화 했기에 기존의 비정형데이터는 쓸모가 없어진다."
   ]
  },
  {
   "cell_type": "code",
   "execution_count": 91,
   "id": "aabc7655",
   "metadata": {
    "executionInfo": {
     "elapsed": 5,
     "status": "ok",
     "timestamp": 1645953123197,
     "user": {
      "displayName": "박상우",
      "photoUrl": "https://lh3.googleusercontent.com/a/default-user=s64",
      "userId": "01069816878135445976"
     },
     "user_tz": -540
    },
    "id": "aabc7655"
   },
   "outputs": [
    {
     "data": {
      "text/html": [
       "<div>\n",
       "<style scoped>\n",
       "    .dataframe tbody tr th:only-of-type {\n",
       "        vertical-align: middle;\n",
       "    }\n",
       "\n",
       "    .dataframe tbody tr th {\n",
       "        vertical-align: top;\n",
       "    }\n",
       "\n",
       "    .dataframe thead th {\n",
       "        text-align: right;\n",
       "    }\n",
       "</style>\n",
       "<table border=\"1\" class=\"dataframe\">\n",
       "  <thead>\n",
       "    <tr style=\"text-align: right;\">\n",
       "      <th></th>\n",
       "      <th>item_name</th>\n",
       "      <th>item_id</th>\n",
       "      <th>item_category_id</th>\n",
       "      <th>item_type_enc</th>\n",
       "      <th>item_subtype_enc</th>\n",
       "    </tr>\n",
       "  </thead>\n",
       "  <tbody>\n",
       "    <tr>\n",
       "      <th>0</th>\n",
       "      <td>! ВО ВЛАСТИ НАВАЖДЕНИЯ (ПЛАСТ.)         D</td>\n",
       "      <td>0</td>\n",
       "      <td>40</td>\n",
       "      <td>11</td>\n",
       "      <td>4</td>\n",
       "    </tr>\n",
       "  </tbody>\n",
       "</table>\n",
       "</div>"
      ],
      "text/plain": [
       "                                   item_name  item_id  item_category_id  \\\n",
       "0  ! ВО ВЛАСТИ НАВАЖДЕНИЯ (ПЛАСТ.)         D        0                40   \n",
       "\n",
       "   item_type_enc  item_subtype_enc  \n",
       "0             11                 4  "
      ]
     },
     "execution_count": 91,
     "metadata": {},
     "output_type": "execute_result"
    }
   ],
   "source": [
    "items.drop(['item_type','item_subtype'], axis=1, inplace = True)\n",
    "items.head(1)"
   ]
  },
  {
   "cell_type": "markdown",
   "id": "52a4603b",
   "metadata": {},
   "source": [
    "### 4.1.4. 마무리 하기\n",
    "#### 필요없는 item_name열  지우기"
   ]
  },
  {
   "cell_type": "code",
   "execution_count": 92,
   "id": "06437015",
   "metadata": {},
   "outputs": [
    {
     "data": {
      "text/html": [
       "<div>\n",
       "<style scoped>\n",
       "    .dataframe tbody tr th:only-of-type {\n",
       "        vertical-align: middle;\n",
       "    }\n",
       "\n",
       "    .dataframe tbody tr th {\n",
       "        vertical-align: top;\n",
       "    }\n",
       "\n",
       "    .dataframe thead th {\n",
       "        text-align: right;\n",
       "    }\n",
       "</style>\n",
       "<table border=\"1\" class=\"dataframe\">\n",
       "  <thead>\n",
       "    <tr style=\"text-align: right;\">\n",
       "      <th></th>\n",
       "      <th>item_id</th>\n",
       "      <th>item_category_id</th>\n",
       "      <th>item_type_enc</th>\n",
       "      <th>item_subtype_enc</th>\n",
       "    </tr>\n",
       "  </thead>\n",
       "  <tbody>\n",
       "    <tr>\n",
       "      <th>0</th>\n",
       "      <td>0</td>\n",
       "      <td>40</td>\n",
       "      <td>11</td>\n",
       "      <td>4</td>\n",
       "    </tr>\n",
       "    <tr>\n",
       "      <th>1</th>\n",
       "      <td>1</td>\n",
       "      <td>76</td>\n",
       "      <td>15</td>\n",
       "      <td>31</td>\n",
       "    </tr>\n",
       "    <tr>\n",
       "      <th>2</th>\n",
       "      <td>2</td>\n",
       "      <td>40</td>\n",
       "      <td>11</td>\n",
       "      <td>4</td>\n",
       "    </tr>\n",
       "    <tr>\n",
       "      <th>3</th>\n",
       "      <td>3</td>\n",
       "      <td>40</td>\n",
       "      <td>11</td>\n",
       "      <td>4</td>\n",
       "    </tr>\n",
       "    <tr>\n",
       "      <th>4</th>\n",
       "      <td>4</td>\n",
       "      <td>40</td>\n",
       "      <td>11</td>\n",
       "      <td>4</td>\n",
       "    </tr>\n",
       "  </tbody>\n",
       "</table>\n",
       "</div>"
      ],
      "text/plain": [
       "   item_id  item_category_id  item_type_enc  item_subtype_enc\n",
       "0        0                40             11                 4\n",
       "1        1                76             15                31\n",
       "2        2                40             11                 4\n",
       "3        3                40             11                 4\n",
       "4        4                40             11                 4"
      ]
     },
     "execution_count": 92,
     "metadata": {},
     "output_type": "execute_result"
    }
   ],
   "source": [
    "items.drop('item_name', axis=1, inplace=True)\n",
    "items.head()"
   ]
  },
  {
   "cell_type": "markdown",
   "id": "c45e5ea1",
   "metadata": {
    "id": "c45e5ea1"
   },
   "source": [
    "## 4.2. shops에 대해 feature engineering"
   ]
  },
  {
   "cell_type": "code",
   "execution_count": 93,
   "id": "df82a9d7",
   "metadata": {
    "executionInfo": {
     "elapsed": 5,
     "status": "ok",
     "timestamp": 1645953123197,
     "user": {
      "displayName": "박상우",
      "photoUrl": "https://lh3.googleusercontent.com/a/default-user=s64",
      "userId": "01069816878135445976"
     },
     "user_tz": -540
    },
    "id": "df82a9d7"
   },
   "outputs": [
    {
     "data": {
      "text/html": [
       "<div>\n",
       "<style scoped>\n",
       "    .dataframe tbody tr th:only-of-type {\n",
       "        vertical-align: middle;\n",
       "    }\n",
       "\n",
       "    .dataframe tbody tr th {\n",
       "        vertical-align: top;\n",
       "    }\n",
       "\n",
       "    .dataframe thead th {\n",
       "        text-align: right;\n",
       "    }\n",
       "</style>\n",
       "<table border=\"1\" class=\"dataframe\">\n",
       "  <thead>\n",
       "    <tr style=\"text-align: right;\">\n",
       "      <th></th>\n",
       "      <th>shop_name</th>\n",
       "      <th>shop_id</th>\n",
       "    </tr>\n",
       "  </thead>\n",
       "  <tbody>\n",
       "    <tr>\n",
       "      <th>0</th>\n",
       "      <td>!Якутск Орджоникидзе, 56 фран</td>\n",
       "      <td>0</td>\n",
       "    </tr>\n",
       "    <tr>\n",
       "      <th>1</th>\n",
       "      <td>!Якутск ТЦ \"Центральный\" фран</td>\n",
       "      <td>1</td>\n",
       "    </tr>\n",
       "    <tr>\n",
       "      <th>2</th>\n",
       "      <td>Адыгея ТЦ \"Мега\"</td>\n",
       "      <td>2</td>\n",
       "    </tr>\n",
       "    <tr>\n",
       "      <th>3</th>\n",
       "      <td>Балашиха ТРК \"Октябрь-Киномир\"</td>\n",
       "      <td>3</td>\n",
       "    </tr>\n",
       "    <tr>\n",
       "      <th>4</th>\n",
       "      <td>Волжский ТЦ \"Волга Молл\"</td>\n",
       "      <td>4</td>\n",
       "    </tr>\n",
       "  </tbody>\n",
       "</table>\n",
       "</div>"
      ],
      "text/plain": [
       "                        shop_name  shop_id\n",
       "0   !Якутск Орджоникидзе, 56 фран        0\n",
       "1   !Якутск ТЦ \"Центральный\" фран        1\n",
       "2                Адыгея ТЦ \"Мега\"        2\n",
       "3  Балашиха ТРК \"Октябрь-Киномир\"        3\n",
       "4        Волжский ТЦ \"Волга Молл\"        4"
      ]
     },
     "execution_count": 93,
     "metadata": {},
     "output_type": "execute_result"
    }
   ],
   "source": [
    "shops.head()\n",
    "# Адыгея ТЦ \"Мега\" -> 지역[Adygea]아디게아 쇼핑 센터 \"Mega\"\n",
    "#Волжский ТЦ \"Волга Молл\" -> 지역[Volzhsky]볼츠스키 쇼핑 센터 \"볼가 몰\"\n",
    "# 공백을 기준으로 (지역, 가게명)으로나뉜 것을 알 수 있었다"
   ]
  },
  {
   "cell_type": "markdown",
   "id": "02a5faad",
   "metadata": {},
   "source": [
    "### 4.2.1. shop_name에서 city 분류하기"
   ]
  },
  {
   "cell_type": "markdown",
   "id": "d603952b",
   "metadata": {},
   "source": [
    "#### shop_name을 나누기\n",
    "-shop_name의 [0]의 값을 'city'로 분류하기 위해 split 행만들기"
   ]
  },
  {
   "cell_type": "code",
   "execution_count": 94,
   "id": "f8ab4430",
   "metadata": {
    "executionInfo": {
     "elapsed": 5,
     "status": "ok",
     "timestamp": 1645953123197,
     "user": {
      "displayName": "박상우",
      "photoUrl": "https://lh3.googleusercontent.com/a/default-user=s64",
      "userId": "01069816878135445976"
     },
     "user_tz": -540
    },
    "id": "f8ab4430"
   },
   "outputs": [
    {
     "data": {
      "text/html": [
       "<div>\n",
       "<style scoped>\n",
       "    .dataframe tbody tr th:only-of-type {\n",
       "        vertical-align: middle;\n",
       "    }\n",
       "\n",
       "    .dataframe tbody tr th {\n",
       "        vertical-align: top;\n",
       "    }\n",
       "\n",
       "    .dataframe thead th {\n",
       "        text-align: right;\n",
       "    }\n",
       "</style>\n",
       "<table border=\"1\" class=\"dataframe\">\n",
       "  <thead>\n",
       "    <tr style=\"text-align: right;\">\n",
       "      <th></th>\n",
       "      <th>shop_name</th>\n",
       "      <th>shop_id</th>\n",
       "      <th>split</th>\n",
       "    </tr>\n",
       "  </thead>\n",
       "  <tbody>\n",
       "    <tr>\n",
       "      <th>0</th>\n",
       "      <td>!Якутск Орджоникидзе, 56 фран</td>\n",
       "      <td>0</td>\n",
       "      <td>[!Якутск, Орджоникидзе,, 56, фран]</td>\n",
       "    </tr>\n",
       "    <tr>\n",
       "      <th>1</th>\n",
       "      <td>!Якутск ТЦ \"Центральный\" фран</td>\n",
       "      <td>1</td>\n",
       "      <td>[!Якутск, ТЦ, \"Центральный\", фран]</td>\n",
       "    </tr>\n",
       "    <tr>\n",
       "      <th>2</th>\n",
       "      <td>Адыгея ТЦ \"Мега\"</td>\n",
       "      <td>2</td>\n",
       "      <td>[Адыгея, ТЦ, \"Мега\"]</td>\n",
       "    </tr>\n",
       "    <tr>\n",
       "      <th>3</th>\n",
       "      <td>Балашиха ТРК \"Октябрь-Киномир\"</td>\n",
       "      <td>3</td>\n",
       "      <td>[Балашиха, ТРК, \"Октябрь-Киномир\"]</td>\n",
       "    </tr>\n",
       "    <tr>\n",
       "      <th>4</th>\n",
       "      <td>Волжский ТЦ \"Волга Молл\"</td>\n",
       "      <td>4</td>\n",
       "      <td>[Волжский, ТЦ, \"Волга, Молл\"]</td>\n",
       "    </tr>\n",
       "  </tbody>\n",
       "</table>\n",
       "</div>"
      ],
      "text/plain": [
       "                        shop_name  shop_id                               split\n",
       "0   !Якутск Орджоникидзе, 56 фран        0  [!Якутск, Орджоникидзе,, 56, фран]\n",
       "1   !Якутск ТЦ \"Центральный\" фран        1  [!Якутск, ТЦ, \"Центральный\", фран]\n",
       "2                Адыгея ТЦ \"Мега\"        2                [Адыгея, ТЦ, \"Мега\"]\n",
       "3  Балашиха ТРК \"Октябрь-Киномир\"        3  [Балашиха, ТРК, \"Октябрь-Киномир\"]\n",
       "4        Волжский ТЦ \"Волга Молл\"        4       [Волжский, ТЦ, \"Волга, Молл\"]"
      ]
     },
     "execution_count": 94,
     "metadata": {},
     "output_type": "execute_result"
    }
   ],
   "source": [
    "shops['split'] = shops['shop_name'].apply(lambda x: x.split(' '))\n",
    "shops.head()"
   ]
  },
  {
   "cell_type": "markdown",
   "id": "9ad65958",
   "metadata": {},
   "source": [
    "#### 분류 확인"
   ]
  },
  {
   "cell_type": "code",
   "execution_count": 95,
   "id": "54e759c1",
   "metadata": {
    "colab": {
     "base_uri": "https://localhost:8080/",
     "height": 1000
    },
    "executionInfo": {
     "elapsed": 5,
     "status": "ok",
     "timestamp": 1645953123197,
     "user": {
      "displayName": "박상우",
      "photoUrl": "https://lh3.googleusercontent.com/a/default-user=s64",
      "userId": "01069816878135445976"
     },
     "user_tz": -540
    },
    "id": "54e759c1",
    "outputId": "b6c49b42-e172-41f4-a314-861d438476b2"
   },
   "outputs": [
    {
     "data": {
      "text/plain": [
       "'Балашиха'"
      ]
     },
     "execution_count": 95,
     "metadata": {},
     "output_type": "execute_result"
    }
   ],
   "source": [
    "shops.split[3][0]"
   ]
  },
  {
   "cell_type": "markdown",
   "id": "5f56f241",
   "metadata": {},
   "source": [
    "#### city열 만들기"
   ]
  },
  {
   "cell_type": "code",
   "execution_count": 96,
   "id": "e45e58ac",
   "metadata": {},
   "outputs": [
    {
     "data": {
      "text/html": [
       "<div>\n",
       "<style scoped>\n",
       "    .dataframe tbody tr th:only-of-type {\n",
       "        vertical-align: middle;\n",
       "    }\n",
       "\n",
       "    .dataframe tbody tr th {\n",
       "        vertical-align: top;\n",
       "    }\n",
       "\n",
       "    .dataframe thead th {\n",
       "        text-align: right;\n",
       "    }\n",
       "</style>\n",
       "<table border=\"1\" class=\"dataframe\">\n",
       "  <thead>\n",
       "    <tr style=\"text-align: right;\">\n",
       "      <th></th>\n",
       "      <th>shop_name</th>\n",
       "      <th>shop_id</th>\n",
       "      <th>split</th>\n",
       "      <th>city</th>\n",
       "    </tr>\n",
       "  </thead>\n",
       "  <tbody>\n",
       "    <tr>\n",
       "      <th>0</th>\n",
       "      <td>!Якутск Орджоникидзе, 56 фран</td>\n",
       "      <td>0</td>\n",
       "      <td>[!Якутск, Орджоникидзе,, 56, фран]</td>\n",
       "      <td>!Якутск</td>\n",
       "    </tr>\n",
       "  </tbody>\n",
       "</table>\n",
       "</div>"
      ],
      "text/plain": [
       "                       shop_name  shop_id                               split  \\\n",
       "0  !Якутск Орджоникидзе, 56 фран        0  [!Якутск, Орджоникидзе,, 56, фран]   \n",
       "\n",
       "      city  \n",
       "0  !Якутск  "
      ]
     },
     "execution_count": 96,
     "metadata": {},
     "output_type": "execute_result"
    }
   ],
   "source": [
    "shops['city'] = shops['split'].apply(lambda x: x[0])\n",
    "#apply: DataFrame에 전부 적용되게 함\n",
    "shops.head(1)"
   ]
  },
  {
   "cell_type": "markdown",
   "id": "313d6f3d",
   "metadata": {},
   "source": [
    "### 4.2.2. city 정리하기\n",
    "- shop['city'] == '!Якутск'인 행을 'city' 컬럼에 불러 특수문자를 없애 Якутск으로 변환\n",
    "- shop_id 수정(리모델링하거나 이전한 shop으로 추정)"
   ]
  },
  {
   "cell_type": "code",
   "execution_count": 97,
   "id": "89781dbf",
   "metadata": {
    "executionInfo": {
     "elapsed": 4,
     "status": "ok",
     "timestamp": 1645953123197,
     "user": {
      "displayName": "박상우",
      "photoUrl": "https://lh3.googleusercontent.com/a/default-user=s64",
      "userId": "01069816878135445976"
     },
     "user_tz": -540
    },
    "id": "89781dbf"
   },
   "outputs": [],
   "source": [
    "shops.loc[shops['city'] == '!Якутск', 'city'] = 'Якутск'\n",
    "shops.loc[shops['shop_id'] == 0, 'shop_id'] = 57\n",
    "shops.loc[shops['shop_id'] == 1, 'shop_id'] = 58\n",
    "shops.loc[shops['shop_id'] == 10, 'shop_id'] = 11\n",
    "shops.loc[shops['shop_id'] == 40, 'shop_id'] = 39"
   ]
  },
  {
   "cell_type": "markdown",
   "id": "f29cee38",
   "metadata": {},
   "source": [
    "### 4.2.3. city를 정형데이터로 변환"
   ]
  },
  {
   "cell_type": "code",
   "execution_count": 98,
   "id": "21b49e4a",
   "metadata": {
    "executionInfo": {
     "elapsed": 4,
     "status": "ok",
     "timestamp": 1645953123197,
     "user": {
      "displayName": "박상우",
      "photoUrl": "https://lh3.googleusercontent.com/a/default-user=s64",
      "userId": "01069816878135445976"
     },
     "user_tz": -540
    },
    "id": "21b49e4a"
   },
   "outputs": [
    {
     "data": {
      "text/html": [
       "<div>\n",
       "<style scoped>\n",
       "    .dataframe tbody tr th:only-of-type {\n",
       "        vertical-align: middle;\n",
       "    }\n",
       "\n",
       "    .dataframe tbody tr th {\n",
       "        vertical-align: top;\n",
       "    }\n",
       "\n",
       "    .dataframe thead th {\n",
       "        text-align: right;\n",
       "    }\n",
       "</style>\n",
       "<table border=\"1\" class=\"dataframe\">\n",
       "  <thead>\n",
       "    <tr style=\"text-align: right;\">\n",
       "      <th></th>\n",
       "      <th>shop_name</th>\n",
       "      <th>shop_id</th>\n",
       "      <th>split</th>\n",
       "      <th>city</th>\n",
       "    </tr>\n",
       "  </thead>\n",
       "  <tbody>\n",
       "    <tr>\n",
       "      <th>0</th>\n",
       "      <td>!Якутск Орджоникидзе, 56 фран</td>\n",
       "      <td>57</td>\n",
       "      <td>[!Якутск, Орджоникидзе,, 56, фран]</td>\n",
       "      <td>29</td>\n",
       "    </tr>\n",
       "  </tbody>\n",
       "</table>\n",
       "</div>"
      ],
      "text/plain": [
       "                       shop_name  shop_id                               split  \\\n",
       "0  !Якутск Орджоникидзе, 56 фран       57  [!Якутск, Орджоникидзе,, 56, фран]   \n",
       "\n",
       "   city  \n",
       "0    29  "
      ]
     },
     "execution_count": 98,
     "metadata": {},
     "output_type": "execute_result"
    }
   ],
   "source": [
    "\n",
    "le = LabelEncoder()\n",
    "le.fit(shops['city'])\n",
    "shops['city'] = le.transform(shops['city'])\n",
    "shops.head(1)"
   ]
  },
  {
   "cell_type": "markdown",
   "id": "fc747118",
   "metadata": {},
   "source": [
    "### 4.2.3.shop_name 과 split 제거\n",
    "- shop_name은 도시를 추출 후 shop_id와 사실상 중복되는 값이고\n",
    "- spit은 도시를 추출하기 위해 만들었기에 소임을 다했다."
   ]
  },
  {
   "cell_type": "code",
   "execution_count": 99,
   "id": "c7f6a6c1",
   "metadata": {
    "executionInfo": {
     "elapsed": 5,
     "status": "ok",
     "timestamp": 1645953123198,
     "user": {
      "displayName": "박상우",
      "photoUrl": "https://lh3.googleusercontent.com/a/default-user=s64",
      "userId": "01069816878135445976"
     },
     "user_tz": -540
    },
    "id": "c7f6a6c1"
   },
   "outputs": [
    {
     "data": {
      "text/html": [
       "<div>\n",
       "<style scoped>\n",
       "    .dataframe tbody tr th:only-of-type {\n",
       "        vertical-align: middle;\n",
       "    }\n",
       "\n",
       "    .dataframe tbody tr th {\n",
       "        vertical-align: top;\n",
       "    }\n",
       "\n",
       "    .dataframe thead th {\n",
       "        text-align: right;\n",
       "    }\n",
       "</style>\n",
       "<table border=\"1\" class=\"dataframe\">\n",
       "  <thead>\n",
       "    <tr style=\"text-align: right;\">\n",
       "      <th></th>\n",
       "      <th>shop_id</th>\n",
       "      <th>city</th>\n",
       "    </tr>\n",
       "  </thead>\n",
       "  <tbody>\n",
       "    <tr>\n",
       "      <th>0</th>\n",
       "      <td>57</td>\n",
       "      <td>29</td>\n",
       "    </tr>\n",
       "  </tbody>\n",
       "</table>\n",
       "</div>"
      ],
      "text/plain": [
       "   shop_id  city\n",
       "0       57    29"
      ]
     },
     "execution_count": 99,
     "metadata": {},
     "output_type": "execute_result"
    }
   ],
   "source": [
    "shops.drop(['shop_name', 'split'], axis = 1, inplace =True)\n",
    "shops.head(1)"
   ]
  },
  {
   "cell_type": "markdown",
   "id": "ecaa3b37",
   "metadata": {},
   "source": [
    "### 4.2.4. shops에서 알아낸것을 sales_train과 test data에 적용\n",
    "- sales_train과 test data에도 shop_id가 있으니 shops에서 해주었던 수정을 해줘야 함"
   ]
  },
  {
   "cell_type": "markdown",
   "id": "9913d6cf",
   "metadata": {},
   "source": [
    "#### sales_train의 shop_id"
   ]
  },
  {
   "cell_type": "code",
   "execution_count": 100,
   "id": "d1399d48",
   "metadata": {
    "executionInfo": {
     "elapsed": 404,
     "status": "ok",
     "timestamp": 1645953123597,
     "user": {
      "displayName": "박상우",
      "photoUrl": "https://lh3.googleusercontent.com/a/default-user=s64",
      "userId": "01069816878135445976"
     },
     "user_tz": -540
    },
    "id": "d1399d48"
   },
   "outputs": [],
   "source": [
    "sales_train.loc[sales_train['shop_id'] == 0, 'shop_id'] = 57\n",
    "sales_train.loc[sales_train['shop_id'] == 1, 'shop_id'] = 58\n",
    "sales_train.loc[sales_train['shop_id'] == 10, 'shop_id'] = 11\n",
    "sales_train.loc[sales_train['shop_id'] == 40, 'shop_id'] = 39"
   ]
  },
  {
   "cell_type": "markdown",
   "id": "c4c70f5f",
   "metadata": {},
   "source": [
    "#### test data의 shop_id"
   ]
  },
  {
   "cell_type": "code",
   "execution_count": 101,
   "id": "b7cf3d46",
   "metadata": {
    "executionInfo": {
     "elapsed": 3,
     "status": "ok",
     "timestamp": 1645953123597,
     "user": {
      "displayName": "박상우",
      "photoUrl": "https://lh3.googleusercontent.com/a/default-user=s64",
      "userId": "01069816878135445976"
     },
     "user_tz": -540
    },
    "id": "b7cf3d46"
   },
   "outputs": [],
   "source": [
    "test.loc[test['shop_id'] == 0, 'shop_id'] = 57\n",
    "test.loc[test['shop_id'] == 1, 'shop_id'] = 58\n",
    "test.loc[test['shop_id'] == 10, 'shop_id'] = 11\n",
    "test.loc[test['shop_id'] == 40, 'shop_id'] = 39"
   ]
  },
  {
   "cell_type": "markdown",
   "id": "64736eb1",
   "metadata": {
    "id": "64736eb1"
   },
   "source": [
    "## 4.3. test_train에 대해 feature engineering: outlier 처리(제거)\n",
    "### 4.3.1. 이상치 확인"
   ]
  },
  {
   "cell_type": "code",
   "execution_count": 102,
   "id": "dbcf4f15",
   "metadata": {
    "colab": {
     "base_uri": "https://localhost:8080/",
     "height": 561
    },
    "executionInfo": {
     "elapsed": 8747,
     "status": "ok",
     "timestamp": 1645953132342,
     "user": {
      "displayName": "박상우",
      "photoUrl": "https://lh3.googleusercontent.com/a/default-user=s64",
      "userId": "01069816878135445976"
     },
     "user_tz": -540
    },
    "id": "dbcf4f15",
    "outputId": "36e98198-b4de-47f7-d624-9fd5fd079d2d",
    "scrolled": true
   },
   "outputs": [
    {
     "data": {
      "text/plain": [
       "<AxesSubplot:xlabel='item_price'>"
      ]
     },
     "execution_count": 102,
     "metadata": {},
     "output_type": "execute_result"
    },
    {
     "data": {
      "image/png": "[encoded data removed]",
      "text/plain": [
       "<Figure size 720x288 with 1 Axes>"
      ]
     },
     "metadata": {
      "needs_background": "light"
     },
     "output_type": "display_data"
    },
    {
     "data": {
      "image/png": "[encoded data removed]",
      "text/plain": [
       "<Figure size 720x288 with 1 Axes>"
      ]
     },
     "metadata": {
      "needs_background": "light"
     },
     "output_type": "display_data"
    }
   ],
   "source": [
    "#아이템 판매수\n",
    "plt.figure(figsize=(10,4))\n",
    "sns.boxplot(x=sales_train.item_cnt_day,  color= 'blue', fliersize=20)\n",
    "\n",
    "#아이템 가격\n",
    "plt.figure(figsize=(10,4))\n",
    "sns.boxplot(x=sales_train.item_price,  color= 'blue', fliersize=20)"
   ]
  },
  {
   "cell_type": "markdown",
   "id": "35507671",
   "metadata": {},
   "source": [
    "### 4.3.2. 이상치 제거"
   ]
  },
  {
   "cell_type": "code",
   "execution_count": 103,
   "id": "f0f3a48e",
   "metadata": {
    "executionInfo": {
     "elapsed": 5,
     "status": "ok",
     "timestamp": 1645953132342,
     "user": {
      "displayName": "박상우",
      "photoUrl": "https://lh3.googleusercontent.com/a/default-user=s64",
      "userId": "01069816878135445976"
     },
     "user_tz": -540
    },
    "id": "f0f3a48e"
   },
   "outputs": [],
   "source": [
    "# item_cnt_day 이상치 삭제하기 (1000 초과시)\n",
    "sales_train = sales_train[sales_train['item_cnt_day'] < 1000] \n",
    "\n",
    "# item_price 이상치 삭제하기 (50000 초과시)\n",
    "sales_train = sales_train[sales_train['item_price'] < 50000 ] "
   ]
  },
  {
   "cell_type": "markdown",
   "id": "2a96da60",
   "metadata": {
    "executionInfo": {
     "elapsed": 4,
     "status": "ok",
     "timestamp": 1645953132342,
     "user": {
      "displayName": "박상우",
      "photoUrl": "https://lh3.googleusercontent.com/a/default-user=s64",
      "userId": "01069816878135445976"
     },
     "user_tz": -540
    },
    "id": "1a18af1b"
   },
   "source": [
    "### 4.3.3. 이상치 제거 후 확인"
   ]
  },
  {
   "cell_type": "code",
   "execution_count": 104,
   "id": "24c0f2d2",
   "metadata": {
    "scrolled": true
   },
   "outputs": [
    {
     "data": {
      "text/plain": [
       "<AxesSubplot:xlabel='item_cnt_day'>"
      ]
     },
     "execution_count": 104,
     "metadata": {},
     "output_type": "execute_result"
    },
    {
     "data": {
      "image/png": "[encoded data removed]",
      "text/plain": [
       "<Figure size 720x288 with 1 Axes>"
      ]
     },
     "metadata": {
      "needs_background": "light"
     },
     "output_type": "display_data"
    },
    {
     "data": {
      "image/png": "[encoded data removed]",
      "text/plain": [
       "<Figure size 720x288 with 1 Axes>"
      ]
     },
     "metadata": {
      "needs_background": "light"
     },
     "output_type": "display_data"
    }
   ],
   "source": [
    "plt.figure(figsize=(10,4))\n",
    "sns.boxplot(x=sales_train.item_price)\n",
    "\n",
    "plt.figure(figsize=(10,4))\n",
    "sns.boxplot(x=sales_train.item_cnt_day)"
   ]
  },
  {
   "cell_type": "markdown",
   "id": "49064e3b",
   "metadata": {
    "id": "49064e3b"
   },
   "source": [
    "## 4.4. cleaning test data\n",
    "### 4.4.1.불필요한 열 제거 및 필요 데이터 생성"
   ]
  },
  {
   "cell_type": "code",
   "execution_count": 105,
   "id": "3d126b5b",
   "metadata": {},
   "outputs": [
    {
     "data": {
      "text/html": [
       "<div>\n",
       "<style scoped>\n",
       "    .dataframe tbody tr th:only-of-type {\n",
       "        vertical-align: middle;\n",
       "    }\n",
       "\n",
       "    .dataframe tbody tr th {\n",
       "        vertical-align: top;\n",
       "    }\n",
       "\n",
       "    .dataframe thead th {\n",
       "        text-align: right;\n",
       "    }\n",
       "</style>\n",
       "<table border=\"1\" class=\"dataframe\">\n",
       "  <thead>\n",
       "    <tr style=\"text-align: right;\">\n",
       "      <th></th>\n",
       "      <th>shop_id</th>\n",
       "      <th>item_id</th>\n",
       "    </tr>\n",
       "  </thead>\n",
       "  <tbody>\n",
       "    <tr>\n",
       "      <th>0</th>\n",
       "      <td>5</td>\n",
       "      <td>5037</td>\n",
       "    </tr>\n",
       "    <tr>\n",
       "      <th>1</th>\n",
       "      <td>5</td>\n",
       "      <td>5320</td>\n",
       "    </tr>\n",
       "    <tr>\n",
       "      <th>2</th>\n",
       "      <td>5</td>\n",
       "      <td>5233</td>\n",
       "    </tr>\n",
       "    <tr>\n",
       "      <th>3</th>\n",
       "      <td>5</td>\n",
       "      <td>5232</td>\n",
       "    </tr>\n",
       "    <tr>\n",
       "      <th>4</th>\n",
       "      <td>5</td>\n",
       "      <td>5268</td>\n",
       "    </tr>\n",
       "  </tbody>\n",
       "</table>\n",
       "</div>"
      ],
      "text/plain": [
       "   shop_id  item_id\n",
       "0        5     5037\n",
       "1        5     5320\n",
       "2        5     5233\n",
       "3        5     5232\n",
       "4        5     5268"
      ]
     },
     "execution_count": 105,
     "metadata": {},
     "output_type": "execute_result"
    }
   ],
   "source": [
    "test = test.drop('ID', axis=1)\n",
    "test.head()"
   ]
  },
  {
   "cell_type": "code",
   "execution_count": 106,
   "id": "c5db7c2d",
   "metadata": {
    "executionInfo": {
     "elapsed": 3,
     "status": "ok",
     "timestamp": 1645953132342,
     "user": {
      "displayName": "박상우",
      "photoUrl": "https://lh3.googleusercontent.com/a/default-user=s64",
      "userId": "01069816878135445976"
     },
     "user_tz": -540
    },
    "id": "c5db7c2d",
    "scrolled": true
   },
   "outputs": [
    {
     "data": {
      "text/html": [
       "<div>\n",
       "<style scoped>\n",
       "    .dataframe tbody tr th:only-of-type {\n",
       "        vertical-align: middle;\n",
       "    }\n",
       "\n",
       "    .dataframe tbody tr th {\n",
       "        vertical-align: top;\n",
       "    }\n",
       "\n",
       "    .dataframe thead th {\n",
       "        text-align: right;\n",
       "    }\n",
       "</style>\n",
       "<table border=\"1\" class=\"dataframe\">\n",
       "  <thead>\n",
       "    <tr style=\"text-align: right;\">\n",
       "      <th></th>\n",
       "      <th>shop_id</th>\n",
       "      <th>item_id</th>\n",
       "      <th>date_block_num</th>\n",
       "    </tr>\n",
       "  </thead>\n",
       "  <tbody>\n",
       "    <tr>\n",
       "      <th>0</th>\n",
       "      <td>5</td>\n",
       "      <td>5037</td>\n",
       "      <td>34</td>\n",
       "    </tr>\n",
       "    <tr>\n",
       "      <th>1</th>\n",
       "      <td>5</td>\n",
       "      <td>5320</td>\n",
       "      <td>34</td>\n",
       "    </tr>\n",
       "    <tr>\n",
       "      <th>2</th>\n",
       "      <td>5</td>\n",
       "      <td>5233</td>\n",
       "      <td>34</td>\n",
       "    </tr>\n",
       "    <tr>\n",
       "      <th>3</th>\n",
       "      <td>5</td>\n",
       "      <td>5232</td>\n",
       "      <td>34</td>\n",
       "    </tr>\n",
       "    <tr>\n",
       "      <th>4</th>\n",
       "      <td>5</td>\n",
       "      <td>5268</td>\n",
       "      <td>34</td>\n",
       "    </tr>\n",
       "  </tbody>\n",
       "</table>\n",
       "</div>"
      ],
      "text/plain": [
       "   shop_id  item_id  date_block_num\n",
       "0        5     5037              34\n",
       "1        5     5320              34\n",
       "2        5     5233              34\n",
       "3        5     5232              34\n",
       "4        5     5268              34"
      ]
     },
     "execution_count": 106,
     "metadata": {},
     "output_type": "execute_result"
    }
   ],
   "source": [
    "test['date_block_num'] = 34\n",
    "test.head()"
   ]
  },
  {
   "cell_type": "code",
   "execution_count": 107,
   "id": "1ecc555e",
   "metadata": {},
   "outputs": [],
   "source": [
    "test['date_block_num'] = test['date_block_num'].astype('int')\n",
    "test['shop_id'] = test.shop_id.astype('int')\n",
    "test[\"item_id\"] = test.item_id.astype('int')"
   ]
  },
  {
   "cell_type": "markdown",
   "id": "7f84f349",
   "metadata": {
    "id": "7f84f349"
   },
   "source": [
    "### 4.4.2. test에만 있는 shop_id&item_id 처리\n",
    "#### test에만 있는 shop_id&item_id 확인"
   ]
  },
  {
   "cell_type": "code",
   "execution_count": 108,
   "id": "170861c5",
   "metadata": {
    "executionInfo": {
     "elapsed": 3,
     "status": "ok",
     "timestamp": 1645953132343,
     "user": {
      "displayName": "박상우",
      "photoUrl": "https://lh3.googleusercontent.com/a/default-user=s64",
      "userId": "01069816878135445976"
     },
     "user_tz": -540
    },
    "id": "170861c5",
    "scrolled": true
   },
   "outputs": [
    {
     "name": "stdout",
     "output_type": "stream",
     "text": [
      "[ 5  4  6  3  2  7 11 12 28 31 26 25 22 24 21 15 16 18 14 19 42 50 49 53\n",
      " 52 47 48 57 58 59 55 56 36 37 35 38 34 46 41 44 39 45]\n",
      "------------------------------------------------------------\n",
      "[ 5037  5320  5233 ... 15757 19648   969]\n"
     ]
    }
   ],
   "source": [
    "test_shop_id = test['shop_id'].unique()\n",
    "test_item_id = test['item_id'].unique()\n",
    "print(test_shop_id)\n",
    "print('-'*60)\n",
    "print(test_item_id)"
   ]
  },
  {
   "cell_type": "markdown",
   "id": "9be40e39",
   "metadata": {},
   "source": [
    "#### sales_train에 test에만 있는 shop_id&item_id만 남기기 "
   ]
  },
  {
   "cell_type": "code",
   "execution_count": 109,
   "id": "7de2d05b",
   "metadata": {},
   "outputs": [
    {
     "data": {
      "text/plain": [
       "False"
      ]
     },
     "execution_count": 109,
     "metadata": {},
     "output_type": "execute_result"
    }
   ],
   "source": [
    "# test의 'item_id'는 sales_train의 'item_id'의 부분집합이 아니다 \n",
    "set(test['item_id'].unique()).issubset(set(sales_train['item_id'].unique())) "
   ]
  },
  {
   "cell_type": "code",
   "execution_count": 110,
   "id": "ed8effbf",
   "metadata": {},
   "outputs": [
    {
     "name": "stdout",
     "output_type": "stream",
     "text": [
      "test only items: 363\n"
     ]
    }
   ],
   "source": [
    "test_diff_item = set(test['item_id'].unique()) - set(sales_train['item_id'].unique())\n",
    "print('test only items:', len(test_diff_item))\n"
   ]
  },
  {
   "cell_type": "code",
   "execution_count": 111,
   "id": "207219ed",
   "metadata": {},
   "outputs": [
    {
     "data": {
      "text/plain": [
       "True"
      ]
     },
     "execution_count": 111,
     "metadata": {},
     "output_type": "execute_result"
    }
   ],
   "source": [
    "# test의 'shop_id'는 sales_train의 'shop_id'의 부분집합이다 \n",
    "set(test['shop_id'].unique()).issubset(set(sales_train['shop_id'].unique()))"
   ]
  },
  {
   "cell_type": "code",
   "execution_count": 112,
   "id": "f0ea1d86",
   "metadata": {
    "scrolled": true
   },
   "outputs": [
    {
     "name": "stdout",
     "output_type": "stream",
     "text": [
      "test only shops: 0\n"
     ]
    }
   ],
   "source": [
    "test_diff_shop = set(test['shop_id'].unique()) - set(sales_train['shop_id'].unique())\n",
    "print('test only shops:', len(test_diff_shop))\n"
   ]
  },
  {
   "cell_type": "code",
   "execution_count": 113,
   "id": "58b1393b",
   "metadata": {},
   "outputs": [
    {
     "data": {
      "text/plain": [
       "14"
      ]
     },
     "execution_count": 113,
     "metadata": {},
     "output_type": "execute_result"
    }
   ],
   "source": [
    "len(sales_train['shop_id'].unique())-len(test['shop_id'].unique())"
   ]
  },
  {
   "cell_type": "code",
   "execution_count": 114,
   "id": "0d65f52b",
   "metadata": {
    "colab": {
     "base_uri": "https://localhost:8080/"
    },
    "executionInfo": {
     "elapsed": 304,
     "status": "ok",
     "timestamp": 1645953132644,
     "user": {
      "displayName": "박상우",
      "photoUrl": "https://lh3.googleusercontent.com/a/default-user=s64",
      "userId": "01069816878135445976"
     },
     "user_tz": -540
    },
    "id": "0d65f52b",
    "outputId": "62a2cb5c-47ea-40be-cc9a-50b75d18958b",
    "scrolled": true
   },
   "outputs": [],
   "source": [
    "# test data에만 있는 shop_id 와 item_id\n",
    "test_only = sales_train[sales_train['shop_id'].isin(test_shop_id)]\n",
    "test_only = test_only[test_only['item_id'].isin(test_item_id)]"
   ]
  },
  {
   "cell_type": "markdown",
   "id": "31ad068c",
   "metadata": {},
   "source": [
    "#### 수정 전후 데이터 크기 비교"
   ]
  },
  {
   "cell_type": "code",
   "execution_count": 115,
   "id": "8665ee38",
   "metadata": {},
   "outputs": [
    {
     "name": "stdout",
     "output_type": "stream",
     "text": [
      "데이타 크기 수정 전: 2935844\n",
      "데이타 크기 수정 후: 1230909\n"
     ]
    }
   ],
   "source": [
    "test_only.drop('date', axis=1, inplace=True)\n",
    "print('데이타 크기 수정 전:', sales_train.shape[0]) #293만\n",
    "print('데이타 크기 수정 후:', test_only.shape[0]) #123만"
   ]
  },
  {
   "cell_type": "markdown",
   "id": "188b84f5",
   "metadata": {},
   "source": [
    "## 4.5. 데이터 합치기\n",
    "### 4.5.1. test에 있는 sales_train 과 test 합치기"
   ]
  },
  {
   "cell_type": "code",
   "execution_count": 116,
   "id": "a2e3cc86",
   "metadata": {
    "executionInfo": {
     "elapsed": 5,
     "status": "ok",
     "timestamp": 1645953132644,
     "user": {
      "displayName": "박상우",
      "photoUrl": "https://lh3.googleusercontent.com/a/default-user=s64",
      "userId": "01069816878135445976"
     },
     "user_tz": -540
    },
    "id": "a2e3cc86"
   },
   "outputs": [],
   "source": [
    "df_merge = pd.concat([test_only, test], ignore_index=True, sort=False)"
   ]
  },
  {
   "cell_type": "code",
   "execution_count": 117,
   "id": "ca8bd187",
   "metadata": {
    "executionInfo": {
     "elapsed": 4,
     "status": "ok",
     "timestamp": 1645953132644,
     "user": {
      "displayName": "박상우",
      "photoUrl": "https://lh3.googleusercontent.com/a/default-user=s64",
      "userId": "01069816878135445976"
     },
     "user_tz": -540
    },
    "id": "ca8bd187"
   },
   "outputs": [],
   "source": [
    "df_merge['item_cnt_day'].fillna(0, inplace=True)"
   ]
  },
  {
   "cell_type": "code",
   "execution_count": 118,
   "id": "48aaf57a",
   "metadata": {
    "executionInfo": {
     "elapsed": 5,
     "status": "ok",
     "timestamp": 1645953132645,
     "user": {
      "displayName": "박상우",
      "photoUrl": "https://lh3.googleusercontent.com/a/default-user=s64",
      "userId": "01069816878135445976"
     },
     "user_tz": -540
    },
    "id": "48aaf57a"
   },
   "outputs": [
    {
     "data": {
      "text/html": [
       "<div>\n",
       "<style scoped>\n",
       "    .dataframe tbody tr th:only-of-type {\n",
       "        vertical-align: middle;\n",
       "    }\n",
       "\n",
       "    .dataframe tbody tr th {\n",
       "        vertical-align: top;\n",
       "    }\n",
       "\n",
       "    .dataframe thead th {\n",
       "        text-align: right;\n",
       "    }\n",
       "</style>\n",
       "<table border=\"1\" class=\"dataframe\">\n",
       "  <thead>\n",
       "    <tr style=\"text-align: right;\">\n",
       "      <th></th>\n",
       "      <th>date_block_num</th>\n",
       "      <th>shop_id</th>\n",
       "      <th>item_id</th>\n",
       "      <th>item_cnt_day</th>\n",
       "      <th>year</th>\n",
       "      <th>month</th>\n",
       "      <th>day</th>\n",
       "      <th>days</th>\n",
       "    </tr>\n",
       "  </thead>\n",
       "  <tbody>\n",
       "    <tr>\n",
       "      <th>0</th>\n",
       "      <td>0</td>\n",
       "      <td>59</td>\n",
       "      <td>22154</td>\n",
       "      <td>1.0</td>\n",
       "      <td>2013.0</td>\n",
       "      <td>1.0</td>\n",
       "      <td>2.0</td>\n",
       "      <td>Wednesday</td>\n",
       "    </tr>\n",
       "  </tbody>\n",
       "</table>\n",
       "</div>"
      ],
      "text/plain": [
       "   date_block_num  shop_id  item_id  item_cnt_day    year  month  day  \\\n",
       "0               0       59    22154           1.0  2013.0    1.0  2.0   \n",
       "\n",
       "        days  \n",
       "0  Wednesday  "
      ]
     },
     "execution_count": 118,
     "metadata": {},
     "output_type": "execute_result"
    }
   ],
   "source": [
    "df_merge.drop('item_price', axis=1, inplace=True)\n",
    "df_merge.head(1)"
   ]
  },
  {
   "cell_type": "markdown",
   "id": "b5405c5d",
   "metadata": {
    "id": "b5405c5d"
   },
   "source": [
    "### 4.5.2. shops를 df_merge와 합치기"
   ]
  },
  {
   "cell_type": "code",
   "execution_count": 119,
   "id": "d62535a2",
   "metadata": {
    "executionInfo": {
     "elapsed": 266,
     "status": "ok",
     "timestamp": 1645953132908,
     "user": {
      "displayName": "박상우",
      "photoUrl": "https://lh3.googleusercontent.com/a/default-user=s64",
      "userId": "01069816878135445976"
     },
     "user_tz": -540
    },
    "id": "d62535a2"
   },
   "outputs": [],
   "source": [
    "df_merge = pd.merge(df_merge, shops, on='shop_id', how='left')"
   ]
  },
  {
   "cell_type": "markdown",
   "id": "c4f515cb",
   "metadata": {},
   "source": [
    "### 4.5.3. items를 df_merge와 합치기"
   ]
  },
  {
   "cell_type": "code",
   "execution_count": 120,
   "id": "b68e0f5e",
   "metadata": {
    "executionInfo": {
     "elapsed": 268,
     "status": "ok",
     "timestamp": 1645953133172,
     "user": {
      "displayName": "박상우",
      "photoUrl": "https://lh3.googleusercontent.com/a/default-user=s64",
      "userId": "01069816878135445976"
     },
     "user_tz": -540
    },
    "id": "b68e0f5e"
   },
   "outputs": [],
   "source": [
    "df_merge = pd.merge(df_merge, items, on='item_id', how='left')"
   ]
  },
  {
   "cell_type": "markdown",
   "id": "0c57dc23",
   "metadata": {},
   "source": [
    "### 4.5.4. 중복값 제거"
   ]
  },
  {
   "cell_type": "code",
   "execution_count": 121,
   "id": "SfZOVxlLX1Ah",
   "metadata": {
    "colab": {
     "base_uri": "https://localhost:8080/",
     "height": 423
    },
    "executionInfo": {
     "elapsed": 735,
     "status": "ok",
     "timestamp": 1645953133905,
     "user": {
      "displayName": "박상우",
      "photoUrl": "https://lh3.googleusercontent.com/a/default-user=s64",
      "userId": "01069816878135445976"
     },
     "user_tz": -540
    },
    "id": "SfZOVxlLX1Ah",
    "outputId": "6c0e5c52-a10c-4a3d-8656-7abe262d50e0",
    "scrolled": true
   },
   "outputs": [
    {
     "data": {
      "text/html": [
       "<div>\n",
       "<style scoped>\n",
       "    .dataframe tbody tr th:only-of-type {\n",
       "        vertical-align: middle;\n",
       "    }\n",
       "\n",
       "    .dataframe tbody tr th {\n",
       "        vertical-align: top;\n",
       "    }\n",
       "\n",
       "    .dataframe thead th {\n",
       "        text-align: right;\n",
       "    }\n",
       "</style>\n",
       "<table border=\"1\" class=\"dataframe\">\n",
       "  <thead>\n",
       "    <tr style=\"text-align: right;\">\n",
       "      <th></th>\n",
       "      <th>date_block_num</th>\n",
       "      <th>shop_id</th>\n",
       "      <th>item_id</th>\n",
       "      <th>item_cnt_day</th>\n",
       "      <th>year</th>\n",
       "      <th>month</th>\n",
       "      <th>day</th>\n",
       "      <th>days</th>\n",
       "      <th>city</th>\n",
       "      <th>item_category_id</th>\n",
       "      <th>item_type_enc</th>\n",
       "      <th>item_subtype_enc</th>\n",
       "    </tr>\n",
       "  </thead>\n",
       "  <tbody>\n",
       "    <tr>\n",
       "      <th>6261</th>\n",
       "      <td>0</td>\n",
       "      <td>57</td>\n",
       "      <td>11081</td>\n",
       "      <td>1.0</td>\n",
       "      <td>2013.0</td>\n",
       "      <td>1.0</td>\n",
       "      <td>6.0</td>\n",
       "      <td>Sunday</td>\n",
       "      <td>29</td>\n",
       "      <td>40</td>\n",
       "      <td>11</td>\n",
       "      <td>4</td>\n",
       "    </tr>\n",
       "    <tr>\n",
       "      <th>6263</th>\n",
       "      <td>0</td>\n",
       "      <td>57</td>\n",
       "      <td>10928</td>\n",
       "      <td>1.0</td>\n",
       "      <td>2013.0</td>\n",
       "      <td>1.0</td>\n",
       "      <td>3.0</td>\n",
       "      <td>Thursday</td>\n",
       "      <td>29</td>\n",
       "      <td>55</td>\n",
       "      <td>13</td>\n",
       "      <td>2</td>\n",
       "    </tr>\n",
       "    <tr>\n",
       "      <th>6265</th>\n",
       "      <td>0</td>\n",
       "      <td>57</td>\n",
       "      <td>10939</td>\n",
       "      <td>1.0</td>\n",
       "      <td>2013.0</td>\n",
       "      <td>1.0</td>\n",
       "      <td>10.0</td>\n",
       "      <td>Thursday</td>\n",
       "      <td>29</td>\n",
       "      <td>55</td>\n",
       "      <td>13</td>\n",
       "      <td>2</td>\n",
       "    </tr>\n",
       "    <tr>\n",
       "      <th>6267</th>\n",
       "      <td>0</td>\n",
       "      <td>57</td>\n",
       "      <td>10945</td>\n",
       "      <td>1.0</td>\n",
       "      <td>2013.0</td>\n",
       "      <td>1.0</td>\n",
       "      <td>18.0</td>\n",
       "      <td>Friday</td>\n",
       "      <td>29</td>\n",
       "      <td>57</td>\n",
       "      <td>13</td>\n",
       "      <td>8</td>\n",
       "    </tr>\n",
       "    <tr>\n",
       "      <th>6269</th>\n",
       "      <td>0</td>\n",
       "      <td>57</td>\n",
       "      <td>11012</td>\n",
       "      <td>1.0</td>\n",
       "      <td>2013.0</td>\n",
       "      <td>1.0</td>\n",
       "      <td>6.0</td>\n",
       "      <td>Sunday</td>\n",
       "      <td>29</td>\n",
       "      <td>55</td>\n",
       "      <td>13</td>\n",
       "      <td>2</td>\n",
       "    </tr>\n",
       "    <tr>\n",
       "      <th>...</th>\n",
       "      <td>...</td>\n",
       "      <td>...</td>\n",
       "      <td>...</td>\n",
       "      <td>...</td>\n",
       "      <td>...</td>\n",
       "      <td>...</td>\n",
       "      <td>...</td>\n",
       "      <td>...</td>\n",
       "      <td>...</td>\n",
       "      <td>...</td>\n",
       "      <td>...</td>\n",
       "      <td>...</td>\n",
       "    </tr>\n",
       "    <tr>\n",
       "      <th>1576752</th>\n",
       "      <td>34</td>\n",
       "      <td>39</td>\n",
       "      <td>18454</td>\n",
       "      <td>0.0</td>\n",
       "      <td>NaN</td>\n",
       "      <td>NaN</td>\n",
       "      <td>NaN</td>\n",
       "      <td>NaN</td>\n",
       "      <td>18</td>\n",
       "      <td>55</td>\n",
       "      <td>13</td>\n",
       "      <td>2</td>\n",
       "    </tr>\n",
       "    <tr>\n",
       "      <th>1576754</th>\n",
       "      <td>34</td>\n",
       "      <td>39</td>\n",
       "      <td>16188</td>\n",
       "      <td>0.0</td>\n",
       "      <td>NaN</td>\n",
       "      <td>NaN</td>\n",
       "      <td>NaN</td>\n",
       "      <td>NaN</td>\n",
       "      <td>18</td>\n",
       "      <td>64</td>\n",
       "      <td>14</td>\n",
       "      <td>42</td>\n",
       "    </tr>\n",
       "    <tr>\n",
       "      <th>1576756</th>\n",
       "      <td>34</td>\n",
       "      <td>39</td>\n",
       "      <td>15757</td>\n",
       "      <td>0.0</td>\n",
       "      <td>NaN</td>\n",
       "      <td>NaN</td>\n",
       "      <td>NaN</td>\n",
       "      <td>NaN</td>\n",
       "      <td>18</td>\n",
       "      <td>55</td>\n",
       "      <td>13</td>\n",
       "      <td>2</td>\n",
       "    </tr>\n",
       "    <tr>\n",
       "      <th>1576758</th>\n",
       "      <td>34</td>\n",
       "      <td>39</td>\n",
       "      <td>19648</td>\n",
       "      <td>0.0</td>\n",
       "      <td>NaN</td>\n",
       "      <td>NaN</td>\n",
       "      <td>NaN</td>\n",
       "      <td>NaN</td>\n",
       "      <td>18</td>\n",
       "      <td>40</td>\n",
       "      <td>11</td>\n",
       "      <td>4</td>\n",
       "    </tr>\n",
       "    <tr>\n",
       "      <th>1576760</th>\n",
       "      <td>34</td>\n",
       "      <td>39</td>\n",
       "      <td>969</td>\n",
       "      <td>0.0</td>\n",
       "      <td>NaN</td>\n",
       "      <td>NaN</td>\n",
       "      <td>NaN</td>\n",
       "      <td>NaN</td>\n",
       "      <td>18</td>\n",
       "      <td>37</td>\n",
       "      <td>11</td>\n",
       "      <td>1</td>\n",
       "    </tr>\n",
       "  </tbody>\n",
       "</table>\n",
       "<p>136927 rows × 12 columns</p>\n",
       "</div>"
      ],
      "text/plain": [
       "         date_block_num  shop_id  item_id  item_cnt_day    year  month   day  \\\n",
       "6261                  0       57    11081           1.0  2013.0    1.0   6.0   \n",
       "6263                  0       57    10928           1.0  2013.0    1.0   3.0   \n",
       "6265                  0       57    10939           1.0  2013.0    1.0  10.0   \n",
       "6267                  0       57    10945           1.0  2013.0    1.0  18.0   \n",
       "6269                  0       57    11012           1.0  2013.0    1.0   6.0   \n",
       "...                 ...      ...      ...           ...     ...    ...   ...   \n",
       "1576752              34       39    18454           0.0     NaN    NaN   NaN   \n",
       "1576754              34       39    16188           0.0     NaN    NaN   NaN   \n",
       "1576756              34       39    15757           0.0     NaN    NaN   NaN   \n",
       "1576758              34       39    19648           0.0     NaN    NaN   NaN   \n",
       "1576760              34       39      969           0.0     NaN    NaN   NaN   \n",
       "\n",
       "             days  city  item_category_id  item_type_enc  item_subtype_enc  \n",
       "6261       Sunday    29                40             11                 4  \n",
       "6263     Thursday    29                55             13                 2  \n",
       "6265     Thursday    29                55             13                 2  \n",
       "6267       Friday    29                57             13                 8  \n",
       "6269       Sunday    29                55             13                 2  \n",
       "...           ...   ...               ...            ...               ...  \n",
       "1576752       NaN    18                55             13                 2  \n",
       "1576754       NaN    18                64             14                42  \n",
       "1576756       NaN    18                55             13                 2  \n",
       "1576758       NaN    18                40             11                 4  \n",
       "1576760       NaN    18                37             11                 1  \n",
       "\n",
       "[136927 rows x 12 columns]"
      ]
     },
     "execution_count": 121,
     "metadata": {},
     "output_type": "execute_result"
    }
   ],
   "source": [
    "df_merge[df_merge.duplicated() == True]"
   ]
  },
  {
   "cell_type": "code",
   "execution_count": 122,
   "id": "35oEgQ0HYKYk",
   "metadata": {
    "executionInfo": {
     "elapsed": 10,
     "status": "ok",
     "timestamp": 1645953133905,
     "user": {
      "displayName": "박상우",
      "photoUrl": "https://lh3.googleusercontent.com/a/default-user=s64",
      "userId": "01069816878135445976"
     },
     "user_tz": -540
    },
    "id": "35oEgQ0HYKYk"
   },
   "outputs": [
    {
     "data": {
      "text/html": [
       "<div>\n",
       "<style scoped>\n",
       "    .dataframe tbody tr th:only-of-type {\n",
       "        vertical-align: middle;\n",
       "    }\n",
       "\n",
       "    .dataframe tbody tr th {\n",
       "        vertical-align: top;\n",
       "    }\n",
       "\n",
       "    .dataframe thead th {\n",
       "        text-align: right;\n",
       "    }\n",
       "</style>\n",
       "<table border=\"1\" class=\"dataframe\">\n",
       "  <thead>\n",
       "    <tr style=\"text-align: right;\">\n",
       "      <th></th>\n",
       "      <th>date_block_num</th>\n",
       "      <th>shop_id</th>\n",
       "      <th>item_id</th>\n",
       "      <th>item_cnt_day</th>\n",
       "      <th>year</th>\n",
       "      <th>month</th>\n",
       "      <th>day</th>\n",
       "      <th>days</th>\n",
       "      <th>city</th>\n",
       "      <th>item_category_id</th>\n",
       "      <th>item_type_enc</th>\n",
       "      <th>item_subtype_enc</th>\n",
       "    </tr>\n",
       "  </thead>\n",
       "  <tbody>\n",
       "    <tr>\n",
       "      <th>0</th>\n",
       "      <td>0</td>\n",
       "      <td>59</td>\n",
       "      <td>22154</td>\n",
       "      <td>1.0</td>\n",
       "      <td>2013.0</td>\n",
       "      <td>1.0</td>\n",
       "      <td>2.0</td>\n",
       "      <td>Wednesday</td>\n",
       "      <td>30</td>\n",
       "      <td>37</td>\n",
       "      <td>11</td>\n",
       "      <td>1</td>\n",
       "    </tr>\n",
       "    <tr>\n",
       "      <th>1</th>\n",
       "      <td>0</td>\n",
       "      <td>25</td>\n",
       "      <td>2574</td>\n",
       "      <td>2.0</td>\n",
       "      <td>2013.0</td>\n",
       "      <td>1.0</td>\n",
       "      <td>3.0</td>\n",
       "      <td>Thursday</td>\n",
       "      <td>13</td>\n",
       "      <td>55</td>\n",
       "      <td>13</td>\n",
       "      <td>2</td>\n",
       "    </tr>\n",
       "    <tr>\n",
       "      <th>2</th>\n",
       "      <td>0</td>\n",
       "      <td>25</td>\n",
       "      <td>2574</td>\n",
       "      <td>1.0</td>\n",
       "      <td>2013.0</td>\n",
       "      <td>1.0</td>\n",
       "      <td>5.0</td>\n",
       "      <td>Saturday</td>\n",
       "      <td>13</td>\n",
       "      <td>55</td>\n",
       "      <td>13</td>\n",
       "      <td>2</td>\n",
       "    </tr>\n",
       "    <tr>\n",
       "      <th>3</th>\n",
       "      <td>0</td>\n",
       "      <td>25</td>\n",
       "      <td>2574</td>\n",
       "      <td>1.0</td>\n",
       "      <td>2013.0</td>\n",
       "      <td>1.0</td>\n",
       "      <td>7.0</td>\n",
       "      <td>Monday</td>\n",
       "      <td>13</td>\n",
       "      <td>55</td>\n",
       "      <td>13</td>\n",
       "      <td>2</td>\n",
       "    </tr>\n",
       "    <tr>\n",
       "      <th>4</th>\n",
       "      <td>0</td>\n",
       "      <td>25</td>\n",
       "      <td>2574</td>\n",
       "      <td>2.0</td>\n",
       "      <td>2013.0</td>\n",
       "      <td>1.0</td>\n",
       "      <td>8.0</td>\n",
       "      <td>Tuesday</td>\n",
       "      <td>13</td>\n",
       "      <td>55</td>\n",
       "      <td>13</td>\n",
       "      <td>2</td>\n",
       "    </tr>\n",
       "    <tr>\n",
       "      <th>...</th>\n",
       "      <td>...</td>\n",
       "      <td>...</td>\n",
       "      <td>...</td>\n",
       "      <td>...</td>\n",
       "      <td>...</td>\n",
       "      <td>...</td>\n",
       "      <td>...</td>\n",
       "      <td>...</td>\n",
       "      <td>...</td>\n",
       "      <td>...</td>\n",
       "      <td>...</td>\n",
       "      <td>...</td>\n",
       "    </tr>\n",
       "    <tr>\n",
       "      <th>1581856</th>\n",
       "      <td>34</td>\n",
       "      <td>45</td>\n",
       "      <td>18454</td>\n",
       "      <td>0.0</td>\n",
       "      <td>NaN</td>\n",
       "      <td>NaN</td>\n",
       "      <td>NaN</td>\n",
       "      <td>NaN</td>\n",
       "      <td>20</td>\n",
       "      <td>55</td>\n",
       "      <td>13</td>\n",
       "      <td>2</td>\n",
       "    </tr>\n",
       "    <tr>\n",
       "      <th>1581857</th>\n",
       "      <td>34</td>\n",
       "      <td>45</td>\n",
       "      <td>16188</td>\n",
       "      <td>0.0</td>\n",
       "      <td>NaN</td>\n",
       "      <td>NaN</td>\n",
       "      <td>NaN</td>\n",
       "      <td>NaN</td>\n",
       "      <td>20</td>\n",
       "      <td>64</td>\n",
       "      <td>14</td>\n",
       "      <td>42</td>\n",
       "    </tr>\n",
       "    <tr>\n",
       "      <th>1581858</th>\n",
       "      <td>34</td>\n",
       "      <td>45</td>\n",
       "      <td>15757</td>\n",
       "      <td>0.0</td>\n",
       "      <td>NaN</td>\n",
       "      <td>NaN</td>\n",
       "      <td>NaN</td>\n",
       "      <td>NaN</td>\n",
       "      <td>20</td>\n",
       "      <td>55</td>\n",
       "      <td>13</td>\n",
       "      <td>2</td>\n",
       "    </tr>\n",
       "    <tr>\n",
       "      <th>1581859</th>\n",
       "      <td>34</td>\n",
       "      <td>45</td>\n",
       "      <td>19648</td>\n",
       "      <td>0.0</td>\n",
       "      <td>NaN</td>\n",
       "      <td>NaN</td>\n",
       "      <td>NaN</td>\n",
       "      <td>NaN</td>\n",
       "      <td>20</td>\n",
       "      <td>40</td>\n",
       "      <td>11</td>\n",
       "      <td>4</td>\n",
       "    </tr>\n",
       "    <tr>\n",
       "      <th>1581860</th>\n",
       "      <td>34</td>\n",
       "      <td>45</td>\n",
       "      <td>969</td>\n",
       "      <td>0.0</td>\n",
       "      <td>NaN</td>\n",
       "      <td>NaN</td>\n",
       "      <td>NaN</td>\n",
       "      <td>NaN</td>\n",
       "      <td>20</td>\n",
       "      <td>37</td>\n",
       "      <td>11</td>\n",
       "      <td>1</td>\n",
       "    </tr>\n",
       "  </tbody>\n",
       "</table>\n",
       "<p>1444934 rows × 12 columns</p>\n",
       "</div>"
      ],
      "text/plain": [
       "         date_block_num  shop_id  item_id  item_cnt_day    year  month  day  \\\n",
       "0                     0       59    22154           1.0  2013.0    1.0  2.0   \n",
       "1                     0       25     2574           2.0  2013.0    1.0  3.0   \n",
       "2                     0       25     2574           1.0  2013.0    1.0  5.0   \n",
       "3                     0       25     2574           1.0  2013.0    1.0  7.0   \n",
       "4                     0       25     2574           2.0  2013.0    1.0  8.0   \n",
       "...                 ...      ...      ...           ...     ...    ...  ...   \n",
       "1581856              34       45    18454           0.0     NaN    NaN  NaN   \n",
       "1581857              34       45    16188           0.0     NaN    NaN  NaN   \n",
       "1581858              34       45    15757           0.0     NaN    NaN  NaN   \n",
       "1581859              34       45    19648           0.0     NaN    NaN  NaN   \n",
       "1581860              34       45      969           0.0     NaN    NaN  NaN   \n",
       "\n",
       "              days  city  item_category_id  item_type_enc  item_subtype_enc  \n",
       "0        Wednesday    30                37             11                 1  \n",
       "1         Thursday    13                55             13                 2  \n",
       "2         Saturday    13                55             13                 2  \n",
       "3           Monday    13                55             13                 2  \n",
       "4          Tuesday    13                55             13                 2  \n",
       "...            ...   ...               ...            ...               ...  \n",
       "1581856        NaN    20                55             13                 2  \n",
       "1581857        NaN    20                64             14                42  \n",
       "1581858        NaN    20                55             13                 2  \n",
       "1581859        NaN    20                40             11                 4  \n",
       "1581860        NaN    20                37             11                 1  \n",
       "\n",
       "[1444934 rows x 12 columns]"
      ]
     },
     "execution_count": 122,
     "metadata": {},
     "output_type": "execute_result"
    }
   ],
   "source": [
    "df_merge.drop_duplicates(inplace=True)\n",
    "df_merge"
   ]
  },
  {
   "cell_type": "markdown",
   "id": "3c7f0e92",
   "metadata": {},
   "source": [
    "## 4.6. df_merge에 year&month 열 추가"
   ]
  },
  {
   "cell_type": "code",
   "execution_count": 133,
   "id": "d9c15f2d",
   "metadata": {
    "executionInfo": {
     "elapsed": 699,
     "status": "ok",
     "timestamp": 1645953134601,
     "user": {
      "displayName": "박상우",
      "photoUrl": "https://lh3.googleusercontent.com/a/default-user=s64",
      "userId": "01069816878135445976"
     },
     "user_tz": -540
    },
    "id": "d9c15f2d",
    "scrolled": true
   },
   "outputs": [],
   "source": [
    "df_merge['year'] = df_merge['date_block_num'].apply(lambda x: ((x//12) + 2013))\n",
    "df_merge['month'] = df_merge['date_block_num'].apply(lambda x: (x % 12)+1)"
   ]
  },
  {
   "cell_type": "code",
   "execution_count": 134,
   "id": "dfa813ac",
   "metadata": {
    "collapsed": true
   },
   "outputs": [
    {
     "ename": "KeyError",
     "evalue": "\"['day' 'days'] not found in axis\"",
     "output_type": "error",
     "traceback": [
      "\u001b[1;31m---------------------------------------------------------------------------\u001b[0m",
      "\u001b[1;31mKeyError\u001b[0m                                  Traceback (most recent call last)",
      "\u001b[1;32m~\\AppData\\Local\\Temp/ipykernel_1084/1607728190.py\u001b[0m in \u001b[0;36m<module>\u001b[1;34m\u001b[0m\n\u001b[1;32m----> 1\u001b[1;33m \u001b[0mdf_merge\u001b[0m\u001b[1;33m.\u001b[0m\u001b[0mdrop\u001b[0m\u001b[1;33m(\u001b[0m\u001b[1;33m[\u001b[0m\u001b[1;34m'day'\u001b[0m\u001b[1;33m,\u001b[0m\u001b[1;34m'days'\u001b[0m\u001b[1;33m]\u001b[0m\u001b[1;33m,\u001b[0m \u001b[0maxis\u001b[0m \u001b[1;33m=\u001b[0m\u001b[1;36m1\u001b[0m \u001b[1;33m,\u001b[0m \u001b[0minplace\u001b[0m\u001b[1;33m=\u001b[0m\u001b[1;32mTrue\u001b[0m\u001b[1;33m)\u001b[0m\u001b[1;33m\u001b[0m\u001b[1;33m\u001b[0m\u001b[0m\n\u001b[0m",
      "\u001b[1;32m~\\anaconda3\\lib\\site-packages\\pandas\\util\\_decorators.py\u001b[0m in \u001b[0;36mwrapper\u001b[1;34m(*args, **kwargs)\u001b[0m\n\u001b[0;32m    309\u001b[0m                     \u001b[0mstacklevel\u001b[0m\u001b[1;33m=\u001b[0m\u001b[0mstacklevel\u001b[0m\u001b[1;33m,\u001b[0m\u001b[1;33m\u001b[0m\u001b[1;33m\u001b[0m\u001b[0m\n\u001b[0;32m    310\u001b[0m                 )\n\u001b[1;32m--> 311\u001b[1;33m             \u001b[1;32mreturn\u001b[0m \u001b[0mfunc\u001b[0m\u001b[1;33m(\u001b[0m\u001b[1;33m*\u001b[0m\u001b[0margs\u001b[0m\u001b[1;33m,\u001b[0m \u001b[1;33m**\u001b[0m\u001b[0mkwargs\u001b[0m\u001b[1;33m)\u001b[0m\u001b[1;33m\u001b[0m\u001b[1;33m\u001b[0m\u001b[0m\n\u001b[0m\u001b[0;32m    312\u001b[0m \u001b[1;33m\u001b[0m\u001b[0m\n\u001b[0;32m    313\u001b[0m         \u001b[1;32mreturn\u001b[0m \u001b[0mwrapper\u001b[0m\u001b[1;33m\u001b[0m\u001b[1;33m\u001b[0m\u001b[0m\n",
      "\u001b[1;32m~\\anaconda3\\lib\\site-packages\\pandas\\core\\frame.py\u001b[0m in \u001b[0;36mdrop\u001b[1;34m(self, labels, axis, index, columns, level, inplace, errors)\u001b[0m\n\u001b[0;32m   4904\u001b[0m                 \u001b[0mweight\u001b[0m  \u001b[1;36m1.0\u001b[0m     \u001b[1;36m0.8\u001b[0m\u001b[1;33m\u001b[0m\u001b[1;33m\u001b[0m\u001b[0m\n\u001b[0;32m   4905\u001b[0m         \"\"\"\n\u001b[1;32m-> 4906\u001b[1;33m         return super().drop(\n\u001b[0m\u001b[0;32m   4907\u001b[0m             \u001b[0mlabels\u001b[0m\u001b[1;33m=\u001b[0m\u001b[0mlabels\u001b[0m\u001b[1;33m,\u001b[0m\u001b[1;33m\u001b[0m\u001b[1;33m\u001b[0m\u001b[0m\n\u001b[0;32m   4908\u001b[0m             \u001b[0maxis\u001b[0m\u001b[1;33m=\u001b[0m\u001b[0maxis\u001b[0m\u001b[1;33m,\u001b[0m\u001b[1;33m\u001b[0m\u001b[1;33m\u001b[0m\u001b[0m\n",
      "\u001b[1;32m~\\anaconda3\\lib\\site-packages\\pandas\\core\\generic.py\u001b[0m in \u001b[0;36mdrop\u001b[1;34m(self, labels, axis, index, columns, level, inplace, errors)\u001b[0m\n\u001b[0;32m   4148\u001b[0m         \u001b[1;32mfor\u001b[0m \u001b[0maxis\u001b[0m\u001b[1;33m,\u001b[0m \u001b[0mlabels\u001b[0m \u001b[1;32min\u001b[0m \u001b[0maxes\u001b[0m\u001b[1;33m.\u001b[0m\u001b[0mitems\u001b[0m\u001b[1;33m(\u001b[0m\u001b[1;33m)\u001b[0m\u001b[1;33m:\u001b[0m\u001b[1;33m\u001b[0m\u001b[1;33m\u001b[0m\u001b[0m\n\u001b[0;32m   4149\u001b[0m             \u001b[1;32mif\u001b[0m \u001b[0mlabels\u001b[0m \u001b[1;32mis\u001b[0m \u001b[1;32mnot\u001b[0m \u001b[1;32mNone\u001b[0m\u001b[1;33m:\u001b[0m\u001b[1;33m\u001b[0m\u001b[1;33m\u001b[0m\u001b[0m\n\u001b[1;32m-> 4150\u001b[1;33m                 \u001b[0mobj\u001b[0m \u001b[1;33m=\u001b[0m \u001b[0mobj\u001b[0m\u001b[1;33m.\u001b[0m\u001b[0m_drop_axis\u001b[0m\u001b[1;33m(\u001b[0m\u001b[0mlabels\u001b[0m\u001b[1;33m,\u001b[0m \u001b[0maxis\u001b[0m\u001b[1;33m,\u001b[0m \u001b[0mlevel\u001b[0m\u001b[1;33m=\u001b[0m\u001b[0mlevel\u001b[0m\u001b[1;33m,\u001b[0m \u001b[0merrors\u001b[0m\u001b[1;33m=\u001b[0m\u001b[0merrors\u001b[0m\u001b[1;33m)\u001b[0m\u001b[1;33m\u001b[0m\u001b[1;33m\u001b[0m\u001b[0m\n\u001b[0m\u001b[0;32m   4151\u001b[0m \u001b[1;33m\u001b[0m\u001b[0m\n\u001b[0;32m   4152\u001b[0m         \u001b[1;32mif\u001b[0m \u001b[0minplace\u001b[0m\u001b[1;33m:\u001b[0m\u001b[1;33m\u001b[0m\u001b[1;33m\u001b[0m\u001b[0m\n",
      "\u001b[1;32m~\\anaconda3\\lib\\site-packages\\pandas\\core\\generic.py\u001b[0m in \u001b[0;36m_drop_axis\u001b[1;34m(self, labels, axis, level, errors)\u001b[0m\n\u001b[0;32m   4183\u001b[0m                 \u001b[0mnew_axis\u001b[0m \u001b[1;33m=\u001b[0m \u001b[0maxis\u001b[0m\u001b[1;33m.\u001b[0m\u001b[0mdrop\u001b[0m\u001b[1;33m(\u001b[0m\u001b[0mlabels\u001b[0m\u001b[1;33m,\u001b[0m \u001b[0mlevel\u001b[0m\u001b[1;33m=\u001b[0m\u001b[0mlevel\u001b[0m\u001b[1;33m,\u001b[0m \u001b[0merrors\u001b[0m\u001b[1;33m=\u001b[0m\u001b[0merrors\u001b[0m\u001b[1;33m)\u001b[0m\u001b[1;33m\u001b[0m\u001b[1;33m\u001b[0m\u001b[0m\n\u001b[0;32m   4184\u001b[0m             \u001b[1;32melse\u001b[0m\u001b[1;33m:\u001b[0m\u001b[1;33m\u001b[0m\u001b[1;33m\u001b[0m\u001b[0m\n\u001b[1;32m-> 4185\u001b[1;33m                 \u001b[0mnew_axis\u001b[0m \u001b[1;33m=\u001b[0m \u001b[0maxis\u001b[0m\u001b[1;33m.\u001b[0m\u001b[0mdrop\u001b[0m\u001b[1;33m(\u001b[0m\u001b[0mlabels\u001b[0m\u001b[1;33m,\u001b[0m \u001b[0merrors\u001b[0m\u001b[1;33m=\u001b[0m\u001b[0merrors\u001b[0m\u001b[1;33m)\u001b[0m\u001b[1;33m\u001b[0m\u001b[1;33m\u001b[0m\u001b[0m\n\u001b[0m\u001b[0;32m   4186\u001b[0m             \u001b[0mresult\u001b[0m \u001b[1;33m=\u001b[0m \u001b[0mself\u001b[0m\u001b[1;33m.\u001b[0m\u001b[0mreindex\u001b[0m\u001b[1;33m(\u001b[0m\u001b[1;33m**\u001b[0m\u001b[1;33m{\u001b[0m\u001b[0maxis_name\u001b[0m\u001b[1;33m:\u001b[0m \u001b[0mnew_axis\u001b[0m\u001b[1;33m}\u001b[0m\u001b[1;33m)\u001b[0m\u001b[1;33m\u001b[0m\u001b[1;33m\u001b[0m\u001b[0m\n\u001b[0;32m   4187\u001b[0m \u001b[1;33m\u001b[0m\u001b[0m\n",
      "\u001b[1;32m~\\anaconda3\\lib\\site-packages\\pandas\\core\\indexes\\base.py\u001b[0m in \u001b[0;36mdrop\u001b[1;34m(self, labels, errors)\u001b[0m\n\u001b[0;32m   6015\u001b[0m         \u001b[1;32mif\u001b[0m \u001b[0mmask\u001b[0m\u001b[1;33m.\u001b[0m\u001b[0many\u001b[0m\u001b[1;33m(\u001b[0m\u001b[1;33m)\u001b[0m\u001b[1;33m:\u001b[0m\u001b[1;33m\u001b[0m\u001b[1;33m\u001b[0m\u001b[0m\n\u001b[0;32m   6016\u001b[0m             \u001b[1;32mif\u001b[0m \u001b[0merrors\u001b[0m \u001b[1;33m!=\u001b[0m \u001b[1;34m\"ignore\"\u001b[0m\u001b[1;33m:\u001b[0m\u001b[1;33m\u001b[0m\u001b[1;33m\u001b[0m\u001b[0m\n\u001b[1;32m-> 6017\u001b[1;33m                 \u001b[1;32mraise\u001b[0m \u001b[0mKeyError\u001b[0m\u001b[1;33m(\u001b[0m\u001b[1;34mf\"{labels[mask]} not found in axis\"\u001b[0m\u001b[1;33m)\u001b[0m\u001b[1;33m\u001b[0m\u001b[1;33m\u001b[0m\u001b[0m\n\u001b[0m\u001b[0;32m   6018\u001b[0m             \u001b[0mindexer\u001b[0m \u001b[1;33m=\u001b[0m \u001b[0mindexer\u001b[0m\u001b[1;33m[\u001b[0m\u001b[1;33m~\u001b[0m\u001b[0mmask\u001b[0m\u001b[1;33m]\u001b[0m\u001b[1;33m\u001b[0m\u001b[1;33m\u001b[0m\u001b[0m\n\u001b[0;32m   6019\u001b[0m         \u001b[1;32mreturn\u001b[0m \u001b[0mself\u001b[0m\u001b[1;33m.\u001b[0m\u001b[0mdelete\u001b[0m\u001b[1;33m(\u001b[0m\u001b[0mindexer\u001b[0m\u001b[1;33m)\u001b[0m\u001b[1;33m\u001b[0m\u001b[1;33m\u001b[0m\u001b[0m\n",
      "\u001b[1;31mKeyError\u001b[0m: \"['day' 'days'] not found in axis\""
     ]
    }
   ],
   "source": [
    "df_merge.drop(['day','days'], axis =1 , inplace=True)"
   ]
  },
  {
   "cell_type": "code",
   "execution_count": 135,
   "id": "4b02e6ae",
   "metadata": {},
   "outputs": [
    {
     "data": {
      "text/html": [
       "<div>\n",
       "<style scoped>\n",
       "    .dataframe tbody tr th:only-of-type {\n",
       "        vertical-align: middle;\n",
       "    }\n",
       "\n",
       "    .dataframe tbody tr th {\n",
       "        vertical-align: top;\n",
       "    }\n",
       "\n",
       "    .dataframe thead th {\n",
       "        text-align: right;\n",
       "    }\n",
       "</style>\n",
       "<table border=\"1\" class=\"dataframe\">\n",
       "  <thead>\n",
       "    <tr style=\"text-align: right;\">\n",
       "      <th></th>\n",
       "      <th>date_block_num</th>\n",
       "      <th>shop_id</th>\n",
       "      <th>item_id</th>\n",
       "      <th>item_cnt_day</th>\n",
       "      <th>year</th>\n",
       "      <th>month</th>\n",
       "      <th>city</th>\n",
       "      <th>item_category_id</th>\n",
       "      <th>item_type_enc</th>\n",
       "      <th>item_subtype_enc</th>\n",
       "      <th>item_cnt_month</th>\n",
       "      <th>item_cnt_min</th>\n",
       "      <th>item_cnt_max</th>\n",
       "      <th>item_cnt_mean</th>\n",
       "      <th>item_cnt_std</th>\n",
       "    </tr>\n",
       "  </thead>\n",
       "  <tbody>\n",
       "    <tr>\n",
       "      <th>0</th>\n",
       "      <td>0</td>\n",
       "      <td>59</td>\n",
       "      <td>22154</td>\n",
       "      <td>1.0</td>\n",
       "      <td>2013</td>\n",
       "      <td>1</td>\n",
       "      <td>30</td>\n",
       "      <td>37</td>\n",
       "      <td>11</td>\n",
       "      <td>1</td>\n",
       "      <td>1.0</td>\n",
       "      <td>1.0</td>\n",
       "      <td>1.0</td>\n",
       "      <td>1.000000</td>\n",
       "      <td>0.00000</td>\n",
       "    </tr>\n",
       "    <tr>\n",
       "      <th>1</th>\n",
       "      <td>0</td>\n",
       "      <td>25</td>\n",
       "      <td>2574</td>\n",
       "      <td>2.0</td>\n",
       "      <td>2013</td>\n",
       "      <td>1</td>\n",
       "      <td>13</td>\n",
       "      <td>55</td>\n",
       "      <td>13</td>\n",
       "      <td>2</td>\n",
       "      <td>13.0</td>\n",
       "      <td>13.0</td>\n",
       "      <td>13.0</td>\n",
       "      <td>13.000000</td>\n",
       "      <td>0.00000</td>\n",
       "    </tr>\n",
       "    <tr>\n",
       "      <th>2</th>\n",
       "      <td>0</td>\n",
       "      <td>25</td>\n",
       "      <td>2574</td>\n",
       "      <td>1.0</td>\n",
       "      <td>2013</td>\n",
       "      <td>1</td>\n",
       "      <td>13</td>\n",
       "      <td>55</td>\n",
       "      <td>13</td>\n",
       "      <td>2</td>\n",
       "      <td>13.0</td>\n",
       "      <td>13.0</td>\n",
       "      <td>13.0</td>\n",
       "      <td>13.000000</td>\n",
       "      <td>0.00000</td>\n",
       "    </tr>\n",
       "    <tr>\n",
       "      <th>3</th>\n",
       "      <td>0</td>\n",
       "      <td>25</td>\n",
       "      <td>2574</td>\n",
       "      <td>1.0</td>\n",
       "      <td>2013</td>\n",
       "      <td>1</td>\n",
       "      <td>13</td>\n",
       "      <td>55</td>\n",
       "      <td>13</td>\n",
       "      <td>2</td>\n",
       "      <td>13.0</td>\n",
       "      <td>13.0</td>\n",
       "      <td>13.0</td>\n",
       "      <td>13.000000</td>\n",
       "      <td>0.00000</td>\n",
       "    </tr>\n",
       "    <tr>\n",
       "      <th>4</th>\n",
       "      <td>0</td>\n",
       "      <td>25</td>\n",
       "      <td>2574</td>\n",
       "      <td>2.0</td>\n",
       "      <td>2013</td>\n",
       "      <td>1</td>\n",
       "      <td>13</td>\n",
       "      <td>55</td>\n",
       "      <td>13</td>\n",
       "      <td>2</td>\n",
       "      <td>13.0</td>\n",
       "      <td>13.0</td>\n",
       "      <td>13.0</td>\n",
       "      <td>13.000000</td>\n",
       "      <td>0.00000</td>\n",
       "    </tr>\n",
       "    <tr>\n",
       "      <th>...</th>\n",
       "      <td>...</td>\n",
       "      <td>...</td>\n",
       "      <td>...</td>\n",
       "      <td>...</td>\n",
       "      <td>...</td>\n",
       "      <td>...</td>\n",
       "      <td>...</td>\n",
       "      <td>...</td>\n",
       "      <td>...</td>\n",
       "      <td>...</td>\n",
       "      <td>...</td>\n",
       "      <td>...</td>\n",
       "      <td>...</td>\n",
       "      <td>...</td>\n",
       "      <td>...</td>\n",
       "    </tr>\n",
       "    <tr>\n",
       "      <th>1444929</th>\n",
       "      <td>34</td>\n",
       "      <td>45</td>\n",
       "      <td>18454</td>\n",
       "      <td>0.0</td>\n",
       "      <td>2015</td>\n",
       "      <td>11</td>\n",
       "      <td>20</td>\n",
       "      <td>55</td>\n",
       "      <td>13</td>\n",
       "      <td>2</td>\n",
       "      <td>0.0</td>\n",
       "      <td>0.0</td>\n",
       "      <td>1.0</td>\n",
       "      <td>0.666667</td>\n",
       "      <td>0.57735</td>\n",
       "    </tr>\n",
       "    <tr>\n",
       "      <th>1444930</th>\n",
       "      <td>34</td>\n",
       "      <td>45</td>\n",
       "      <td>16188</td>\n",
       "      <td>0.0</td>\n",
       "      <td>2015</td>\n",
       "      <td>11</td>\n",
       "      <td>20</td>\n",
       "      <td>64</td>\n",
       "      <td>14</td>\n",
       "      <td>42</td>\n",
       "      <td>0.0</td>\n",
       "      <td>0.0</td>\n",
       "      <td>0.0</td>\n",
       "      <td>0.000000</td>\n",
       "      <td>0.00000</td>\n",
       "    </tr>\n",
       "    <tr>\n",
       "      <th>1444931</th>\n",
       "      <td>34</td>\n",
       "      <td>45</td>\n",
       "      <td>15757</td>\n",
       "      <td>0.0</td>\n",
       "      <td>2015</td>\n",
       "      <td>11</td>\n",
       "      <td>20</td>\n",
       "      <td>55</td>\n",
       "      <td>13</td>\n",
       "      <td>2</td>\n",
       "      <td>0.0</td>\n",
       "      <td>0.0</td>\n",
       "      <td>1.0</td>\n",
       "      <td>0.666667</td>\n",
       "      <td>0.57735</td>\n",
       "    </tr>\n",
       "    <tr>\n",
       "      <th>1444932</th>\n",
       "      <td>34</td>\n",
       "      <td>45</td>\n",
       "      <td>19648</td>\n",
       "      <td>0.0</td>\n",
       "      <td>2015</td>\n",
       "      <td>11</td>\n",
       "      <td>20</td>\n",
       "      <td>40</td>\n",
       "      <td>11</td>\n",
       "      <td>4</td>\n",
       "      <td>0.0</td>\n",
       "      <td>0.0</td>\n",
       "      <td>0.0</td>\n",
       "      <td>0.000000</td>\n",
       "      <td>0.00000</td>\n",
       "    </tr>\n",
       "    <tr>\n",
       "      <th>1444933</th>\n",
       "      <td>34</td>\n",
       "      <td>45</td>\n",
       "      <td>969</td>\n",
       "      <td>0.0</td>\n",
       "      <td>2015</td>\n",
       "      <td>11</td>\n",
       "      <td>20</td>\n",
       "      <td>37</td>\n",
       "      <td>11</td>\n",
       "      <td>1</td>\n",
       "      <td>0.0</td>\n",
       "      <td>0.0</td>\n",
       "      <td>1.0</td>\n",
       "      <td>0.666667</td>\n",
       "      <td>0.57735</td>\n",
       "    </tr>\n",
       "  </tbody>\n",
       "</table>\n",
       "<p>1444934 rows × 15 columns</p>\n",
       "</div>"
      ],
      "text/plain": [
       "         date_block_num  shop_id  item_id  item_cnt_day  year  month  city  \\\n",
       "0                     0       59    22154           1.0  2013      1    30   \n",
       "1                     0       25     2574           2.0  2013      1    13   \n",
       "2                     0       25     2574           1.0  2013      1    13   \n",
       "3                     0       25     2574           1.0  2013      1    13   \n",
       "4                     0       25     2574           2.0  2013      1    13   \n",
       "...                 ...      ...      ...           ...   ...    ...   ...   \n",
       "1444929              34       45    18454           0.0  2015     11    20   \n",
       "1444930              34       45    16188           0.0  2015     11    20   \n",
       "1444931              34       45    15757           0.0  2015     11    20   \n",
       "1444932              34       45    19648           0.0  2015     11    20   \n",
       "1444933              34       45      969           0.0  2015     11    20   \n",
       "\n",
       "         item_category_id  item_type_enc  item_subtype_enc  item_cnt_month  \\\n",
       "0                      37             11                 1             1.0   \n",
       "1                      55             13                 2            13.0   \n",
       "2                      55             13                 2            13.0   \n",
       "3                      55             13                 2            13.0   \n",
       "4                      55             13                 2            13.0   \n",
       "...                   ...            ...               ...             ...   \n",
       "1444929                55             13                 2             0.0   \n",
       "1444930                64             14                42             0.0   \n",
       "1444931                55             13                 2             0.0   \n",
       "1444932                40             11                 4             0.0   \n",
       "1444933                37             11                 1             0.0   \n",
       "\n",
       "         item_cnt_min  item_cnt_max  item_cnt_mean  item_cnt_std  \n",
       "0                 1.0           1.0       1.000000       0.00000  \n",
       "1                13.0          13.0      13.000000       0.00000  \n",
       "2                13.0          13.0      13.000000       0.00000  \n",
       "3                13.0          13.0      13.000000       0.00000  \n",
       "4                13.0          13.0      13.000000       0.00000  \n",
       "...               ...           ...            ...           ...  \n",
       "1444929           0.0           1.0       0.666667       0.57735  \n",
       "1444930           0.0           0.0       0.000000       0.00000  \n",
       "1444931           0.0           1.0       0.666667       0.57735  \n",
       "1444932           0.0           0.0       0.000000       0.00000  \n",
       "1444933           0.0           1.0       0.666667       0.57735  \n",
       "\n",
       "[1444934 rows x 15 columns]"
      ]
     },
     "execution_count": 135,
     "metadata": {},
     "output_type": "execute_result"
    }
   ],
   "source": [
    "df_merge"
   ]
  },
  {
   "cell_type": "code",
   "execution_count": 125,
   "id": "4887362f",
   "metadata": {},
   "outputs": [],
   "source": [
    "# 참고: 만약 date를 사용하고 싶으시면 꼭 날짜 형식을 바꿔야 합니다. (원본: 일, 월, 년 순임)\n",
    "# sales_train['date'] = sales_train['date'].map(lambda x: datetime.strptime(x, '%d.%m.%Y')) # 날짜 순서를 바꾸기\n",
    "\n",
    "# sales_train['year'] = pd.to_datetime(sales_train['date']).dt.year\n",
    "# sales_train['month'] = pd.to_datetime(sales_train['date']).dt.month\n",
    "# sales_train['day'] = pd.to_datetime(sales_train['date']).dt.day\n",
    "# sales_train['days'] = pd.to_datetime(sales_train.date).dt.day_name() #요일\n",
    "# sales_train.head()"
   ]
  },
  {
   "cell_type": "markdown",
   "id": "01660106",
   "metadata": {},
   "source": [
    "## 4.7. item_cnt_month 열 추가\n",
    "### 4.7.1. item _cnt_month  만들기"
   ]
  },
  {
   "cell_type": "code",
   "execution_count": 126,
   "id": "b42412e4",
   "metadata": {
    "executionInfo": {
     "elapsed": 2,
     "status": "ok",
     "timestamp": 1645953134990,
     "user": {
      "displayName": "박상우",
      "photoUrl": "https://lh3.googleusercontent.com/a/default-user=s64",
      "userId": "01069816878135445976"
     },
     "user_tz": -540
    },
    "id": "b42412e4"
   },
   "outputs": [
    {
     "data": {
      "text/html": [
       "<div>\n",
       "<style scoped>\n",
       "    .dataframe tbody tr th:only-of-type {\n",
       "        vertical-align: middle;\n",
       "    }\n",
       "\n",
       "    .dataframe tbody tr th {\n",
       "        vertical-align: top;\n",
       "    }\n",
       "\n",
       "    .dataframe thead th {\n",
       "        text-align: right;\n",
       "    }\n",
       "</style>\n",
       "<table border=\"1\" class=\"dataframe\">\n",
       "  <thead>\n",
       "    <tr style=\"text-align: right;\">\n",
       "      <th></th>\n",
       "      <th>date_block_num</th>\n",
       "      <th>shop_id</th>\n",
       "      <th>item_id</th>\n",
       "      <th>item_cnt_month</th>\n",
       "    </tr>\n",
       "  </thead>\n",
       "  <tbody>\n",
       "    <tr>\n",
       "      <th>0</th>\n",
       "      <td>0</td>\n",
       "      <td>2</td>\n",
       "      <td>33</td>\n",
       "      <td>1.0</td>\n",
       "    </tr>\n",
       "    <tr>\n",
       "      <th>1</th>\n",
       "      <td>0</td>\n",
       "      <td>2</td>\n",
       "      <td>482</td>\n",
       "      <td>1.0</td>\n",
       "    </tr>\n",
       "    <tr>\n",
       "      <th>2</th>\n",
       "      <td>0</td>\n",
       "      <td>2</td>\n",
       "      <td>491</td>\n",
       "      <td>1.0</td>\n",
       "    </tr>\n",
       "    <tr>\n",
       "      <th>3</th>\n",
       "      <td>0</td>\n",
       "      <td>2</td>\n",
       "      <td>839</td>\n",
       "      <td>1.0</td>\n",
       "    </tr>\n",
       "    <tr>\n",
       "      <th>4</th>\n",
       "      <td>0</td>\n",
       "      <td>2</td>\n",
       "      <td>1007</td>\n",
       "      <td>3.0</td>\n",
       "    </tr>\n",
       "  </tbody>\n",
       "</table>\n",
       "</div>"
      ],
      "text/plain": [
       "   date_block_num  shop_id  item_id  item_cnt_month\n",
       "0               0        2       33             1.0\n",
       "1               0        2      482             1.0\n",
       "2               0        2      491             1.0\n",
       "3               0        2      839             1.0\n",
       "4               0        2     1007             3.0"
      ]
     },
     "execution_count": 126,
     "metadata": {},
     "output_type": "execute_result"
    }
   ],
   "source": [
    "df1 = df_merge.groupby(['date_block_num','shop_id','item_id']).agg({'item_cnt_day':'sum'})\n",
    "df1.columns= ['item_cnt_month']\n",
    "df1.reset_index(inplace=True)\n",
    "df1.head()"
   ]
  },
  {
   "cell_type": "markdown",
   "id": "d8210066",
   "metadata": {
    "colab": {
     "base_uri": "https://localhost:8080/",
     "height": 423
    },
    "executionInfo": {
     "elapsed": 3,
     "status": "ok",
     "timestamp": 1645953135352,
     "user": {
      "displayName": "박상우",
      "photoUrl": "https://lh3.googleusercontent.com/a/default-user=s64",
      "userId": "01069816878135445976"
     },
     "user_tz": -540
    },
    "id": "5961d62f",
    "outputId": "48ad45c2-2473-4dbd-dcd6-d606c1167dae"
   },
   "source": [
    "### 4.7.2. item_cnt_month merge"
   ]
  },
  {
   "cell_type": "code",
   "execution_count": 127,
   "id": "a898791e",
   "metadata": {
    "colab": {
     "base_uri": "https://localhost:8080/",
     "height": 423
    },
    "executionInfo": {
     "elapsed": 5,
     "status": "ok",
     "timestamp": 1645953135843,
     "user": {
      "displayName": "박상우",
      "photoUrl": "https://lh3.googleusercontent.com/a/default-user=s64",
      "userId": "01069816878135445976"
     },
     "user_tz": -540
    },
    "id": "a898791e",
    "outputId": "ec46e673-7959-4be0-927e-eb3e104ab157",
    "scrolled": true
   },
   "outputs": [
    {
     "data": {
      "text/html": [
       "<div>\n",
       "<style scoped>\n",
       "    .dataframe tbody tr th:only-of-type {\n",
       "        vertical-align: middle;\n",
       "    }\n",
       "\n",
       "    .dataframe tbody tr th {\n",
       "        vertical-align: top;\n",
       "    }\n",
       "\n",
       "    .dataframe thead th {\n",
       "        text-align: right;\n",
       "    }\n",
       "</style>\n",
       "<table border=\"1\" class=\"dataframe\">\n",
       "  <thead>\n",
       "    <tr style=\"text-align: right;\">\n",
       "      <th></th>\n",
       "      <th>date_block_num</th>\n",
       "      <th>shop_id</th>\n",
       "      <th>item_id</th>\n",
       "      <th>item_cnt_day</th>\n",
       "      <th>year</th>\n",
       "      <th>month</th>\n",
       "      <th>day</th>\n",
       "      <th>days</th>\n",
       "      <th>city</th>\n",
       "      <th>item_category_id</th>\n",
       "      <th>item_type_enc</th>\n",
       "      <th>item_subtype_enc</th>\n",
       "      <th>item_cnt_month</th>\n",
       "    </tr>\n",
       "  </thead>\n",
       "  <tbody>\n",
       "    <tr>\n",
       "      <th>0</th>\n",
       "      <td>0</td>\n",
       "      <td>59</td>\n",
       "      <td>22154</td>\n",
       "      <td>1.0</td>\n",
       "      <td>2013</td>\n",
       "      <td>1</td>\n",
       "      <td>2.0</td>\n",
       "      <td>Wednesday</td>\n",
       "      <td>30</td>\n",
       "      <td>37</td>\n",
       "      <td>11</td>\n",
       "      <td>1</td>\n",
       "      <td>1.0</td>\n",
       "    </tr>\n",
       "    <tr>\n",
       "      <th>1</th>\n",
       "      <td>0</td>\n",
       "      <td>25</td>\n",
       "      <td>2574</td>\n",
       "      <td>2.0</td>\n",
       "      <td>2013</td>\n",
       "      <td>1</td>\n",
       "      <td>3.0</td>\n",
       "      <td>Thursday</td>\n",
       "      <td>13</td>\n",
       "      <td>55</td>\n",
       "      <td>13</td>\n",
       "      <td>2</td>\n",
       "      <td>13.0</td>\n",
       "    </tr>\n",
       "    <tr>\n",
       "      <th>2</th>\n",
       "      <td>0</td>\n",
       "      <td>25</td>\n",
       "      <td>2574</td>\n",
       "      <td>1.0</td>\n",
       "      <td>2013</td>\n",
       "      <td>1</td>\n",
       "      <td>5.0</td>\n",
       "      <td>Saturday</td>\n",
       "      <td>13</td>\n",
       "      <td>55</td>\n",
       "      <td>13</td>\n",
       "      <td>2</td>\n",
       "      <td>13.0</td>\n",
       "    </tr>\n",
       "    <tr>\n",
       "      <th>3</th>\n",
       "      <td>0</td>\n",
       "      <td>25</td>\n",
       "      <td>2574</td>\n",
       "      <td>1.0</td>\n",
       "      <td>2013</td>\n",
       "      <td>1</td>\n",
       "      <td>7.0</td>\n",
       "      <td>Monday</td>\n",
       "      <td>13</td>\n",
       "      <td>55</td>\n",
       "      <td>13</td>\n",
       "      <td>2</td>\n",
       "      <td>13.0</td>\n",
       "    </tr>\n",
       "    <tr>\n",
       "      <th>4</th>\n",
       "      <td>0</td>\n",
       "      <td>25</td>\n",
       "      <td>2574</td>\n",
       "      <td>2.0</td>\n",
       "      <td>2013</td>\n",
       "      <td>1</td>\n",
       "      <td>8.0</td>\n",
       "      <td>Tuesday</td>\n",
       "      <td>13</td>\n",
       "      <td>55</td>\n",
       "      <td>13</td>\n",
       "      <td>2</td>\n",
       "      <td>13.0</td>\n",
       "    </tr>\n",
       "  </tbody>\n",
       "</table>\n",
       "</div>"
      ],
      "text/plain": [
       "   date_block_num  shop_id  item_id  item_cnt_day  year  month  day  \\\n",
       "0               0       59    22154           1.0  2013      1  2.0   \n",
       "1               0       25     2574           2.0  2013      1  3.0   \n",
       "2               0       25     2574           1.0  2013      1  5.0   \n",
       "3               0       25     2574           1.0  2013      1  7.0   \n",
       "4               0       25     2574           2.0  2013      1  8.0   \n",
       "\n",
       "        days  city  item_category_id  item_type_enc  item_subtype_enc  \\\n",
       "0  Wednesday    30                37             11                 1   \n",
       "1   Thursday    13                55             13                 2   \n",
       "2   Saturday    13                55             13                 2   \n",
       "3     Monday    13                55             13                 2   \n",
       "4    Tuesday    13                55             13                 2   \n",
       "\n",
       "   item_cnt_month  \n",
       "0             1.0  \n",
       "1            13.0  \n",
       "2            13.0  \n",
       "3            13.0  \n",
       "4            13.0  "
      ]
     },
     "execution_count": 127,
     "metadata": {},
     "output_type": "execute_result"
    }
   ],
   "source": [
    "df_merge = pd.merge(df_merge, df1, how='left')\n",
    "df_merge['item_cnt_month'] = (df_merge['item_cnt_month'].clip(0, 30).astype(np.float16))  #30 이상의 값을 30으로 변경\n",
    "\n",
    "# df.clip(lower=None, upper=None, axis=None, inplace=False, args, kwargs)\n",
    "# lower : 하한값입니다. 이 이하의 값은 이 값으로 변경\n",
    "# upper : 상한값입니다. 이 이상의 값은 이 값으로 변경\n",
    "# axis : 계산할 기준이되는 레이블\n",
    "# inplace : 따로 지정해주지 않고 바로 저장\n",
    "df_merge.head()"
   ]
  },
  {
   "cell_type": "markdown",
   "id": "4b8ffe3f",
   "metadata": {},
   "source": [
    "## 4.8. Rolling ( 이동평균 구하기)으로 열 추가\n",
    "### 4.8.1. f_min, f_max, f_mean, f_std 정의하기[Rolling (window = 3)]"
   ]
  },
  {
   "cell_type": "code",
   "execution_count": 128,
   "id": "088051d5",
   "metadata": {
    "executionInfo": {
     "elapsed": 311574,
     "status": "ok",
     "timestamp": 1645953447413,
     "user": {
      "displayName": "박상우",
      "photoUrl": "https://lh3.googleusercontent.com/a/default-user=s64",
      "userId": "01069816878135445976"
     },
     "user_tz": -540
    },
    "id": "088051d5"
   },
   "outputs": [],
   "source": [
    "# Min value\n",
    "f_min = lambda x: x.rolling(window=3, min_periods=1).min()\n",
    "# Max value\n",
    "f_max = lambda x: x.rolling(window=3, min_periods=1).max()\n",
    "# Mean value\n",
    "f_mean = lambda x: x.rolling(window=3, min_periods=1).mean()\n",
    "# Standard deviation\n",
    "f_std = lambda x: x.rolling(window=3, min_periods=1).std()"
   ]
  },
  {
   "cell_type": "markdown",
   "id": "67e34a7c",
   "metadata": {},
   "source": [
    "#### df_merge에 feature 만들기"
   ]
  },
  {
   "cell_type": "code",
   "execution_count": 129,
   "id": "95ffe1d8",
   "metadata": {
    "scrolled": true
   },
   "outputs": [
    {
     "data": {
      "text/html": [
       "<div>\n",
       "<style scoped>\n",
       "    .dataframe tbody tr th:only-of-type {\n",
       "        vertical-align: middle;\n",
       "    }\n",
       "\n",
       "    .dataframe tbody tr th {\n",
       "        vertical-align: top;\n",
       "    }\n",
       "\n",
       "    .dataframe thead th {\n",
       "        text-align: right;\n",
       "    }\n",
       "</style>\n",
       "<table border=\"1\" class=\"dataframe\">\n",
       "  <thead>\n",
       "    <tr style=\"text-align: right;\">\n",
       "      <th></th>\n",
       "      <th>date_block_num</th>\n",
       "      <th>shop_id</th>\n",
       "      <th>item_id</th>\n",
       "      <th>item_cnt_day</th>\n",
       "      <th>year</th>\n",
       "      <th>month</th>\n",
       "      <th>day</th>\n",
       "      <th>days</th>\n",
       "      <th>city</th>\n",
       "      <th>item_category_id</th>\n",
       "      <th>item_type_enc</th>\n",
       "      <th>item_subtype_enc</th>\n",
       "      <th>item_cnt_month</th>\n",
       "      <th>item_cnt_min</th>\n",
       "      <th>item_cnt_max</th>\n",
       "      <th>item_cnt_mean</th>\n",
       "      <th>item_cnt_std</th>\n",
       "    </tr>\n",
       "  </thead>\n",
       "  <tbody>\n",
       "    <tr>\n",
       "      <th>0</th>\n",
       "      <td>0</td>\n",
       "      <td>59</td>\n",
       "      <td>22154</td>\n",
       "      <td>1.0</td>\n",
       "      <td>2013</td>\n",
       "      <td>1</td>\n",
       "      <td>2.0</td>\n",
       "      <td>Wednesday</td>\n",
       "      <td>30</td>\n",
       "      <td>37</td>\n",
       "      <td>11</td>\n",
       "      <td>1</td>\n",
       "      <td>1.0</td>\n",
       "      <td>1.0</td>\n",
       "      <td>1.0</td>\n",
       "      <td>1.0</td>\n",
       "      <td>0.0</td>\n",
       "    </tr>\n",
       "  </tbody>\n",
       "</table>\n",
       "</div>"
      ],
      "text/plain": [
       "   date_block_num  shop_id  item_id  item_cnt_day  year  month  day  \\\n",
       "0               0       59    22154           1.0  2013      1  2.0   \n",
       "\n",
       "        days  city  item_category_id  item_type_enc  item_subtype_enc  \\\n",
       "0  Wednesday    30                37             11                 1   \n",
       "\n",
       "   item_cnt_month  item_cnt_min  item_cnt_max  item_cnt_mean  item_cnt_std  \n",
       "0             1.0           1.0           1.0            1.0           0.0  "
      ]
     },
     "execution_count": 129,
     "metadata": {},
     "output_type": "execute_result"
    }
   ],
   "source": [
    "function_list = [f_min, f_max, f_mean, f_std]\n",
    "function_name = ['min', 'max', 'mean', 'std']\n",
    "group = ['shop_id', 'item_category_id', 'item_id']\n",
    "\n",
    "for i in range(len(function_list)):\n",
    "    df_merge[('item_cnt_%s' % function_name[i])] = df_merge.sort_values(by=['date_block_num']).groupby(group)['item_cnt_month'].apply(function_list[i])\n",
    "\n",
    "#NaN값을 0으로 채워줌\n",
    "df_merge['item_cnt_std'].fillna(0, inplace=True)\n",
    "df_merge.head(1)"
   ]
  },
  {
   "cell_type": "markdown",
   "id": "56a9e00d",
   "metadata": {},
   "source": [
    "## 4.9. avg_item_cnt_month 열 추가\n",
    "### 4.9.1.lag 구하는 함수 정의"
   ]
  },
  {
   "cell_type": "code",
   "execution_count": 136,
   "id": "9uy_-5iLLQDi",
   "metadata": {
    "executionInfo": {
     "elapsed": 9,
     "status": "ok",
     "timestamp": 1645953447414,
     "user": {
      "displayName": "박상우",
      "photoUrl": "https://lh3.googleusercontent.com/a/default-user=s64",
      "userId": "01069816878135445976"
     },
     "user_tz": -540
    },
    "id": "9uy_-5iLLQDi"
   },
   "outputs": [],
   "source": [
    "def lag_feature(df, col, lags):\n",
    "    tmp = df[['date_block_num','shop_id','item_id',col]]\n",
    "    for i in lags:\n",
    "        shifted = tmp.copy()\n",
    "        shifted.columns = ['date_block_num','shop_id','item_id', col+'_lag'+str(i)]\n",
    "        shifted['date_block_num'] += i\n",
    "        df = pd.merge(df, shifted, on=['date_block_num','shop_id','item_id'], how='left')\n",
    "    return df"
   ]
  },
  {
   "cell_type": "markdown",
   "id": "3a712ea3",
   "metadata": {},
   "source": [
    "### 4.9.2. item_cnt_month 평균"
   ]
  },
  {
   "cell_type": "code",
   "execution_count": 137,
   "id": "EvuBNKpPLYHH",
   "metadata": {
    "executionInfo": {
     "elapsed": 1208,
     "status": "ok",
     "timestamp": 1645953448613,
     "user": {
      "displayName": "박상우",
      "photoUrl": "https://lh3.googleusercontent.com/a/default-user=s64",
      "userId": "01069816878135445976"
     },
     "user_tz": -540
    },
    "id": "EvuBNKpPLYHH"
   },
   "outputs": [
    {
     "data": {
      "text/html": [
       "<div>\n",
       "<style scoped>\n",
       "    .dataframe tbody tr th:only-of-type {\n",
       "        vertical-align: middle;\n",
       "    }\n",
       "\n",
       "    .dataframe tbody tr th {\n",
       "        vertical-align: top;\n",
       "    }\n",
       "\n",
       "    .dataframe thead th {\n",
       "        text-align: right;\n",
       "    }\n",
       "</style>\n",
       "<table border=\"1\" class=\"dataframe\">\n",
       "  <thead>\n",
       "    <tr style=\"text-align: right;\">\n",
       "      <th></th>\n",
       "      <th>date_block_num</th>\n",
       "      <th>shop_id</th>\n",
       "      <th>item_id</th>\n",
       "      <th>item_cnt_day</th>\n",
       "      <th>year</th>\n",
       "      <th>month</th>\n",
       "      <th>city</th>\n",
       "      <th>item_category_id</th>\n",
       "      <th>item_type_enc</th>\n",
       "      <th>item_subtype_enc</th>\n",
       "      <th>item_cnt_month</th>\n",
       "      <th>item_cnt_min</th>\n",
       "      <th>item_cnt_max</th>\n",
       "      <th>item_cnt_mean</th>\n",
       "      <th>item_cnt_std</th>\n",
       "      <th>avg_item_cnt_month_lag1</th>\n",
       "    </tr>\n",
       "  </thead>\n",
       "  <tbody>\n",
       "    <tr>\n",
       "      <th>0</th>\n",
       "      <td>0</td>\n",
       "      <td>59</td>\n",
       "      <td>22154</td>\n",
       "      <td>1.0</td>\n",
       "      <td>2013</td>\n",
       "      <td>1</td>\n",
       "      <td>30</td>\n",
       "      <td>37</td>\n",
       "      <td>11</td>\n",
       "      <td>1</td>\n",
       "      <td>1.0</td>\n",
       "      <td>1.0</td>\n",
       "      <td>1.0</td>\n",
       "      <td>1.0</td>\n",
       "      <td>0.0</td>\n",
       "      <td>NaN</td>\n",
       "    </tr>\n",
       "  </tbody>\n",
       "</table>\n",
       "</div>"
      ],
      "text/plain": [
       "   date_block_num  shop_id  item_id  item_cnt_day  year  month  city  \\\n",
       "0               0       59    22154           1.0  2013      1    30   \n",
       "\n",
       "   item_category_id  item_type_enc  item_subtype_enc  item_cnt_month  \\\n",
       "0                37             11                 1             1.0   \n",
       "\n",
       "   item_cnt_min  item_cnt_max  item_cnt_mean  item_cnt_std  \\\n",
       "0           1.0           1.0            1.0           0.0   \n",
       "\n",
       "   avg_item_cnt_month_lag1  \n",
       "0                      NaN  "
      ]
     },
     "execution_count": 137,
     "metadata": {},
     "output_type": "execute_result"
    }
   ],
   "source": [
    "# 평균 item_cnt_month \n",
    "df1 = df_merge.groupby(['date_block_num']).agg({'item_cnt_month':'mean'})\n",
    "df1.columns = ['avg_item_cnt_month']\n",
    "df1.reset_index(inplace=True)\n",
    "\n",
    "df_merge = pd.merge(df_merge, df1, on=['date_block_num'], how='left')\n",
    "df_merge['avg_item_cnt_month'] = df_merge['avg_item_cnt_month'].astype(np.float16)\n",
    "\n",
    "# 평균 item_cnt shift 1로만 해줌 저번달 데이터를 이번달에만 넣어줌\n",
    "df_merge = lag_feature(df_merge,'avg_item_cnt_month', [1])\n",
    "df_merge.drop('avg_item_cnt_month',axis =1, inplace=True)\n",
    "\n",
    "df_merge.head(1)"
   ]
  },
  {
   "cell_type": "code",
   "execution_count": 139,
   "id": "UA8xqtl9aPZ6",
   "metadata": {
    "executionInfo": {
     "elapsed": 397,
     "status": "ok",
     "timestamp": 1645953449715,
     "user": {
      "displayName": "박상우",
      "photoUrl": "https://lh3.googleusercontent.com/a/default-user=s64",
      "userId": "01069816878135445976"
     },
     "user_tz": -540
    },
    "id": "UA8xqtl9aPZ6"
   },
   "outputs": [],
   "source": [
    "df_merge.drop_duplicates(inplace=True)"
   ]
  },
  {
   "cell_type": "markdown",
   "id": "aea60b49",
   "metadata": {},
   "source": [
    "## 4.10. 평균관련 열 추가\n",
    "### 4.10.1. Shop mean 구하기"
   ]
  },
  {
   "cell_type": "code",
   "execution_count": 141,
   "id": "9ce2ea7f",
   "metadata": {},
   "outputs": [],
   "source": [
    "shop_mean = df_merge.groupby(['shop_id']).agg({'item_cnt_month': ['mean']})\n",
    "shop_mean.columns = ['shop_mean']\n",
    "shop_mean.reset_index(inplace=True)"
   ]
  },
  {
   "cell_type": "markdown",
   "id": "882e9c3c",
   "metadata": {},
   "source": [
    "### 4.10.2. Item mean 구하기"
   ]
  },
  {
   "cell_type": "code",
   "execution_count": 142,
   "id": "fbc60ffa",
   "metadata": {},
   "outputs": [],
   "source": [
    "item_mean = df_merge.groupby(['item_id']).agg({'item_cnt_month': ['mean']})\n",
    "item_mean.columns = ['item_mean']\n",
    "item_mean.reset_index(inplace=True)"
   ]
  },
  {
   "cell_type": "markdown",
   "id": "67a54ec3",
   "metadata": {},
   "source": [
    "### 4.10.3. shop & item mean 구하기"
   ]
  },
  {
   "cell_type": "code",
   "execution_count": 143,
   "id": "6eb53f2e",
   "metadata": {},
   "outputs": [],
   "source": [
    "shop_item_mean = df_merge.groupby(['shop_id', 'item_id']).agg({'item_cnt_month': ['mean']})\n",
    "shop_item_mean.columns = ['shop_item_mean']\n",
    "shop_item_mean.reset_index(inplace=True)"
   ]
  },
  {
   "cell_type": "markdown",
   "id": "13870cdc",
   "metadata": {},
   "source": [
    "### 4.10.4. 연도별 mean 구하기."
   ]
  },
  {
   "cell_type": "code",
   "execution_count": 144,
   "id": "c303dd9e",
   "metadata": {},
   "outputs": [],
   "source": [
    "year_mean = df_merge.groupby(['year']).agg({'item_cnt_month': ['mean']})\n",
    "year_mean.columns = ['year_mean']\n",
    "year_mean.reset_index(inplace=True)"
   ]
  },
  {
   "cell_type": "markdown",
   "id": "83b139df",
   "metadata": {},
   "source": [
    "### 4.10.5. 월별 mean 구하기."
   ]
  },
  {
   "cell_type": "code",
   "execution_count": 145,
   "id": "qUIzI_zyYJVl",
   "metadata": {
    "executionInfo": {
     "elapsed": 289,
     "status": "ok",
     "timestamp": 1645953450411,
     "user": {
      "displayName": "박상우",
      "photoUrl": "https://lh3.googleusercontent.com/a/default-user=s64",
      "userId": "01069816878135445976"
     },
     "user_tz": -540
    },
    "id": "qUIzI_zyYJVl"
   },
   "outputs": [],
   "source": [
    "month_mean = df_merge.groupby(['month']).agg({'item_cnt_month': ['mean']})\n",
    "month_mean.columns = ['month_mean']\n",
    "month_mean.reset_index(inplace=True)"
   ]
  },
  {
   "cell_type": "markdown",
   "id": "5f3354eb",
   "metadata": {},
   "source": [
    "### 4.10.6. df_merge에 mean값들 추가하기"
   ]
  },
  {
   "cell_type": "code",
   "execution_count": 146,
   "id": "tyOuRMataMP4",
   "metadata": {
    "executionInfo": {
     "elapsed": 579,
     "status": "ok",
     "timestamp": 1645953450982,
     "user": {
      "displayName": "박상우",
      "photoUrl": "https://lh3.googleusercontent.com/a/default-user=s64",
      "userId": "01069816878135445976"
     },
     "user_tz": -540
    },
    "id": "tyOuRMataMP4"
   },
   "outputs": [],
   "source": [
    "df_merge = pd.merge(df_merge, shop_mean, on='shop_id',how='left')\n",
    "df_merge = pd.merge(df_merge, item_mean, on='item_id',how='left')\n",
    "df_merge = pd.merge(df_merge, shop_item_mean, on=['shop_id', 'item_id'],how='left')\n",
    "df_merge = pd.merge(df_merge, year_mean, on='year',how='left')\n",
    "df_merge = pd.merge(df_merge, month_mean, on='month',how='left')"
   ]
  },
  {
   "cell_type": "markdown",
   "id": "76b74fd9",
   "metadata": {},
   "source": [
    "### 4.10.7. rolling값 추가하기"
   ]
  },
  {
   "cell_type": "code",
   "execution_count": 147,
   "id": "3Wi8Sx4Jdgzm",
   "metadata": {
    "id": "3Wi8Sx4Jdgzm",
    "scrolled": true
   },
   "outputs": [
    {
     "data": {
      "text/html": [
       "<div>\n",
       "<style scoped>\n",
       "    .dataframe tbody tr th:only-of-type {\n",
       "        vertical-align: middle;\n",
       "    }\n",
       "\n",
       "    .dataframe tbody tr th {\n",
       "        vertical-align: top;\n",
       "    }\n",
       "\n",
       "    .dataframe thead th {\n",
       "        text-align: right;\n",
       "    }\n",
       "</style>\n",
       "<table border=\"1\" class=\"dataframe\">\n",
       "  <thead>\n",
       "    <tr style=\"text-align: right;\">\n",
       "      <th></th>\n",
       "      <th>date_block_num</th>\n",
       "      <th>shop_id</th>\n",
       "      <th>item_id</th>\n",
       "      <th>item_cnt_day</th>\n",
       "      <th>year</th>\n",
       "      <th>month</th>\n",
       "      <th>city</th>\n",
       "      <th>item_category_id</th>\n",
       "      <th>item_type_enc</th>\n",
       "      <th>item_subtype_enc</th>\n",
       "      <th>...</th>\n",
       "      <th>shop_mean</th>\n",
       "      <th>item_mean</th>\n",
       "      <th>shop_item_mean</th>\n",
       "      <th>year_mean</th>\n",
       "      <th>month_mean</th>\n",
       "      <th>shop_mean_rol</th>\n",
       "      <th>item_mean_rol</th>\n",
       "      <th>shop_item_mean_rol</th>\n",
       "      <th>year_mean_rol</th>\n",
       "      <th>month_mean_rol</th>\n",
       "    </tr>\n",
       "  </thead>\n",
       "  <tbody>\n",
       "    <tr>\n",
       "      <th>0</th>\n",
       "      <td>0</td>\n",
       "      <td>59</td>\n",
       "      <td>22154</td>\n",
       "      <td>1.0</td>\n",
       "      <td>2013</td>\n",
       "      <td>1</td>\n",
       "      <td>30</td>\n",
       "      <td>37</td>\n",
       "      <td>11</td>\n",
       "      <td>1</td>\n",
       "      <td>...</td>\n",
       "      <td>2.730469</td>\n",
       "      <td>0.609375</td>\n",
       "      <td>0.500000</td>\n",
       "      <td>4.980469</td>\n",
       "      <td>4.117188</td>\n",
       "      <td>2.730469</td>\n",
       "      <td>0.609375</td>\n",
       "      <td>0.500000</td>\n",
       "      <td>4.980469</td>\n",
       "      <td>4.117188</td>\n",
       "    </tr>\n",
       "    <tr>\n",
       "      <th>1</th>\n",
       "      <td>0</td>\n",
       "      <td>25</td>\n",
       "      <td>2574</td>\n",
       "      <td>2.0</td>\n",
       "      <td>2013</td>\n",
       "      <td>1</td>\n",
       "      <td>13</td>\n",
       "      <td>55</td>\n",
       "      <td>13</td>\n",
       "      <td>2</td>\n",
       "      <td>...</td>\n",
       "      <td>4.785156</td>\n",
       "      <td>3.302734</td>\n",
       "      <td>8.070312</td>\n",
       "      <td>4.980469</td>\n",
       "      <td>4.117188</td>\n",
       "      <td>3.757812</td>\n",
       "      <td>1.956055</td>\n",
       "      <td>4.285156</td>\n",
       "      <td>4.980469</td>\n",
       "      <td>4.117188</td>\n",
       "    </tr>\n",
       "  </tbody>\n",
       "</table>\n",
       "<p>2 rows × 26 columns</p>\n",
       "</div>"
      ],
      "text/plain": [
       "   date_block_num  shop_id  item_id  item_cnt_day  year  month  city  \\\n",
       "0               0       59    22154           1.0  2013      1    30   \n",
       "1               0       25     2574           2.0  2013      1    13   \n",
       "\n",
       "   item_category_id  item_type_enc  item_subtype_enc  ...  shop_mean  \\\n",
       "0                37             11                 1  ...   2.730469   \n",
       "1                55             13                 2  ...   4.785156   \n",
       "\n",
       "   item_mean  shop_item_mean  year_mean  month_mean  shop_mean_rol  \\\n",
       "0   0.609375        0.500000   4.980469    4.117188       2.730469   \n",
       "1   3.302734        8.070312   4.980469    4.117188       3.757812   \n",
       "\n",
       "   item_mean_rol  shop_item_mean_rol  year_mean_rol  month_mean_rol  \n",
       "0       0.609375            0.500000       4.980469        4.117188  \n",
       "1       1.956055            4.285156       4.980469        4.117188  \n",
       "\n",
       "[2 rows x 26 columns]"
      ]
     },
     "execution_count": 147,
     "metadata": {},
     "output_type": "execute_result"
    }
   ],
   "source": [
    "df_merge['shop_mean_rol'] = df_merge['shop_mean'].rolling(window=3, min_periods=1).mean()\n",
    "df_merge['item_mean_rol'] = df_merge['item_mean'].rolling(window=3, min_periods=1).mean()\n",
    "df_merge['shop_item_mean_rol'] = df_merge['shop_item_mean'].rolling(window=3, min_periods=1).mean()\n",
    "df_merge['year_mean_rol'] = df_merge['year_mean'].rolling(window=3, min_periods=1).mean()\n",
    "df_merge['month_mean_rol'] = df_merge['month_mean'].rolling(window=3, min_periods=1).mean()\n",
    "df_merge.fillna(0, inplace=True)\n",
    "df_merge.head(2)"
   ]
  },
  {
   "cell_type": "markdown",
   "id": "e66db3d2",
   "metadata": {},
   "source": [
    "### 4.11. df_merge를 picklize"
   ]
  },
  {
   "cell_type": "code",
   "execution_count": 148,
   "id": "585ad695",
   "metadata": {},
   "outputs": [],
   "source": [
    "df_merge.to_pickle('data.pkl')"
   ]
  },
  {
   "cell_type": "markdown",
   "id": "89845ce8",
   "metadata": {},
   "source": [
    "# 5. Modeling"
   ]
  },
  {
   "cell_type": "code",
   "execution_count": 149,
   "id": "7a486581",
   "metadata": {},
   "outputs": [],
   "source": [
    "data = pd.read_pickle('data.pkl')"
   ]
  },
  {
   "cell_type": "markdown",
   "id": "1eea15ac",
   "metadata": {},
   "source": [
    "## 상관관계 분석 후 원하는 feature만 적용"
   ]
  },
  {
   "cell_type": "code",
   "execution_count": 150,
   "id": "0bf1385d",
   "metadata": {
    "scrolled": false
   },
   "outputs": [
    {
     "name": "stderr",
     "output_type": "stream",
     "text": [
      "C:\\Users\\k3vin\\anaconda3\\lib\\site-packages\\matplotlib\\backends\\backend_agg.py:240: RuntimeWarning: Glyph 8722 missing from current font.\n",
      "  font.set_text(s, 0.0, flags=flags)\n",
      "C:\\Users\\k3vin\\anaconda3\\lib\\site-packages\\matplotlib\\backends\\backend_agg.py:203: RuntimeWarning: Glyph 8722 missing from current font.\n",
      "  font.set_text(s, 0, flags=flags)\n"
     ]
    },
    {
     "data": {
      "image/png": "[encoded data removed]",
      "text/plain": [
       "<Figure size 1440x864 with 2 Axes>"
      ]
     },
     "metadata": {
      "needs_background": "light"
     },
     "output_type": "display_data"
    }
   ],
   "source": [
    "corrmat = data.corr()\n",
    "f, ax = plt.subplots(figsize=(20, 12))\n",
    "sns.heatmap(corrmat,annot = True, vmax=.8, square=True);\n",
    "plt.title(\" \",fontsize=20)\n",
    "plt.show()"
   ]
  },
  {
   "cell_type": "code",
   "execution_count": 152,
   "id": "2105789c",
   "metadata": {},
   "outputs": [],
   "source": [
    "#원하는 피쳐 제외하세요\n",
    "data = data[[\n",
    "    'date_block_num', \n",
    "    #'shop_id', \n",
    "    #'item_id', \n",
    "    #'item_cnt_day', \n",
    "    #'city',\n",
    "    #'item_category_id',\n",
    "    #'item_type_enc', \n",
    "    #'item_subtype_enc', \n",
    "    #'year',\n",
    "    #'month', \n",
    "    'item_cnt_month', \n",
    "    'item_cnt_min', \n",
    "    'item_cnt_max',\n",
    "    'item_cnt_mean', \n",
    "    #'item_cnt_std', \n",
    "    #'avg_item_cnt_month_lag1', \n",
    "    #'shop_mean',\n",
    "    'item_mean',\n",
    "    'shop_item_mean', \n",
    "    #'year_mean', \n",
    "    #'month_mean',\n",
    "    #'shop_mean_rol', \n",
    "    'item_mean_rol', \n",
    "    'shop_item_mean_rol', \n",
    "    #'year_mean_rol',\n",
    "    #'month_mean_rol'\n",
    "]]"
   ]
  },
  {
   "cell_type": "markdown",
   "id": "14af1f32",
   "metadata": {},
   "source": [
    "## test & validation & test로 나누기"
   ]
  },
  {
   "cell_type": "code",
   "execution_count": 153,
   "id": "6475ce75",
   "metadata": {},
   "outputs": [],
   "source": [
    "df_train= data[data['date_block_num']<33]\n",
    "df_valid= data[data['date_block_num']==33]\n",
    "df_test= data[data['date_block_num']==34]\n",
    "\n",
    "x_train = df_train.drop('item_cnt_month', axis=1)\n",
    "y_train = df_train['item_cnt_month']\n",
    "x_valid = df_valid.drop('item_cnt_month', axis=1)\n",
    "y_valid = df_valid['item_cnt_month']\n",
    "x_test = df_test.drop(['item_cnt_month'], axis=1)"
   ]
  },
  {
   "cell_type": "markdown",
   "id": "441135be",
   "metadata": {},
   "source": [
    "## 5.1 XGboost"
   ]
  },
  {
   "cell_type": "markdown",
   "id": "06945a33",
   "metadata": {},
   "source": [
    "### 5.1.1. XGboost "
   ]
  },
  {
   "cell_type": "code",
   "execution_count": 18,
   "id": "83e26444",
   "metadata": {
    "scrolled": true
   },
   "outputs": [
    {
     "name": "stdout",
     "output_type": "stream",
     "text": [
      "[0]\tvalidation_0-rmse:3.84783\tvalidation_1-rmse:2.99670\n",
      "[1]\tvalidation_0-rmse:2.78742\tvalidation_1-rmse:2.17850\n",
      "[2]\tvalidation_0-rmse:2.06654\tvalidation_1-rmse:1.62741\n",
      "[3]\tvalidation_0-rmse:1.59783\tvalidation_1-rmse:1.28249\n",
      "[4]\tvalidation_0-rmse:1.30602\tvalidation_1-rmse:1.07498\n",
      "[5]\tvalidation_0-rmse:1.13571\tvalidation_1-rmse:0.96054\n",
      "[6]\tvalidation_0-rmse:1.03790\tvalidation_1-rmse:0.90128\n",
      "[7]\tvalidation_0-rmse:0.98333\tvalidation_1-rmse:0.88991\n",
      "[8]\tvalidation_0-rmse:0.95497\tvalidation_1-rmse:0.88551\n",
      "[9]\tvalidation_0-rmse:0.93594\tvalidation_1-rmse:0.89270\n",
      "[10]\tvalidation_0-rmse:0.92590\tvalidation_1-rmse:0.88635\n",
      "[11]\tvalidation_0-rmse:0.91987\tvalidation_1-rmse:0.88792\n",
      "[12]\tvalidation_0-rmse:0.91536\tvalidation_1-rmse:0.88698\n",
      "[13]\tvalidation_0-rmse:0.91209\tvalidation_1-rmse:0.88920\n",
      "[14]\tvalidation_0-rmse:0.90738\tvalidation_1-rmse:0.90868\n",
      "[15]\tvalidation_0-rmse:0.90385\tvalidation_1-rmse:0.91473\n",
      "[16]\tvalidation_0-rmse:0.89890\tvalidation_1-rmse:0.92159\n",
      "[17]\tvalidation_0-rmse:0.89622\tvalidation_1-rmse:0.92630\n",
      "[18]\tvalidation_0-rmse:0.89197\tvalidation_1-rmse:0.90998\n"
     ]
    },
    {
     "data": {
      "text/plain": [
       "XGBRegressor(base_score=0.5, booster='gbtree', colsample_bylevel=1,\n",
       "             colsample_bynode=1, colsample_bytree=0.8, enable_categorical=False,\n",
       "             eta=0.3, gamma=0, gpu_id=-1, importance_type=None,\n",
       "             interaction_constraints='', learning_rate=0.300000012,\n",
       "             max_delta_step=0, max_depth=8, min_child_weight=300, missing=nan,\n",
       "             monotone_constraints='()', n_estimators=1000, n_jobs=4,\n",
       "             num_parallel_tree=1, predictor='auto', random_state=42,\n",
       "             reg_alpha=0, reg_lambda=1, scale_pos_weight=1, seed=42,\n",
       "             subsample=0.8, tree_method='exact', validate_parameters=1,\n",
       "             verbosity=None)"
      ]
     },
     "execution_count": 18,
     "metadata": {},
     "output_type": "execute_result"
    }
   ],
   "source": [
    "model = XGBRegressor(\n",
    "    max_depth=8,          # 한 tree의 최대 깊이 설정, 숫자를 키우면 모델 복잡도가 커져 과적합이 될 수 있음\n",
    "    n_estimators=1000,    # 생성할 tree의 개수\n",
    "    min_child_weight=300, # 관측치에 대한 가중치의 합의 최소. 과적합 조절 용도\n",
    "    colsample_bytree=0.8, # tree 생성에 필요한 feature의 샘플링에 사용. 피쳐가 많을 때 과적합 조절에 사용\n",
    "    subsample=0.8,        # 데이터 샘플링 비율 지정(과적합 제어)\n",
    "    eta=0.3,              # learning rate. 트리에 가지가 많을수록 과적합 하기가 쉬워짐 \n",
    "    seed=42)\n",
    "\n",
    "model.fit(\n",
    "    x_train, \n",
    "    y_train, \n",
    "    eval_metric=\"rmse\", \n",
    "    eval_set=[(x_train, y_train), (x_valid, y_valid)], \n",
    "    verbose=True, \n",
    "    early_stopping_rounds = 10)"
   ]
  },
  {
   "cell_type": "code",
   "execution_count": 19,
   "id": "f0f2f58f",
   "metadata": {},
   "outputs": [],
   "source": [
    "y_pred = model.predict(x_valid).clip(0, 20)\n",
    "y_test = model.predict(x_test).clip(0, 20)"
   ]
  },
  {
   "cell_type": "code",
   "execution_count": 20,
   "id": "ab56957f",
   "metadata": {},
   "outputs": [],
   "source": [
    "submission = pd.DataFrame({\n",
    "    \"ID\": test.index, \n",
    "    \"item_cnt_month\": y_test\n",
    "})\n",
    "submission.to_csv('xgb_submission4.csv', index=False)\n",
    "\n",
    "# save predictions for an ensemble\n",
    "pickle.dump(y_pred, open('xgb_train.pickle', 'wb'))\n",
    "pickle.dump(y_test, open('xgb_test.pickle', 'wb'))"
   ]
  },
  {
   "cell_type": "markdown",
   "id": "46ee6dcc",
   "metadata": {},
   "source": [
    "### 5.1.2. feature importance 확인"
   ]
  },
  {
   "cell_type": "code",
   "execution_count": 10,
   "id": "2698e748",
   "metadata": {},
   "outputs": [
    {
     "data": {
      "text/plain": [
       "<AxesSubplot:title={'center':'Feature importance'}, xlabel='F score', ylabel='Features'>"
      ]
     },
     "execution_count": 10,
     "metadata": {},
     "output_type": "execute_result"
    },
    {
     "data": {
      "image/png": "[encoded data removed]",
      "text/plain": [
       "<Figure size 432x288 with 1 Axes>"
      ]
     },
     "metadata": {
      "needs_background": "light"
     },
     "output_type": "display_data"
    }
   ],
   "source": [
    "plot_importance(model)"
   ]
  },
  {
   "cell_type": "markdown",
   "id": "33636570",
   "metadata": {},
   "source": [
    "## 5.2 catboost"
   ]
  },
  {
   "cell_type": "markdown",
   "id": "ddf92ac6",
   "metadata": {},
   "source": [
    "### 5.2.1. catboost 돌리기"
   ]
  },
  {
   "cell_type": "code",
   "execution_count": 217,
   "id": "75eb7b69",
   "metadata": {},
   "outputs": [
    {
     "name": "stdout",
     "output_type": "stream",
     "text": [
      "Learning rate set to 0.235982\n",
      "0:\tlearn: 5.9701027\ttest: 5.3147388\tbest: 5.3147388 (0)\ttotal: 290ms\tremaining: 2m 24s\n",
      "50:\tlearn: 1.0983889\ttest: 0.9851922\tbest: 0.9774862 (45)\ttotal: 4.18s\tremaining: 36.8s\n",
      "100:\tlearn: 1.0653414\ttest: 0.9618631\tbest: 0.9618631 (100)\ttotal: 8.29s\tremaining: 32.7s\n",
      "Stopped by overfitting detector  (25 iterations wait)\n",
      "\n",
      "bestTest = 0.9559235426\n",
      "bestIteration = 119\n",
      "\n",
      "Shrink model to first 120 iterations.\n"
     ]
    },
    {
     "data": {
      "text/plain": [
       "<catboost.core.CatBoostRegressor at 0x1f44ebef070>"
      ]
     },
     "execution_count": 217,
     "metadata": {},
     "output_type": "execute_result"
    }
   ],
   "source": [
    "cat_features = [0, 1, 7, 8]\n",
    "\n",
    "catboost_model = CatBoostRegressor(\n",
    "    iterations=500,\n",
    "    max_ctr_complexity=4,\n",
    "    random_seed=0,\n",
    "    od_type='Iter',\n",
    "    od_wait=25,\n",
    "    verbose=50,\n",
    "    depth=4\n",
    ")\n",
    "\n",
    "catboost_model.fit(\n",
    "    x_train, y_train,\n",
    "    cat_features=[],\n",
    "    eval_set=(x_valid, y_valid)\n",
    ")\n"
   ]
  },
  {
   "cell_type": "markdown",
   "id": "6e827e95",
   "metadata": {},
   "source": [
    "### 5.2.2 feature importance 확인"
   ]
  },
  {
   "cell_type": "code",
   "execution_count": 218,
   "id": "8c7a819f",
   "metadata": {},
   "outputs": [
    {
     "data": {
      "image/png": "[encoded data removed]",
      "text/plain": [
       "<Figure size 1368x432 with 1 Axes>"
      ]
     },
     "metadata": {
      "needs_background": "light"
     },
     "output_type": "display_data"
    }
   ],
   "source": [
    "feature_score = pd.DataFrame(list(zip(x_train.dtypes.index, catboost_model.get_feature_importance(Pool(x_train, label=y_train, cat_features=[])))), columns=['Feature','Score'])\n",
    "feature_score = feature_score.sort_values(by='Score', ascending=False, inplace=False, kind='quicksort', na_position='last')\n",
    "\n",
    "plt.rcParams[\"figure.figsize\"] = (19, 6)\n",
    "ax = feature_score.plot('Feature', 'Score', kind='bar', color='c')\n",
    "ax.set_title(\"Catboost Feature Importance Ranking\", fontsize = 14)\n",
    "ax.set_xlabel('')\n",
    "rects = ax.patches\n",
    "labels = feature_score['Score'].round(2)\n",
    "\n",
    "for rect, label in zip(rects, labels):\n",
    "    height = rect.get_height()\n",
    "    ax.text(rect.get_x() + rect.get_width()/2, height + 0.35, label, ha='center', va='bottom')\n",
    "\n",
    "plt.show()"
   ]
  },
  {
   "cell_type": "markdown",
   "id": "ea5a9b20",
   "metadata": {},
   "source": [
    "### 5.2.3 rmse값 확인"
   ]
  },
  {
   "cell_type": "code",
   "execution_count": 219,
   "id": "c7f917ad",
   "metadata": {
    "scrolled": true
   },
   "outputs": [
    {
     "name": "stdout",
     "output_type": "stream",
     "text": [
      "Train rmse: 1.0557706310835524\n",
      "Validation rmse: 0.9559235425826185\n"
     ]
    }
   ],
   "source": [
    "catboost_train_pred = catboost_model.predict(x_train)\n",
    "catboost_val_pred = catboost_model.predict(x_valid)\n",
    "catboost_test_pred = catboost_model.predict(x_test)\n",
    "\n",
    "print('Train rmse:', np.sqrt(mean_squared_error(y_train, catboost_train_pred)))\n",
    "print('Validation rmse:', np.sqrt(mean_squared_error(y_valid, catboost_val_pred)))"
   ]
  },
  {
   "cell_type": "markdown",
   "id": "b509f0ef",
   "metadata": {},
   "source": [
    "## 5.3 Random Forest"
   ]
  },
  {
   "cell_type": "markdown",
   "id": "ba728372",
   "metadata": {},
   "source": [
    "### 5.3.1 Random Forest 돌리기"
   ]
  },
  {
   "cell_type": "code",
   "execution_count": 221,
   "id": "885e0b16",
   "metadata": {},
   "outputs": [
    {
     "data": {
      "text/plain": [
       "RandomForestRegressor(max_depth=7, n_estimators=50, n_jobs=-1, random_state=42)"
      ]
     },
     "execution_count": 221,
     "metadata": {},
     "output_type": "execute_result"
    }
   ],
   "source": [
    "rf_model = RandomForestRegressor(n_estimators=50, max_depth=7, random_state=42, n_jobs=-1)\n",
    "rf_model.fit(x_train, y_train)\n"
   ]
  },
  {
   "cell_type": "markdown",
   "id": "8f9905b2",
   "metadata": {},
   "source": [
    "### 5.3.2 rmse값 확인"
   ]
  },
  {
   "cell_type": "code",
   "execution_count": 223,
   "id": "672d6e31",
   "metadata": {},
   "outputs": [
    {
     "name": "stdout",
     "output_type": "stream",
     "text": [
      "Train rmse: 1.1114324453658115\n",
      "Validation rmse: 1.0046878025257933\n"
     ]
    }
   ],
   "source": [
    "rf_train_pred = rf_model.predict(x_train)\n",
    "rf_val_pred = rf_model.predict(x_valid)\n",
    "rf_test_pred = rf_model.predict(x_test).clip(0, 20)\n",
    "\n",
    "print('Train rmse:', np.sqrt(mean_squared_error(y_train, rf_train_pred)))\n",
    "print('Validation rmse:', np.sqrt(mean_squared_error(y_valid, rf_val_pred)))"
   ]
  },
  {
   "cell_type": "markdown",
   "id": "3ed7e377",
   "metadata": {},
   "source": [
    " ## 5.4 Linear Regression"
   ]
  },
  {
   "cell_type": "markdown",
   "id": "a7d93af0",
   "metadata": {},
   "source": [
    "### 5.4.1 스케일링"
   ]
  },
  {
   "cell_type": "code",
   "execution_count": 224,
   "id": "9ed8d968",
   "metadata": {},
   "outputs": [],
   "source": [
    "lr_scaler = MinMaxScaler()\n",
    "lr_scaler.fit(x_train)\n",
    "lr_train = lr_scaler.transform(x_train)\n",
    "lr_val = lr_scaler.transform(x_valid)\n",
    "lr_test = lr_scaler.transform(x_test)"
   ]
  },
  {
   "cell_type": "markdown",
   "id": "6ac68712",
   "metadata": {},
   "source": [
    "### 5.4.2 Linear Regression 돌리기"
   ]
  },
  {
   "cell_type": "code",
   "execution_count": 226,
   "id": "01c9cf93",
   "metadata": {},
   "outputs": [
    {
     "data": {
      "text/plain": [
       "LinearRegression(n_jobs=-1)"
      ]
     },
     "execution_count": 226,
     "metadata": {},
     "output_type": "execute_result"
    }
   ],
   "source": [
    "lr_model = LinearRegression(n_jobs=-1)\n",
    "lr_model.fit(lr_train, y_train)"
   ]
  },
  {
   "cell_type": "markdown",
   "id": "6ac9f0fe",
   "metadata": {},
   "source": [
    "### 5.4.3 rmse값 확인"
   ]
  },
  {
   "cell_type": "code",
   "execution_count": 227,
   "id": "9c72366c",
   "metadata": {},
   "outputs": [
    {
     "name": "stdout",
     "output_type": "stream",
     "text": [
      "Train rmse: 1.1287340366529623\n",
      "Validation rmse: 1.0188145973327514\n"
     ]
    }
   ],
   "source": [
    "lr_train_pred = lr_model.predict(lr_train)\n",
    "lr_val_pred = lr_model.predict(lr_val)\n",
    "lr_test_pred = lr_model.predict(lr_test).clip(0, 20)\n",
    "print('Train rmse:', np.sqrt(mean_squared_error(y_train, lr_train_pred)))\n",
    "print('Validation rmse:', np.sqrt(mean_squared_error(y_valid, lr_val_pred)))"
   ]
  },
  {
   "cell_type": "markdown",
   "id": "f092592d",
   "metadata": {},
   "source": [
    "## 5.5 AdaBoost Regressor"
   ]
  },
  {
   "cell_type": "markdown",
   "id": "73ccdfbc",
   "metadata": {},
   "source": [
    "### 5.5.1 AdaBoost 돌리기"
   ]
  },
  {
   "cell_type": "code",
   "execution_count": 232,
   "id": "64c60313",
   "metadata": {},
   "outputs": [
    {
     "data": {
      "text/plain": [
       "AdaBoostRegressor(n_estimators=100, random_state=42)"
      ]
     },
     "execution_count": 232,
     "metadata": {},
     "output_type": "execute_result"
    }
   ],
   "source": [
    "model_ada = AdaBoostRegressor(random_state=42, n_estimators=100)\n",
    "model_ada.fit(x_train, y_train)\n"
   ]
  },
  {
   "cell_type": "markdown",
   "id": "8960dadd",
   "metadata": {},
   "source": [
    "### 5.5.2 rmse값 확인"
   ]
  },
  {
   "cell_type": "code",
   "execution_count": 234,
   "id": "d7da66c6",
   "metadata": {},
   "outputs": [
    {
     "name": "stdout",
     "output_type": "stream",
     "text": [
      "Train rmse: 1.2771636788726368\n",
      "Validation rmse: 1.0046878025257933\n"
     ]
    }
   ],
   "source": [
    "ada_train_pred = model_ada.predict(x_train)\n",
    "ada_val_pred = rf_model.predict(x_valid)\n",
    "ada_test_pred = rf_model.predict(x_test).clip(0, 20)\n",
    "\n",
    "print('Train rmse:', np.sqrt(mean_squared_error(y_train, ada_train_pred)))\n",
    "print('Validation rmse:', np.sqrt(mean_squared_error(y_valid, ada_val_pred)))"
   ]
  },
  {
   "cell_type": "markdown",
   "id": "9ebc2d6d",
   "metadata": {},
   "source": [
    "## 5.6 LightGBM"
   ]
  },
  {
   "cell_type": "markdown",
   "id": "eb3dde86",
   "metadata": {},
   "source": [
    "### 5.6.1 LightGBM 돌리기"
   ]
  },
  {
   "cell_type": "code",
   "execution_count": 236,
   "id": "d5ab8bb4",
   "metadata": {
    "scrolled": true
   },
   "outputs": [
    {
     "name": "stdout",
     "output_type": "stream",
     "text": [
      "Training time, it is...\n"
     ]
    },
    {
     "data": {
      "text/plain": [
       "LGBMRegressor(colsample_bytree=0.9497036, learning_rate=0.03, max_depth=8,\n",
       "              min_child_weight=40, min_split_gain=0.0222415, n_estimators=200,\n",
       "              num_leaves=32, reg_alpha=0.04, reg_lambda=0.073,\n",
       "              subsample=0.8715623)"
      ]
     },
     "execution_count": 236,
     "metadata": {},
     "output_type": "execute_result"
    }
   ],
   "source": [
    "model=LGBMRegressor(\n",
    "        n_estimators=200,\n",
    "        learning_rate=0.03,\n",
    "        num_leaves=32,\n",
    "        colsample_bytree=0.9497036,\n",
    "        subsample=0.8715623,\n",
    "        max_depth=8,\n",
    "        reg_alpha=0.04,\n",
    "        reg_lambda=0.073,\n",
    "        min_split_gain=0.0222415,\n",
    "        min_child_weight=40)\n",
    "model.fit(x_train, y_train)\n"
   ]
  },
  {
   "cell_type": "markdown",
   "id": "ea212903",
   "metadata": {},
   "source": [
    "###  5.6.2 rmse값 확인"
   ]
  },
  {
   "cell_type": "code",
   "execution_count": 238,
   "id": "252e4234",
   "metadata": {},
   "outputs": [
    {
     "name": "stdout",
     "output_type": "stream",
     "text": [
      "Train rmse: 1.0081058135830772\n",
      "Validation rmse: 1.011880769410163\n"
     ]
    }
   ],
   "source": [
    "lgbm_train_pred = model.predict(x_train)\n",
    "lgbm_val_pred = model.predict(x_valid)\n",
    "lgbm_test_pred = model.predict(x_test).clip(0, 20)\n",
    "\n",
    "print('Train rmse:', np.sqrt(mean_squared_error(y_train, lgbm_train_pred)))\n",
    "print('Validation rmse:', np.sqrt(mean_squared_error(y_valid, lgbm_val_pred)))"
   ]
  },
  {
   "cell_type": "markdown",
   "id": "e47b23aa",
   "metadata": {},
   "source": [
    "## 5.7 Ensemble\n"
   ]
  },
  {
   "cell_type": "markdown",
   "id": "80400bbd",
   "metadata": {},
   "source": [
    "### 5.7.1 train & test  first level 지정"
   ]
  },
  {
   "cell_type": "code",
   "execution_count": 248,
   "id": "035df481",
   "metadata": {},
   "outputs": [],
   "source": [
    "first_level = pd.DataFrame(catboost_val_pred, columns=['catboost'])\n",
    "first_level['xgbm'] = xgb_val_pred\n",
    "first_level['random_forest'] = rf_val_pred\n",
    "first_level['linear_regression'] = lr_val_pred\n",
    "first_level['adaboost_regression'] = ada_val_pred\n",
    "first_level['lightGBM'] = lgbm_val_pred\n",
    "first_level['label'] = y_valid.values\n",
    "\n",
    "first_level_test = pd.DataFrame(catboost_test_pred, columns=['catboost'])\n",
    "first_level_test['xgbm'] = xgb_test_pred\n",
    "first_level_test['random_forest'] = rf_test_pred\n",
    "first_level_test['linear_regression'] = lr_test_pred\n",
    "first_level_test['adaboost_regression'] = ada_test_pred\n",
    "first_level_test['lightGBM'] = lgbm_test_pred"
   ]
  },
  {
   "cell_type": "markdown",
   "id": "101d7f51",
   "metadata": {},
   "source": [
    "### 5.7.2. second level로 XGboost 지정"
   ]
  },
  {
   "cell_type": "code",
   "execution_count": 249,
   "id": "c4ee520b",
   "metadata": {},
   "outputs": [
    {
     "data": {
      "text/plain": [
       "XGBRegressor(base_score=0.5, booster='gbtree', colsample_bylevel=1,\n",
       "             colsample_bynode=1, colsample_bytree=1, enable_categorical=False,\n",
       "             gamma=0, gpu_id=-1, importance_type=None,\n",
       "             interaction_constraints='', learning_rate=0.300000012,\n",
       "             max_delta_step=0, max_depth=6, min_child_weight=1, missing=nan,\n",
       "             monotone_constraints='()', n_estimators=100, n_jobs=-1,\n",
       "             num_parallel_tree=1, predictor='auto', random_state=0, reg_alpha=0,\n",
       "             reg_lambda=1, scale_pos_weight=1, subsample=1, tree_method='exact',\n",
       "             validate_parameters=1, verbosity=None)"
      ]
     },
     "execution_count": 249,
     "metadata": {},
     "output_type": "execute_result"
    }
   ],
   "source": [
    "meta_model = XGBRegressor(n_jobs=-1)\n",
    "first_level.drop('label', axis=1, inplace=True)\n",
    "meta_model.fit(first_level, y_valid)"
   ]
  },
  {
   "cell_type": "markdown",
   "id": "a9bd949c",
   "metadata": {},
   "source": [
    "### 5.7.3 rmse값 확인"
   ]
  },
  {
   "cell_type": "code",
   "execution_count": 250,
   "id": "2ef66d07",
   "metadata": {},
   "outputs": [
    {
     "name": "stdout",
     "output_type": "stream",
     "text": [
      "Train rmse: 0.5590078\n"
     ]
    }
   ],
   "source": [
    "ensemble_pred = meta_model.predict(first_level)\n",
    "final_predictions = meta_model.predict(first_level_test)\n",
    "print('Train rmse:', np.sqrt(mean_squared_error(ensemble_pred, y_valid)))"
   ]
  }
 ],
 "metadata": {
  "colab": {
   "collapsed_sections": [],
   "name": "Predict Future Sales_0225(rework).ipynb",
   "provenance": []
  },
  "kernelspec": {
   "display_name": "Python 3 (ipykernel)",
   "language": "python",
   "name": "python3"
  },
  "language_info": {
   "codemirror_mode": {
    "name": "ipython",
    "version": 3
   },
   "file_extension": ".py",
   "mimetype": "text/x-python",
   "name": "python",
   "nbconvert_exporter": "python",
   "pygments_lexer": "ipython3",
   "version": "3.9.7"
  }
 },
 "nbformat": 4,
 "nbformat_minor": 5
}
